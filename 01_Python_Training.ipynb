{
  "nbformat": 4,
  "nbformat_minor": 0,
  "metadata": {
    "colab": {
      "name": "01 Python Training.ipynb",
      "provenance": [],
      "collapsed_sections": [
        "iFNAiR7bQ80q",
        "WSWQT7PsQ80z",
        "Vxs61TtkQ803",
        "nDkdd65VQ805",
        "l3ujLB1tQ81D",
        "3a5ezwU5Q81F",
        "n18VcNpzQ81N",
        "FAu9lfHnQ81S",
        "80ypUw9ZQ81V",
        "RUpw2cBCQ81Y",
        "d3yV1qWWQ81i",
        "_wF2YMNhQ81l",
        "ddVx3cMNQ81w",
        "fippEx6pQ81w",
        "vWtu2d9NQ818",
        "VJ0J4knIQ82A",
        "lEgKvd-vQ82H",
        "8MYlaidrQ82J",
        "ARuID2yxQ82T",
        "RbwvNAzKQ82c",
        "nOSyrv-yQ82j",
        "0FWRwg4FQ82k",
        "OBsOcfBZQ82n",
        "xroiGgd4Q82o",
        "7ICxdBDWQ82q",
        "dnjQC2wuQ82r",
        "NZV4keqbQ820",
        "iIW7HKJgQ821",
        "Kr-zFV96Q823",
        "huHMzWhCQ824",
        "cOxZcLSkQ826",
        "1JRvQlH9Q827",
        "35rsM0PZQ829",
        "4o_Bb0rfQ82-",
        "W5ub5QK3Q83A",
        "ygH-fUxaQ83D",
        "RqohopNlQ83D",
        "-tkRgrjCQ83F",
        "Mf_i8NMoQ83G",
        "o93roDtxQ83H",
        "g4-XDCHDQ83I",
        "i_FHi4CyQ83K",
        "_tNKCnFWQ83L",
        "nNhNjn8AQ83L",
        "8aKt0WylQ83N",
        "IrFncY00Q83O",
        "atnAX_MUQ83R",
        "9yJyBcKAQ83R",
        "HcdWOHTeQ83T",
        "RxXU6sLNQ83T",
        "FoJ5JXYAQ83V",
        "5wR0WTRjQ83V",
        "3cVriMYaQ83i",
        "4zli-UCkQ83k",
        "ODIRQ2pUQ83l",
        "cZLwf0GFQ83s",
        "kJTHwzv9Q83t",
        "BDPY5ysGQ83t",
        "z1qYHAVzQ83v",
        "VHW3O_BsQ83w",
        "SbG2IR8dQ83x",
        "KIYpVt0aQ83y",
        "rNQYcLW9Q83z",
        "9Ksadn9LQ833",
        "tNd-aQInQ83-",
        "uKzS9mxkQ83_",
        "a3N8R-hUQ84D",
        "0lFGvszPQ84G",
        "gDF-BOeXQ84H",
        "LT3CCggoQ84L",
        "5iLnJ9ppQ84M",
        "3MeGYMLkQ84Q",
        "nhrxWBRyQ84S",
        "DbdylHi9Q84V",
        "WqLUqAH5Q84V",
        "zjiV8KcZQ84V",
        "hX2NZ8oaQ84i",
        "o_kNBir8Q84s",
        "mXEarCdWQ84x",
        "aQV42W7sQ848",
        "2fWt4UmlQ85A",
        "0mXAWHs1Q85A",
        "Y7L7Ddx8Q85B",
        "VuzcsRgVQ85G",
        "pTTds8AyQ85J",
        "rIW1Na4bQ85L",
        "NPL4K2S9Q85N",
        "d1c-2gELQ85N",
        "BJV-KfAIQ85P"
      ],
      "toc_visible": true,
      "include_colab_link": true
    },
    "language_info": {
      "codemirror_mode": {
        "name": "ipython",
        "version": 3
      },
      "file_extension": ".py",
      "mimetype": "text/x-python",
      "name": "python",
      "nbconvert_exporter": "python",
      "pygments_lexer": "ipython3",
      "version": "3.5.2"
    },
    "kernelspec": {
      "name": "python3",
      "display_name": "Python 3"
    },
    "accelerator": "TPU"
  },
  "cells": [
    {
      "cell_type": "markdown",
      "metadata": {
        "id": "view-in-github",
        "colab_type": "text"
      },
      "source": [
        "<a href=\"https://colab.research.google.com/github/sagunkayastha/ILab_Tutorials/blob/master/01_Python_Training.ipynb\" target=\"_parent\"><img src=\"https://colab.research.google.com/assets/colab-badge.svg\" alt=\"Open In Colab\"/></a>"
      ]
    },
    {
      "cell_type": "markdown",
      "metadata": {
        "id": "uae9z0UBQ8zU",
        "colab_type": "text"
      },
      "source": [
        "<h1>Python Introduction</h1>\n",
        "<br>\n",
        "<ul>\n",
        "<li>Interpreted, High level Programming language</li>\n",
        "<li>High emphasis on code readability</li>\n",
        "<li>Open Source</li>\n",
        "<li>Batteries Included</li>\n",
        "<li><b>Garbage Collection</b></li>\n",
        "<li>No need to declare variable and its data type</li>\n",
        "</ul>"
      ]
    },
    {
      "cell_type": "markdown",
      "metadata": {
        "id": "i6U-VPhnQ8zY",
        "colab_type": "text"
      },
      "source": [
        "<h2>Package Manager</h2>\n",
        "<br>\n",
        "<b>pip</b>\n",
        "<br>\n",
        "<ul>\n",
        "<li>installs packages from Python Package Index</li>\n",
        "<li>only installs python packages</li>\n",
        "<li>around 150,000 packages available in PyPi</li>\n",
        "</ul>"
      ]
    },
    {
      "cell_type": "markdown",
      "metadata": {
        "id": "FU6T0vnbQ8za",
        "colab_type": "text"
      },
      "source": [
        "# Built-in Datatypes\n",
        "- int\n",
        "- float\n",
        "- bool"
      ]
    },
    {
      "cell_type": "markdown",
      "metadata": {
        "id": "kSiEcYkYQ8ze",
        "colab_type": "text"
      },
      "source": [
        "# Built-in Data Structures\n",
        "- list\n",
        "- str (string)\n",
        "- tuple\n",
        "- set\n",
        "- dict (dictionary)"
      ]
    },
    {
      "cell_type": "markdown",
      "metadata": {
        "id": "qRbYkH8RQ8zf",
        "colab_type": "text"
      },
      "source": [
        "<span style=\"color:red\">##################################################################################################################</span><br>\n",
        "<span style=\"color:red\">##################################################################################################################</span><br>"
      ]
    },
    {
      "cell_type": "markdown",
      "metadata": {
        "id": "L_UAd1EaQ8zh",
        "colab_type": "text"
      },
      "source": [
        "# list\n",
        "- Data structure that is mutable, ordered sequence of elements written in between [ ] \n",
        "- Eg. superheroes = ['batman', 'saitama', 'superman', 'spiderman']"
      ]
    },
    {
      "cell_type": "markdown",
      "metadata": {
        "id": "rGm8Wd5nQ8zj",
        "colab_type": "text"
      },
      "source": [
        "**So, let's make a list of superheros and save them in a variable named 'superheroes'**"
      ]
    },
    {
      "cell_type": "code",
      "metadata": {
        "id": "ue0VWsxHQ8zl",
        "colab_type": "code",
        "outputId": "5bd37582-5d7a-43a6-c272-2d05283b8d2c",
        "colab": {
          "base_uri": "https://localhost:8080/",
          "height": 34
        }
      },
      "source": [
        "superheroes = ['batman', 'saitama', 'superman', 'spiderman']\n",
        "print (superheroes)"
      ],
      "execution_count": 0,
      "outputs": [
        {
          "output_type": "stream",
          "text": [
            "['batman', 'saitama', 'superman', 'spiderman']\n"
          ],
          "name": "stdout"
        }
      ]
    },
    {
      "cell_type": "markdown",
      "metadata": {
        "id": "9NGEaYcKQ8zq",
        "colab_type": "text"
      },
      "source": [
        "**Previously, we mentioned the terms 'mutable' and 'ordered sequence'. Let's understand them.**"
      ]
    },
    {
      "cell_type": "markdown",
      "metadata": {
        "id": "yf5fMjkRQ8zr",
        "colab_type": "text"
      },
      "source": [
        "- _**ordered sequence**_<br>\n",
        "  contains a sequence of elements in a specific order"
      ]
    },
    {
      "cell_type": "markdown",
      "metadata": {
        "id": "PODGg4AlQ8zu",
        "colab_type": "text"
      },
      "source": [
        "- _**mutable**_<br>\n",
        "  can be changed or altered"
      ]
    },
    {
      "cell_type": "markdown",
      "metadata": {
        "id": "CTcSaxWcQ8zv",
        "colab_type": "text"
      },
      "source": [
        "**Indexing**\n",
        "- Each element in a list corresponds to an index number\n",
        "- Index is an integer value starting with 0"
      ]
    },
    {
      "cell_type": "markdown",
      "metadata": {
        "id": "0KQ7GviPQ8zw",
        "colab_type": "text"
      },
      "source": [
        "_**Index breakdown of the list looks like this:**_\n",
        "<table>\n",
        "    <tr>\n",
        "        <td>ELEMENT</td>\n",
        "        <td>batman</td>\n",
        "        <td>saitama</td>\n",
        "        <td>superman</td>\n",
        "        <td>spiderman</td>\n",
        "    </tr>\n",
        "    <tr>\n",
        "        <td>INDEX</td>\n",
        "        <td>0</td>\n",
        "        <td>1</td>\n",
        "        <td>2</td>\n",
        "        <td>3</td>\n",
        "    </tr>\n",
        "</table>"
      ]
    },
    {
      "cell_type": "code",
      "metadata": {
        "id": "kn8jAWFHQ8zy",
        "colab_type": "code",
        "outputId": "6dbb3aee-8305-4458-b922-9e7c0917c656",
        "colab": {
          "base_uri": "https://localhost:8080/",
          "height": 34
        }
      },
      "source": [
        "print (len(superheroes))"
      ],
      "execution_count": 0,
      "outputs": [
        {
          "output_type": "stream",
          "text": [
            "4\n"
          ],
          "name": "stdout"
        }
      ]
    },
    {
      "cell_type": "code",
      "metadata": {
        "id": "h-uUh8oCQ8z1",
        "colab_type": "code",
        "outputId": "60e5fe3c-1db9-40d1-f080-f42669b1f88a",
        "colab": {
          "base_uri": "https://localhost:8080/",
          "height": 34
        }
      },
      "source": [
        "print (superheroes[0])"
      ],
      "execution_count": 0,
      "outputs": [
        {
          "output_type": "stream",
          "text": [
            "batman\n"
          ],
          "name": "stdout"
        }
      ]
    },
    {
      "cell_type": "code",
      "metadata": {
        "id": "s7ROXZ6mQ8z5",
        "colab_type": "code",
        "outputId": "e436bc0b-b090-4f57-92d6-7c2812b57561",
        "colab": {
          "base_uri": "https://localhost:8080/",
          "height": 34
        }
      },
      "source": [
        "print (superheroes[3])"
      ],
      "execution_count": 0,
      "outputs": [
        {
          "output_type": "stream",
          "text": [
            "spiderman\n"
          ],
          "name": "stdout"
        }
      ]
    },
    {
      "cell_type": "code",
      "metadata": {
        "scrolled": true,
        "id": "MMkKaMEaQ8z9",
        "colab_type": "code",
        "outputId": "e0b33b96-6b73-4529-c2ea-0dcb07832149",
        "colab": {
          "base_uri": "https://localhost:8080/",
          "height": 166
        }
      },
      "source": [
        "print (superheroes[4])"
      ],
      "execution_count": 0,
      "outputs": [
        {
          "output_type": "error",
          "ename": "IndexError",
          "evalue": "ignored",
          "traceback": [
            "\u001b[0;31m---------------------------------------------------------------------------\u001b[0m",
            "\u001b[0;31mIndexError\u001b[0m                                Traceback (most recent call last)",
            "\u001b[0;32m<ipython-input-6-df073b14021d>\u001b[0m in \u001b[0;36m<module>\u001b[0;34m()\u001b[0m\n\u001b[0;32m----> 1\u001b[0;31m \u001b[0mprint\u001b[0m \u001b[0;34m(\u001b[0m\u001b[0msuperheroes\u001b[0m\u001b[0;34m[\u001b[0m\u001b[0;36m4\u001b[0m\u001b[0;34m]\u001b[0m\u001b[0;34m)\u001b[0m\u001b[0;34m\u001b[0m\u001b[0;34m\u001b[0m\u001b[0m\n\u001b[0m",
            "\u001b[0;31mIndexError\u001b[0m: list index out of range"
          ]
        }
      ]
    },
    {
      "cell_type": "markdown",
      "metadata": {
        "id": "RllwmEBLQ80C",
        "colab_type": "text"
      },
      "source": [
        "**Write a line of code that prints out '%your name% is the batman'**"
      ]
    },
    {
      "cell_type": "code",
      "metadata": {
        "id": "GuztFziwQ80D",
        "colab_type": "code",
        "colab": {}
      },
      "source": [
        ""
      ],
      "execution_count": 0,
      "outputs": []
    },
    {
      "cell_type": "markdown",
      "metadata": {
        "id": "AvypyRJ5Q80G",
        "colab_type": "text"
      },
      "source": [
        "**Replace the superhero in index position 3 with the name of your favourite superhero**"
      ]
    },
    {
      "cell_type": "code",
      "metadata": {
        "id": "ir21dSxPQ80J",
        "colab_type": "code",
        "colab": {}
      },
      "source": [
        ""
      ],
      "execution_count": 0,
      "outputs": []
    },
    {
      "cell_type": "markdown",
      "metadata": {
        "id": "yPiNXioNQ80M",
        "colab_type": "text"
      },
      "source": [
        "**Print the elements of the new list**"
      ]
    },
    {
      "cell_type": "code",
      "metadata": {
        "id": "0-2GteOVQ80N",
        "colab_type": "code",
        "colab": {}
      },
      "source": [
        ""
      ],
      "execution_count": 0,
      "outputs": []
    },
    {
      "cell_type": "markdown",
      "metadata": {
        "id": "RxT9VaOaQ80P",
        "colab_type": "text"
      },
      "source": [
        "<br>\n",
        "<br>"
      ]
    },
    {
      "cell_type": "markdown",
      "metadata": {
        "id": "mqk7t2bEQ80Q",
        "colab_type": "text"
      },
      "source": [
        "## Slicing"
      ]
    },
    {
      "cell_type": "markdown",
      "metadata": {
        "id": "Bvw4mJqDQ80R",
        "colab_type": "text"
      },
      "source": [
        "**Get only two superheroes in the middle from the list**"
      ]
    },
    {
      "cell_type": "code",
      "metadata": {
        "id": "F5sI9cXhQ80S",
        "colab_type": "code",
        "colab": {}
      },
      "source": [
        ""
      ],
      "execution_count": 0,
      "outputs": []
    },
    {
      "cell_type": "markdown",
      "metadata": {
        "id": "P9qnq8qaQ80W",
        "colab_type": "text"
      },
      "source": [
        "**Get only first two superheroes from the list**"
      ]
    },
    {
      "cell_type": "code",
      "metadata": {
        "id": "jE--KVAaQ80X",
        "colab_type": "code",
        "colab": {}
      },
      "source": [
        ""
      ],
      "execution_count": 0,
      "outputs": []
    },
    {
      "cell_type": "markdown",
      "metadata": {
        "id": "cZfYbkZnQ80a",
        "colab_type": "text"
      },
      "source": [
        "**Get only last two superheroes from the list**"
      ]
    },
    {
      "cell_type": "code",
      "metadata": {
        "id": "xAvb1v7ZQ80b",
        "colab_type": "code",
        "colab": {}
      },
      "source": [
        ""
      ],
      "execution_count": 0,
      "outputs": []
    },
    {
      "cell_type": "markdown",
      "metadata": {
        "id": "1wrBJOrEQ80e",
        "colab_type": "text"
      },
      "source": [
        "**Get the superheroes from the alterating positions of the list**"
      ]
    },
    {
      "cell_type": "code",
      "metadata": {
        "id": "1C51FkaeQ80h",
        "colab_type": "code",
        "colab": {}
      },
      "source": [
        ""
      ],
      "execution_count": 0,
      "outputs": []
    },
    {
      "cell_type": "markdown",
      "metadata": {
        "id": "HYTV_NehQ80k",
        "colab_type": "text"
      },
      "source": [
        "## Modifying list with operators"
      ]
    },
    {
      "cell_type": "code",
      "metadata": {
        "id": "MTNtvI7RQ80l",
        "colab_type": "code",
        "outputId": "9be5cc72-903c-4063-aa77-d611d39542c5",
        "colab": {
          "base_uri": "https://localhost:8080/",
          "height": 34
        }
      },
      "source": [
        "print (superheroes + ['ironman', 'hanuman'])"
      ],
      "execution_count": 0,
      "outputs": [
        {
          "output_type": "stream",
          "text": [
            "['batman', 'saitama', 'superman', 'spiderman', 'ironman', 'hanuman']\n"
          ],
          "name": "stdout"
        }
      ]
    },
    {
      "cell_type": "code",
      "metadata": {
        "id": "GClNK3oHQ80n",
        "colab_type": "code",
        "outputId": "f5bd1edb-ee6d-40b1-9a46-cf8f1afb5232",
        "colab": {
          "base_uri": "https://localhost:8080/",
          "height": 54
        }
      },
      "source": [
        "print (superheroes * 2)"
      ],
      "execution_count": 0,
      "outputs": [
        {
          "output_type": "stream",
          "text": [
            "['batman', 'saitama', 'superman', 'spiderman', 'batman', 'saitama', 'superman', 'spiderman']\n"
          ],
          "name": "stdout"
        }
      ]
    },
    {
      "cell_type": "markdown",
      "metadata": {
        "id": "iFNAiR7bQ80q",
        "colab_type": "text"
      },
      "source": [
        "## Removing an item from the list"
      ]
    },
    {
      "cell_type": "code",
      "metadata": {
        "id": "EgCntqnQQ80s",
        "colab_type": "code",
        "outputId": "fcaf55e6-5309-4ab8-cbd7-7df51b2216fb",
        "colab": {
          "base_uri": "https://localhost:8080/",
          "height": 34
        }
      },
      "source": [
        "del superheroes[1]\n",
        "print (superheroes)"
      ],
      "execution_count": 0,
      "outputs": [
        {
          "output_type": "stream",
          "text": [
            "['batman', 'superman', 'spiderman']\n"
          ],
          "name": "stdout"
        }
      ]
    },
    {
      "cell_type": "code",
      "metadata": {
        "id": "SOwhuQtjQ80u",
        "colab_type": "code",
        "colab": {}
      },
      "source": [
        "superheroes = ['batman', 'saitama', 'superman', 'spiderman']"
      ],
      "execution_count": 0,
      "outputs": []
    },
    {
      "cell_type": "code",
      "metadata": {
        "id": "QKS7eR15Q80w",
        "colab_type": "code",
        "colab": {}
      },
      "source": [
        "del superheroes[1:3]\n",
        "print (superheroes)"
      ],
      "execution_count": 0,
      "outputs": []
    },
    {
      "cell_type": "markdown",
      "metadata": {
        "id": "WSWQT7PsQ80z",
        "colab_type": "text"
      },
      "source": [
        "## Nested Lists\n",
        "_list of lists_"
      ]
    },
    {
      "cell_type": "code",
      "metadata": {
        "id": "v950VNMUQ800",
        "colab_type": "code",
        "colab": {}
      },
      "source": [
        "female_superheroes = ['wonder woman', 'jean grey', 'captain marvel', 'storm']"
      ],
      "execution_count": 0,
      "outputs": []
    },
    {
      "cell_type": "code",
      "metadata": {
        "id": "Qu-8QHP7Q801",
        "colab_type": "code",
        "outputId": "e57dfffd-3877-45bf-bb21-4517a95d4d80",
        "colab": {
          "base_uri": "https://localhost:8080/",
          "height": 54
        }
      },
      "source": [
        "all_superheroes = [superheroes, female_superheroes]\n",
        "print (all_superheroes)"
      ],
      "execution_count": 0,
      "outputs": [
        {
          "output_type": "stream",
          "text": [
            "[['batman', 'superman', 'spiderman'], ['wonder woman', 'jean grey', 'captain marvel', 'storm']]\n"
          ],
          "name": "stdout"
        }
      ]
    },
    {
      "cell_type": "markdown",
      "metadata": {
        "id": "Vxs61TtkQ803",
        "colab_type": "text"
      },
      "source": [
        "## List methods"
      ]
    },
    {
      "cell_type": "markdown",
      "metadata": {
        "id": "nDkdd65VQ805",
        "colab_type": "text"
      },
      "source": [
        "- ### append"
      ]
    },
    {
      "cell_type": "code",
      "metadata": {
        "id": "ZdxyVaRGQ805",
        "colab_type": "code",
        "colab": {}
      },
      "source": [
        "all_superheroes = []"
      ],
      "execution_count": 0,
      "outputs": []
    },
    {
      "cell_type": "code",
      "metadata": {
        "id": "k4ChekJxQ809",
        "colab_type": "code",
        "colab": {}
      },
      "source": [
        "all_superheroes.append(superheroes)\n",
        "print (all_superheroes)"
      ],
      "execution_count": 0,
      "outputs": []
    },
    {
      "cell_type": "code",
      "metadata": {
        "id": "JYUMZGBuQ81B",
        "colab_type": "code",
        "colab": {}
      },
      "source": [
        "all_superheroes.append(female_superheroes)\n",
        "print (all_superheroes)"
      ],
      "execution_count": 0,
      "outputs": []
    },
    {
      "cell_type": "markdown",
      "metadata": {
        "id": "l3ujLB1tQ81D",
        "colab_type": "text"
      },
      "source": [
        "#### How would you access the value 'jean grey' from the newly formed list 'all_superheroes'?"
      ]
    },
    {
      "cell_type": "code",
      "metadata": {
        "id": "6KxRpqqvQ81F",
        "colab_type": "code",
        "colab": {}
      },
      "source": [
        ""
      ],
      "execution_count": 0,
      "outputs": []
    },
    {
      "cell_type": "markdown",
      "metadata": {
        "id": "3a5ezwU5Q81F",
        "colab_type": "text"
      },
      "source": [
        "- ### extend"
      ]
    },
    {
      "cell_type": "code",
      "metadata": {
        "id": "ej3ydAUmQ81H",
        "colab_type": "code",
        "colab": {}
      },
      "source": [
        "all_superheroes = []"
      ],
      "execution_count": 0,
      "outputs": []
    },
    {
      "cell_type": "code",
      "metadata": {
        "id": "PeIc0dE2Q81J",
        "colab_type": "code",
        "colab": {}
      },
      "source": [
        "all_superheroes.extend(superheroes)\n",
        "print (all_superheroes)"
      ],
      "execution_count": 0,
      "outputs": []
    },
    {
      "cell_type": "code",
      "metadata": {
        "id": "quB0oxZLQ81L",
        "colab_type": "code",
        "colab": {}
      },
      "source": [
        "all_superheroes.extend(female_superheroes)\n",
        "print (all_superheroes)"
      ],
      "execution_count": 0,
      "outputs": []
    },
    {
      "cell_type": "markdown",
      "metadata": {
        "id": "n18VcNpzQ81N",
        "colab_type": "text"
      },
      "source": [
        "- ### insert"
      ]
    },
    {
      "cell_type": "markdown",
      "metadata": {
        "id": "r7Uo3KEmQ81N",
        "colab_type": "text"
      },
      "source": [
        "_syntax: list.insert(i,x)_\n",
        "<br>\n",
        "_i: position (index)_\n",
        "<br>\n",
        "_x: value to insert_"
      ]
    },
    {
      "cell_type": "code",
      "metadata": {
        "id": "s2Go8WkHQ81O",
        "colab_type": "code",
        "colab": {}
      },
      "source": [
        "all_superheroes.insert(0, 'antman')\n",
        "print (all_superheroes)"
      ],
      "execution_count": 0,
      "outputs": []
    },
    {
      "cell_type": "markdown",
      "metadata": {
        "id": "FAu9lfHnQ81S",
        "colab_type": "text"
      },
      "source": [
        "### Write the equivalent of all_superheroes.append('antman') with all_superheroes.insert"
      ]
    },
    {
      "cell_type": "code",
      "metadata": {
        "id": "gP-5NBNcQ81S",
        "colab_type": "code",
        "colab": {}
      },
      "source": [
        ""
      ],
      "execution_count": 0,
      "outputs": []
    },
    {
      "cell_type": "markdown",
      "metadata": {
        "id": "80ypUw9ZQ81V",
        "colab_type": "text"
      },
      "source": [
        "- ### remove"
      ]
    },
    {
      "cell_type": "code",
      "metadata": {
        "id": "CwE-TpHSQ81V",
        "colab_type": "code",
        "colab": {}
      },
      "source": [
        "all_superheroes.remove('antman')\n",
        "print (all_superheroes)"
      ],
      "execution_count": 0,
      "outputs": []
    },
    {
      "cell_type": "markdown",
      "metadata": {
        "id": "RUpw2cBCQ81Y",
        "colab_type": "text"
      },
      "source": [
        "- ### pop\n",
        "list.pop([i])\n",
        "<br>\n",
        "_i: index value (optional)_"
      ]
    },
    {
      "cell_type": "code",
      "metadata": {
        "id": "ndZEevtUQ81Y",
        "colab_type": "code",
        "colab": {}
      },
      "source": [
        "all_superheroes.pop()\n",
        "print (all_superheroes)"
      ],
      "execution_count": 0,
      "outputs": []
    },
    {
      "cell_type": "code",
      "metadata": {
        "id": "Gr-auRcCQ81a",
        "colab_type": "code",
        "colab": {}
      },
      "source": [
        "all_superheroes.pop(0)\n",
        "print (all_superheroes)"
      ],
      "execution_count": 0,
      "outputs": []
    },
    {
      "cell_type": "markdown",
      "metadata": {
        "id": "kAD718lNQ81d",
        "colab_type": "text"
      },
      "source": [
        "- **Check membership of an element**"
      ]
    },
    {
      "cell_type": "code",
      "metadata": {
        "id": "VwNmOp-ZQ81d",
        "colab_type": "code",
        "colab": {}
      },
      "source": [
        "'superman' in all_superheroes"
      ],
      "execution_count": 0,
      "outputs": []
    },
    {
      "cell_type": "code",
      "metadata": {
        "id": "_Sm43g6xQ81g",
        "colab_type": "code",
        "colab": {}
      },
      "source": [
        "'hanuman' in all_superheroes"
      ],
      "execution_count": 0,
      "outputs": []
    },
    {
      "cell_type": "markdown",
      "metadata": {
        "id": "d3yV1qWWQ81i",
        "colab_type": "text"
      },
      "source": [
        "### For students to research and practice on their own"
      ]
    },
    {
      "cell_type": "markdown",
      "metadata": {
        "id": "wXIvoQ97Q81j",
        "colab_type": "text"
      },
      "source": [
        "- list.clear\n",
        "- list.index\n",
        "- list.count\n",
        "- list.sort\n",
        "- list.reverse\n",
        "- list.copy\n",
        "<br><br>\n",
        "- min(list)\n",
        "- max(list)"
      ]
    },
    {
      "cell_type": "markdown",
      "metadata": {
        "id": "6TT1oGbuQ81k",
        "colab_type": "text"
      },
      "source": [
        "<span style=\"color:red\">##################################################################################################################</span><br>\n",
        "<span style=\"color:red\">##################################################################################################################</span><br>"
      ]
    },
    {
      "cell_type": "markdown",
      "metadata": {
        "id": "_wF2YMNhQ81l",
        "colab_type": "text"
      },
      "source": [
        "## string (str)\n",
        "_string is the sequence of characters written between the quotes_"
      ]
    },
    {
      "cell_type": "code",
      "metadata": {
        "id": "9eo9_2tGQ81m",
        "colab_type": "code",
        "colab": {}
      },
      "source": [
        "school_name = \"Sunway International Business School, Maitidevi \"\n",
        "print (school_name)"
      ],
      "execution_count": 0,
      "outputs": []
    },
    {
      "cell_type": "code",
      "metadata": {
        "id": "n5b4Ex-8Q81n",
        "colab_type": "code",
        "colab": {}
      },
      "source": [
        "school_name = 'Sunway International Business School, Maitidevi '\n",
        "print (school_name)"
      ],
      "execution_count": 0,
      "outputs": []
    },
    {
      "cell_type": "code",
      "metadata": {
        "id": "tIS43ZDIQ81p",
        "colab_type": "code",
        "colab": {}
      },
      "source": [
        "print (len(school_name))"
      ],
      "execution_count": 0,
      "outputs": []
    },
    {
      "cell_type": "markdown",
      "metadata": {
        "id": "S9_4CKGOQ81q",
        "colab_type": "text"
      },
      "source": [
        "**Print only the first character of the school_name**"
      ]
    },
    {
      "cell_type": "code",
      "metadata": {
        "id": "y_hJ3eJ8Q81s",
        "colab_type": "code",
        "colab": {}
      },
      "source": [
        ""
      ],
      "execution_count": 0,
      "outputs": []
    },
    {
      "cell_type": "markdown",
      "metadata": {
        "id": "YemISwtZQ81u",
        "colab_type": "text"
      },
      "source": [
        "**Print the characters from position 3 to 6**"
      ]
    },
    {
      "cell_type": "code",
      "metadata": {
        "id": "7WBAcQgLQ81u",
        "colab_type": "code",
        "colab": {}
      },
      "source": [
        ""
      ],
      "execution_count": 0,
      "outputs": []
    },
    {
      "cell_type": "markdown",
      "metadata": {
        "id": "ddVx3cMNQ81w",
        "colab_type": "text"
      },
      "source": [
        "### Common operations on string"
      ]
    },
    {
      "cell_type": "markdown",
      "metadata": {
        "id": "fippEx6pQ81w",
        "colab_type": "text"
      },
      "source": [
        "- ### strip"
      ]
    },
    {
      "cell_type": "code",
      "metadata": {
        "id": "ox_3cd-OQ81w",
        "colab_type": "code",
        "colab": {}
      },
      "source": [
        "school_name = school_name.strip()\n",
        "print (school_name)"
      ],
      "execution_count": 0,
      "outputs": []
    },
    {
      "cell_type": "code",
      "metadata": {
        "id": "Lju9fg0GQ81y",
        "colab_type": "code",
        "colab": {}
      },
      "source": [
        "print (len(school_name))"
      ],
      "execution_count": 0,
      "outputs": []
    },
    {
      "cell_type": "markdown",
      "metadata": {
        "id": "JfOujhRkQ81z",
        "colab_type": "text"
      },
      "source": [
        "**Change all the characters of 'stripped_school_name' to uppercase and store it in variable 'school_name_upper'**"
      ]
    },
    {
      "cell_type": "code",
      "metadata": {
        "id": "iEgi4TZTQ81z",
        "colab_type": "code",
        "colab": {}
      },
      "source": [
        ""
      ],
      "execution_count": 0,
      "outputs": []
    },
    {
      "cell_type": "markdown",
      "metadata": {
        "id": "kYmhXMyIQ811",
        "colab_type": "text"
      },
      "source": [
        "**change all the characters of 'stripped_school_name' to lowercase and store it in variable 'school_name_lower'**"
      ]
    },
    {
      "cell_type": "code",
      "metadata": {
        "id": "SAFFmOF7Q812",
        "colab_type": "code",
        "colab": {}
      },
      "source": [
        ""
      ],
      "execution_count": 0,
      "outputs": []
    },
    {
      "cell_type": "markdown",
      "metadata": {
        "id": "UsydvN4TQ813",
        "colab_type": "text"
      },
      "source": [
        "**What will the following code do??**"
      ]
    },
    {
      "cell_type": "code",
      "metadata": {
        "id": "J42FXy2HQ814",
        "colab_type": "code",
        "colab": {}
      },
      "source": [
        "new_school_name = school_name.replace('u', 'o')\n",
        "print (new_school_name)"
      ],
      "execution_count": 0,
      "outputs": []
    },
    {
      "cell_type": "markdown",
      "metadata": {
        "id": "vWtu2d9NQ818",
        "colab_type": "text"
      },
      "source": [
        "- ### split"
      ]
    },
    {
      "cell_type": "markdown",
      "metadata": {
        "id": "6x-Uiqe0Q819",
        "colab_type": "text"
      },
      "source": [
        "**What will be the output of the following code??**"
      ]
    },
    {
      "cell_type": "code",
      "metadata": {
        "id": "t1DTIBl_Q819",
        "colab_type": "code",
        "colab": {}
      },
      "source": [
        "print (school_name.split())"
      ],
      "execution_count": 0,
      "outputs": []
    },
    {
      "cell_type": "code",
      "metadata": {
        "id": "59WRpNedQ81-",
        "colab_type": "code",
        "colab": {}
      },
      "source": [
        "school_name = school_name.split(',')\n",
        "print (school_name)"
      ],
      "execution_count": 0,
      "outputs": []
    },
    {
      "cell_type": "markdown",
      "metadata": {
        "id": "VJ0J4knIQ82A",
        "colab_type": "text"
      },
      "source": [
        "- ### concatenation"
      ]
    },
    {
      "cell_type": "markdown",
      "metadata": {
        "id": "eZUqcnaJQ82A",
        "colab_type": "text"
      },
      "source": [
        "- method 1"
      ]
    },
    {
      "cell_type": "code",
      "metadata": {
        "id": "yXvcLjsSQ82B",
        "colab_type": "code",
        "colab": {}
      },
      "source": [
        "school_name_concat = school_name[0] + school_name[1]\n",
        "print (school_name_concat)\n",
        "\n",
        "school_name_concat1 = school_name[0] + ',' + school_name[1]\n",
        "print (school_name_concat1)"
      ],
      "execution_count": 0,
      "outputs": []
    },
    {
      "cell_type": "markdown",
      "metadata": {
        "id": "qPVCExmWQ82C",
        "colab_type": "text"
      },
      "source": [
        "- method 2"
      ]
    },
    {
      "cell_type": "code",
      "metadata": {
        "id": "8KWegab_Q82D",
        "colab_type": "code",
        "colab": {}
      },
      "source": [
        "school_name_concat = \"{}{}\".format(school_name[0], school_name[1])\n",
        "print (school_name_concat)\n",
        "\n",
        "school_name_concat1 = \"{name},{address}\".format(name=school_name[0], address=school_name[1])\n",
        "print (school_name_concat1)"
      ],
      "execution_count": 0,
      "outputs": []
    },
    {
      "cell_type": "markdown",
      "metadata": {
        "id": "WWehQa8MQ82F",
        "colab_type": "text"
      },
      "source": [
        "- method 3"
      ]
    },
    {
      "cell_type": "code",
      "metadata": {
        "id": "oVHwTujKQ82G",
        "colab_type": "code",
        "colab": {}
      },
      "source": [
        "school_name_concat = \"\".join(school_name)\n",
        "print (school_name_concat)\n",
        "\n",
        "school_name_concat1 = \",\".join(school_name)\n",
        "print (school_name_concat1)"
      ],
      "execution_count": 0,
      "outputs": []
    },
    {
      "cell_type": "markdown",
      "metadata": {
        "id": "lEgKvd-vQ82H",
        "colab_type": "text"
      },
      "source": [
        "#### What will the following code do?"
      ]
    },
    {
      "cell_type": "code",
      "metadata": {
        "id": "MYnsj7MKQ82H",
        "colab_type": "code",
        "colab": {}
      },
      "source": [
        "print (school_name_concat * 2)"
      ],
      "execution_count": 0,
      "outputs": []
    },
    {
      "cell_type": "markdown",
      "metadata": {
        "id": "-MV1HEuQQ82J",
        "colab_type": "text"
      },
      "source": [
        "<span style=\"color:red\">##################################################################################################################</span><br>\n",
        "<span style=\"color:red\">##################################################################################################################</span><br>"
      ]
    },
    {
      "cell_type": "markdown",
      "metadata": {
        "id": "8MYlaidrQ82J",
        "colab_type": "text"
      },
      "source": [
        "## tuple"
      ]
    },
    {
      "cell_type": "markdown",
      "metadata": {
        "id": "yHvbCkwcQ82J",
        "colab_type": "text"
      },
      "source": [
        "_immutable sequence of elements that is written inside parenthesis_"
      ]
    },
    {
      "cell_type": "markdown",
      "metadata": {
        "id": "JdrPzKKHQ82J",
        "colab_type": "text"
      },
      "source": [
        "- _creating empty tuple_"
      ]
    },
    {
      "cell_type": "code",
      "metadata": {
        "id": "U1a9VBcMQ82K",
        "colab_type": "code",
        "colab": {}
      },
      "source": [
        "empty_tuple = ()\n",
        "print (empty_tuple)\n",
        "print(type(empty_tuple))"
      ],
      "execution_count": 0,
      "outputs": []
    },
    {
      "cell_type": "code",
      "metadata": {
        "id": "8cbIisKmQ82L",
        "colab_type": "code",
        "colab": {}
      },
      "source": [
        "empty_tuple = tuple()\n",
        "print (empty_tuple)\n",
        "print (type(empty_tuple))"
      ],
      "execution_count": 0,
      "outputs": []
    },
    {
      "cell_type": "markdown",
      "metadata": {
        "id": "1vmJOFPCQ82O",
        "colab_type": "text"
      },
      "source": [
        "- _creating tuples with data_"
      ]
    },
    {
      "cell_type": "code",
      "metadata": {
        "id": "4aIzsaH1Q82O",
        "colab_type": "code",
        "colab": {}
      },
      "source": [
        "tuple1 = (1,2,3,4,5)\n",
        "print (tuple1)"
      ],
      "execution_count": 0,
      "outputs": []
    },
    {
      "cell_type": "code",
      "metadata": {
        "id": "R9Otco_NQ82Q",
        "colab_type": "code",
        "colab": {}
      },
      "source": [
        "tuple2 = 1,2,3,4,5\n",
        "print (tuple2)\n",
        "print (type(tuple2))"
      ],
      "execution_count": 0,
      "outputs": []
    },
    {
      "cell_type": "code",
      "metadata": {
        "id": "cHraKFqeQ82R",
        "colab_type": "code",
        "colab": {}
      },
      "source": [
        "superheroes = ('batman', 'saitama', 'superman', 'spiderman')\n",
        "print (superheroes)"
      ],
      "execution_count": 0,
      "outputs": []
    },
    {
      "cell_type": "markdown",
      "metadata": {
        "id": "ARuID2yxQ82T",
        "colab_type": "text"
      },
      "source": [
        "#### data can be accessed in tuples similarly as in lists"
      ]
    },
    {
      "cell_type": "code",
      "metadata": {
        "id": "wFh0DrQKQ82T",
        "colab_type": "code",
        "colab": {}
      },
      "source": [
        "print (superheroes[0])"
      ],
      "execution_count": 0,
      "outputs": []
    },
    {
      "cell_type": "code",
      "metadata": {
        "id": "imfKPjNzQ82V",
        "colab_type": "code",
        "colab": {}
      },
      "source": [
        "print (superheroes[0:2])"
      ],
      "execution_count": 0,
      "outputs": []
    },
    {
      "cell_type": "markdown",
      "metadata": {
        "id": "9gRxqaAlQ82a",
        "colab_type": "text"
      },
      "source": [
        "**Try changing the value of the first element of tuple1 to 'antman'. Why did you get such result?**"
      ]
    },
    {
      "cell_type": "code",
      "metadata": {
        "id": "kxT8UGvSQ82b",
        "colab_type": "code",
        "colab": {}
      },
      "source": [
        "superheroes[0] = 'antman'"
      ],
      "execution_count": 0,
      "outputs": []
    },
    {
      "cell_type": "markdown",
      "metadata": {
        "id": "RbwvNAzKQ82c",
        "colab_type": "text"
      },
      "source": [
        "### <span style=\"color:green\">At this point, students are expected to try out all the operations that we did with the lists in previous exercises and observe the differences</span>\n",
        "<br>\n",
        "- length<br>\n",
        "- min<br>\n",
        "- max<br>\n",
        "- concatenation<br>\n",
        "- repitition<br>\n",
        "- membership<br>"
      ]
    },
    {
      "cell_type": "markdown",
      "metadata": {
        "id": "orGbvlJ4Q82c",
        "colab_type": "text"
      },
      "source": [
        "**Print the length of the tuple**"
      ]
    },
    {
      "cell_type": "code",
      "metadata": {
        "id": "4c8skT5wQ82c",
        "colab_type": "code",
        "colab": {}
      },
      "source": [
        ""
      ],
      "execution_count": 0,
      "outputs": []
    },
    {
      "cell_type": "markdown",
      "metadata": {
        "id": "ZGybU9z0Q82d",
        "colab_type": "text"
      },
      "source": [
        "**Print the minumum value in the tuple. Try it in a tuple of strings also.**"
      ]
    },
    {
      "cell_type": "code",
      "metadata": {
        "id": "2aLhwFfxQ82g",
        "colab_type": "code",
        "colab": {}
      },
      "source": [
        ""
      ],
      "execution_count": 0,
      "outputs": []
    },
    {
      "cell_type": "markdown",
      "metadata": {
        "id": "Ic9V9uL8Q82h",
        "colab_type": "text"
      },
      "source": [
        "**Print the maximum value in the tuple. Try it in a tuple of strings also.**"
      ]
    },
    {
      "cell_type": "code",
      "metadata": {
        "id": "rbVKUQx9Q82i",
        "colab_type": "code",
        "colab": {}
      },
      "source": [
        ""
      ],
      "execution_count": 0,
      "outputs": []
    },
    {
      "cell_type": "markdown",
      "metadata": {
        "id": "nOSyrv-yQ82j",
        "colab_type": "text"
      },
      "source": [
        "#### Concatenate two different tuples"
      ]
    },
    {
      "cell_type": "code",
      "metadata": {
        "id": "8SQvWZKwQ82j",
        "colab_type": "code",
        "colab": {}
      },
      "source": [
        ""
      ],
      "execution_count": 0,
      "outputs": []
    },
    {
      "cell_type": "markdown",
      "metadata": {
        "id": "0FWRwg4FQ82k",
        "colab_type": "text"
      },
      "source": [
        "#### Apply repitition with '*' operator in tuple."
      ]
    },
    {
      "cell_type": "code",
      "metadata": {
        "id": "HmMtfxNhQ82l",
        "colab_type": "code",
        "colab": {}
      },
      "source": [
        ""
      ],
      "execution_count": 0,
      "outputs": []
    },
    {
      "cell_type": "markdown",
      "metadata": {
        "id": "OBsOcfBZQ82n",
        "colab_type": "text"
      },
      "source": [
        "#### Check the membership of an element in the tuple"
      ]
    },
    {
      "cell_type": "code",
      "metadata": {
        "id": "YC6i_0B9Q82n",
        "colab_type": "code",
        "colab": {}
      },
      "source": [
        ""
      ],
      "execution_count": 0,
      "outputs": []
    },
    {
      "cell_type": "markdown",
      "metadata": {
        "id": "xroiGgd4Q82o",
        "colab_type": "text"
      },
      "source": [
        "#### tuple unpacking"
      ]
    },
    {
      "cell_type": "code",
      "metadata": {
        "id": "5Ms9Py-ZQ82p",
        "colab_type": "code",
        "colab": {}
      },
      "source": [
        "a,b,c,d = superheroes\n",
        "print (a)\n",
        "print (b)\n",
        "print (c)\n",
        "print (d)"
      ],
      "execution_count": 0,
      "outputs": []
    },
    {
      "cell_type": "markdown",
      "metadata": {
        "id": "W8sXjWjBQ82p",
        "colab_type": "text"
      },
      "source": [
        "<span style=\"color:red\">##################################################################################################################</span><br>\n",
        "<span style=\"color:red\">##################################################################################################################</span><br>"
      ]
    },
    {
      "cell_type": "markdown",
      "metadata": {
        "id": "7ICxdBDWQ82q",
        "colab_type": "text"
      },
      "source": [
        "## set"
      ]
    },
    {
      "cell_type": "markdown",
      "metadata": {
        "id": "49x729sZQ82q",
        "colab_type": "text"
      },
      "source": [
        "_non repetitive unordered collection of elements_"
      ]
    },
    {
      "cell_type": "markdown",
      "metadata": {
        "id": "dnjQC2wuQ82r",
        "colab_type": "text"
      },
      "source": [
        "#### creating sets"
      ]
    },
    {
      "cell_type": "code",
      "metadata": {
        "id": "dof4arR2Q82r",
        "colab_type": "code",
        "colab": {}
      },
      "source": [
        "superheroes = set(('batman', 'batman', 'saitama', 'superman', 'spiderman'))\n",
        "print (superheroes)"
      ],
      "execution_count": 0,
      "outputs": []
    },
    {
      "cell_type": "code",
      "metadata": {
        "id": "3ScRuYy8Q82u",
        "colab_type": "code",
        "colab": {}
      },
      "source": [
        "superheroes = set(['batman', 'batman', 'saitama', 'superman', 'spiderman'])\n",
        "print (superheroes)"
      ],
      "execution_count": 0,
      "outputs": []
    },
    {
      "cell_type": "code",
      "metadata": {
        "id": "bv2llNGEQ82y",
        "colab_type": "code",
        "colab": {}
      },
      "source": [
        "superheroes1 = {'batman', 'batman', 'saitama', 'superman', 'spiderman'}\n",
        "print (superheroes1)"
      ],
      "execution_count": 0,
      "outputs": []
    },
    {
      "cell_type": "code",
      "metadata": {
        "id": "vG2oum0aQ82z",
        "colab_type": "code",
        "colab": {}
      },
      "source": [
        "superheroes2 = {'antman', 'ironman', 'batman', 'superman'}\n",
        "print (superheroes2)"
      ],
      "execution_count": 0,
      "outputs": []
    },
    {
      "cell_type": "markdown",
      "metadata": {
        "id": "NZV4keqbQ820",
        "colab_type": "text"
      },
      "source": [
        "#### Names in superheroes1 but not in superheroes2"
      ]
    },
    {
      "cell_type": "code",
      "metadata": {
        "id": "9Nj2sMYGQ820",
        "colab_type": "code",
        "colab": {}
      },
      "source": [
        "print (superheroes1-superheroes2)"
      ],
      "execution_count": 0,
      "outputs": []
    },
    {
      "cell_type": "markdown",
      "metadata": {
        "id": "iIW7HKJgQ821",
        "colab_type": "text"
      },
      "source": [
        "#### Names in superheroes1 or superheroes2 or both"
      ]
    },
    {
      "cell_type": "code",
      "metadata": {
        "id": "zrf8MfzjQ821",
        "colab_type": "code",
        "colab": {}
      },
      "source": [
        "print (superheroes1 | superheroes2)"
      ],
      "execution_count": 0,
      "outputs": []
    },
    {
      "cell_type": "markdown",
      "metadata": {
        "id": "Kr-zFV96Q823",
        "colab_type": "text"
      },
      "source": [
        "#### Names in both superheroes1 and superheroes2"
      ]
    },
    {
      "cell_type": "code",
      "metadata": {
        "id": "MExC9cjHQ823",
        "colab_type": "code",
        "colab": {}
      },
      "source": [
        "print (superheroes1 & superheroes2)"
      ],
      "execution_count": 0,
      "outputs": []
    },
    {
      "cell_type": "markdown",
      "metadata": {
        "id": "huHMzWhCQ824",
        "colab_type": "text"
      },
      "source": [
        "#### Names in superheroes1 or superheroes2 but not in both"
      ]
    },
    {
      "cell_type": "code",
      "metadata": {
        "id": "hd4dALsiQ825",
        "colab_type": "code",
        "colab": {}
      },
      "source": [
        "print (superheroes1 ^ superheroes2)"
      ],
      "execution_count": 0,
      "outputs": []
    },
    {
      "cell_type": "markdown",
      "metadata": {
        "id": "cOxZcLSkQ826",
        "colab_type": "text"
      },
      "source": [
        "#### Try accessing elements from the set like in list by index. What was the result? "
      ]
    },
    {
      "cell_type": "code",
      "metadata": {
        "id": "oKWocQDGQ826",
        "colab_type": "code",
        "colab": {}
      },
      "source": [
        "superheroes[0]"
      ],
      "execution_count": 0,
      "outputs": []
    },
    {
      "cell_type": "markdown",
      "metadata": {
        "id": "1JRvQlH9Q827",
        "colab_type": "text"
      },
      "source": [
        "#### check membership of an element in the set"
      ]
    },
    {
      "cell_type": "code",
      "metadata": {
        "id": "UyQMcdC4Q827",
        "colab_type": "code",
        "colab": {}
      },
      "source": [
        "'batman' in superheroes"
      ],
      "execution_count": 0,
      "outputs": []
    },
    {
      "cell_type": "code",
      "metadata": {
        "id": "yPItCDpDQ828",
        "colab_type": "code",
        "colab": {}
      },
      "source": [
        "'antman' in superheroes"
      ],
      "execution_count": 0,
      "outputs": []
    },
    {
      "cell_type": "markdown",
      "metadata": {
        "id": "saWoaCLjQ829",
        "colab_type": "text"
      },
      "source": [
        "<span style=\"color:red\">###################################A###############################################################################</span><br>\n",
        "<span style=\"color:red\">##################################################################################################################</span><br>"
      ]
    },
    {
      "cell_type": "markdown",
      "metadata": {
        "id": "35rsM0PZQ829",
        "colab_type": "text"
      },
      "source": [
        "## Dict (dictionary)"
      ]
    },
    {
      "cell_type": "markdown",
      "metadata": {
        "id": "gLQ7766aQ82-",
        "colab_type": "text"
      },
      "source": [
        "_Indexed by keys unlike in sequences where elements are indexed by a range of numbers_\n",
        "<br>\n",
        "_keys can be any immutable type_"
      ]
    },
    {
      "cell_type": "markdown",
      "metadata": {
        "id": "4o_Bb0rfQ82-",
        "colab_type": "text"
      },
      "source": [
        "#### creating dictionaries"
      ]
    },
    {
      "cell_type": "code",
      "metadata": {
        "id": "Vy7_aih_Q82-",
        "colab_type": "code",
        "colab": {}
      },
      "source": [
        "total_marks = dict()\n",
        "print (total_marks)\n",
        "print (type(total_marks))"
      ],
      "execution_count": 0,
      "outputs": []
    },
    {
      "cell_type": "code",
      "metadata": {
        "id": "2JyhdBeBQ83A",
        "colab_type": "code",
        "colab": {}
      },
      "source": [
        "total_marks = {}\n",
        "print (total_marks)\n",
        "print (type(total_marks))"
      ],
      "execution_count": 0,
      "outputs": []
    },
    {
      "cell_type": "markdown",
      "metadata": {
        "id": "W5ub5QK3Q83A",
        "colab_type": "text"
      },
      "source": [
        "#### Creating dictionary of the marks obtained by the students of a class"
      ]
    },
    {
      "cell_type": "code",
      "metadata": {
        "id": "CzlVmTciQ83B",
        "colab_type": "code",
        "colab": {}
      },
      "source": [
        "total_marks = {'ram': 99, 'shyam': 85, 'hari': 55, 'gita': 65, 'sita': 87, 'rita':45}\n",
        "print (total_marks)"
      ],
      "execution_count": 0,
      "outputs": []
    },
    {
      "cell_type": "code",
      "metadata": {
        "id": "uTxD-t0eQ83B",
        "colab_type": "code",
        "colab": {}
      },
      "source": [
        "total_marks = dict([('ram', 99), ('shyam', 85), ('hari', 55), ('gita', 65), ('sita', 87), ('rita', 45)])\n",
        "print (total_marks)"
      ],
      "execution_count": 0,
      "outputs": []
    },
    {
      "cell_type": "markdown",
      "metadata": {
        "id": "ygH-fUxaQ83D",
        "colab_type": "text"
      },
      "source": [
        " ### Try using different datatypes / structures as key of the dictionary"
      ]
    },
    {
      "cell_type": "markdown",
      "metadata": {
        "id": "RqohopNlQ83D",
        "colab_type": "text"
      },
      "source": [
        "#### Use integer as Keys"
      ]
    },
    {
      "cell_type": "code",
      "metadata": {
        "id": "uKQW58wHQ83D",
        "colab_type": "code",
        "colab": {}
      },
      "source": [
        "total_marks = {1: 99, 2: 85, 3: 55, 4: 65, 5: 87, 6:45}\n",
        "print (total_marks)"
      ],
      "execution_count": 0,
      "outputs": []
    },
    {
      "cell_type": "markdown",
      "metadata": {
        "id": "-tkRgrjCQ83F",
        "colab_type": "text"
      },
      "source": [
        "#### Use float as keys"
      ]
    },
    {
      "cell_type": "code",
      "metadata": {
        "id": "OilqZWDrQ83F",
        "colab_type": "code",
        "colab": {}
      },
      "source": [
        "total_marks = {1.0: 99, 2.0: 85, 3.0: 55, 4.0: 65, 5.0: 87, 6.0:45}\n",
        "print (total_marks)"
      ],
      "execution_count": 0,
      "outputs": []
    },
    {
      "cell_type": "markdown",
      "metadata": {
        "id": "Mf_i8NMoQ83G",
        "colab_type": "text"
      },
      "source": [
        "#### Use tuple as keys"
      ]
    },
    {
      "cell_type": "code",
      "metadata": {
        "id": "tumeomGIQ83G",
        "colab_type": "code",
        "colab": {}
      },
      "source": [
        "total_marks = {(1,2): 99, (2,3): 85, (3,4): 55, (4,5): 65, (5,6): 87, (6,7):45}\n",
        "print (total_marks)"
      ],
      "execution_count": 0,
      "outputs": []
    },
    {
      "cell_type": "markdown",
      "metadata": {
        "id": "o93roDtxQ83H",
        "colab_type": "text"
      },
      "source": [
        "#### Use set as keys"
      ]
    },
    {
      "cell_type": "code",
      "metadata": {
        "id": "rpb0BSbwQ83H",
        "colab_type": "code",
        "colab": {}
      },
      "source": [
        "total_marks = {{1,2}: 99, {2,3}: 85, {3,4}: 55, {4,5}: 65, {5,6}: 87, {6,7}:45}\n",
        "print (total_marks)"
      ],
      "execution_count": 0,
      "outputs": []
    },
    {
      "cell_type": "markdown",
      "metadata": {
        "id": "g4-XDCHDQ83I",
        "colab_type": "text"
      },
      "source": [
        "#### Use list as keys"
      ]
    },
    {
      "cell_type": "code",
      "metadata": {
        "id": "cFnN5M05Q83J",
        "colab_type": "code",
        "colab": {}
      },
      "source": [
        "total_marks = {[1,2]: 99, [2,3]: 85, [3,4]: 55, [4,5]: 65, [5,6]: 87, [6,7]:45}\n",
        "print (total_marks)"
      ],
      "execution_count": 0,
      "outputs": []
    },
    {
      "cell_type": "markdown",
      "metadata": {
        "id": "i_FHi4CyQ83K",
        "colab_type": "text"
      },
      "source": [
        "### Did you find out what can be used as keys?? write down the types that can be used as keys in the dictionary "
      ]
    },
    {
      "cell_type": "code",
      "metadata": {
        "id": "9B_fLaRiQ83K",
        "colab_type": "code",
        "colab": {}
      },
      "source": [
        ""
      ],
      "execution_count": 0,
      "outputs": []
    },
    {
      "cell_type": "markdown",
      "metadata": {
        "id": "_tNKCnFWQ83L",
        "colab_type": "text"
      },
      "source": [
        "### Accessing dictionaries"
      ]
    },
    {
      "cell_type": "markdown",
      "metadata": {
        "id": "nNhNjn8AQ83L",
        "colab_type": "text"
      },
      "source": [
        "#### items"
      ]
    },
    {
      "cell_type": "code",
      "metadata": {
        "id": "nAtJS4TyQ83M",
        "colab_type": "code",
        "colab": {}
      },
      "source": [
        "total_marks = {'ram': 99, 'shyam': 85, 'hari': 55, 'gita': 65, 'sita': 87, 'rita':45}\n",
        "\n",
        "print (total_marks.items())"
      ],
      "execution_count": 0,
      "outputs": []
    },
    {
      "cell_type": "markdown",
      "metadata": {
        "id": "8aKt0WylQ83N",
        "colab_type": "text"
      },
      "source": [
        "#### keys"
      ]
    },
    {
      "cell_type": "code",
      "metadata": {
        "id": "bhztwjZUQ83N",
        "colab_type": "code",
        "colab": {}
      },
      "source": [
        "print (total_marks.keys())"
      ],
      "execution_count": 0,
      "outputs": []
    },
    {
      "cell_type": "markdown",
      "metadata": {
        "id": "IrFncY00Q83O",
        "colab_type": "text"
      },
      "source": [
        "#### values"
      ]
    },
    {
      "cell_type": "code",
      "metadata": {
        "id": "XbPUOLK8Q83P",
        "colab_type": "code",
        "colab": {}
      },
      "source": [
        "print (total_marks.values())"
      ],
      "execution_count": 0,
      "outputs": []
    },
    {
      "cell_type": "markdown",
      "metadata": {
        "id": "atnAX_MUQ83R",
        "colab_type": "text"
      },
      "source": [
        "#### Print out the marks of shyam"
      ]
    },
    {
      "cell_type": "code",
      "metadata": {
        "id": "j0UWf3sZQ83R",
        "colab_type": "code",
        "colab": {}
      },
      "source": [
        ""
      ],
      "execution_count": 0,
      "outputs": []
    },
    {
      "cell_type": "markdown",
      "metadata": {
        "id": "9yJyBcKAQ83R",
        "colab_type": "text"
      },
      "source": [
        "#### Change the marks of shyam to 70 and print the updated dictionary"
      ]
    },
    {
      "cell_type": "code",
      "metadata": {
        "id": "481BQXVCQ83S",
        "colab_type": "code",
        "colab": {}
      },
      "source": [
        ""
      ],
      "execution_count": 0,
      "outputs": []
    },
    {
      "cell_type": "markdown",
      "metadata": {
        "id": "HcdWOHTeQ83T",
        "colab_type": "text"
      },
      "source": [
        "### List, tuple, set, dict : when to use?"
      ]
    },
    {
      "cell_type": "markdown",
      "metadata": {
        "id": "RxXU6sLNQ83T",
        "colab_type": "text"
      },
      "source": [
        "- **list** : Use list if you have a collection of data that needs to be iterable, indexed and changed.\n",
        "- **set** : When you need uniqueness of the elements that is iterable and mutable and order of elements is not important\n",
        "- **tuple** : When you need ordered, iterable and immutable collection of data.\n",
        "- **dictionary** : When you need logical association between key:value pair.\n",
        "<br>\n",
        "<br>\n",
        "- Time complexity to access the value of a key in dict and membership check in set is O(1).\n",
        "- Time complexity for membership check in lists and tuples is O(n).\n",
        "\n",
        "#### Study about the hash table implementation in dict and set to find why set and dict are faster that list and tuple for membership checking"
      ]
    },
    {
      "cell_type": "markdown",
      "metadata": {
        "id": "JncnLJxDQ83T",
        "colab_type": "text"
      },
      "source": [
        "<span style=\"color:red\">###################################A###############################################################################</span><br>\n",
        "<span style=\"color:red\">##################################################################################################################</span><br>"
      ]
    },
    {
      "cell_type": "markdown",
      "metadata": {
        "id": "kw3K0ryzQ83U",
        "colab_type": "text"
      },
      "source": [
        "## Conditional Statements and loops"
      ]
    },
    {
      "cell_type": "markdown",
      "metadata": {
        "id": "FoJ5JXYAQ83V",
        "colab_type": "text"
      },
      "source": [
        "#### conditional statements:\n",
        "<br>\n",
        "Syntax:\n",
        "<br>\n",
        "<br>\n",
        "if condition:<br>\n",
        "&emsp;statement"
      ]
    },
    {
      "cell_type": "markdown",
      "metadata": {
        "id": "5wR0WTRjQ83V",
        "colab_type": "text"
      },
      "source": [
        "#### Basic implementation"
      ]
    },
    {
      "cell_type": "code",
      "metadata": {
        "id": "-zYRhajaQ83V",
        "colab_type": "code",
        "colab": {}
      },
      "source": [
        "if True:\n",
        "    print (\"condition was True\")"
      ],
      "execution_count": 0,
      "outputs": []
    },
    {
      "cell_type": "code",
      "metadata": {
        "id": "eyiVjwarQ83W",
        "colab_type": "code",
        "colab": {}
      },
      "source": [
        "a = 100\n",
        "\n",
        "if a == 10:\n",
        "    print (\"if condition was true\")\n",
        "    \n",
        "else:\n",
        "    print (\"if condition was not true\")"
      ],
      "execution_count": 0,
      "outputs": []
    },
    {
      "cell_type": "markdown",
      "metadata": {
        "id": "XpUsylfIQ83X",
        "colab_type": "text"
      },
      "source": [
        "#### Examples of if statement implementation<br>\n",
        "#### What do you think each of the following conditions will print out?"
      ]
    },
    {
      "cell_type": "code",
      "metadata": {
        "id": "cxNCDtz5Q83X",
        "colab_type": "code",
        "colab": {}
      },
      "source": [
        "a = True\n",
        "b = False\n",
        "\n",
        "if a < b:\n",
        "    print ('yes')\n",
        "else:\n",
        "    print ('no')"
      ],
      "execution_count": 0,
      "outputs": []
    },
    {
      "cell_type": "code",
      "metadata": {
        "id": "RU9nsnhUQ83e",
        "colab_type": "code",
        "colab": {}
      },
      "source": [
        "if a:\n",
        "    print ('yes')\n",
        "else:\n",
        "    print ('no')"
      ],
      "execution_count": 0,
      "outputs": []
    },
    {
      "cell_type": "code",
      "metadata": {
        "id": "Rc3s-t3DQ83e",
        "colab_type": "code",
        "colab": {}
      },
      "source": [
        "if a or b:\n",
        "    print ('yes')\n",
        "else:\n",
        "    print ('no')"
      ],
      "execution_count": 0,
      "outputs": []
    },
    {
      "cell_type": "code",
      "metadata": {
        "id": "Z9FZF9E5Q83g",
        "colab_type": "code",
        "colab": {}
      },
      "source": [
        "if a and b:\n",
        "    print ('yes')\n",
        "else:\n",
        "    print ('no')"
      ],
      "execution_count": 0,
      "outputs": []
    },
    {
      "cell_type": "code",
      "metadata": {
        "id": "d0N0V372UskJ",
        "colab_type": "code",
        "colab": {}
      },
      "source": [
        "if (a or True) and (a or False):\n",
        "    print ('yes')\n",
        "else:\n",
        "    print ('no')"
      ],
      "execution_count": 0,
      "outputs": []
    },
    {
      "cell_type": "code",
      "metadata": {
        "id": "IcruzByUQ83g",
        "colab_type": "code",
        "colab": {}
      },
      "source": [
        "a = \"sunway\"\n",
        "\n",
        "if 'sun' in a:\n",
        "    print ('yes')\n",
        "else:\n",
        "    print ('no')"
      ],
      "execution_count": 0,
      "outputs": []
    },
    {
      "cell_type": "markdown",
      "metadata": {
        "id": "3cVriMYaQ83i",
        "colab_type": "text"
      },
      "source": [
        "#### Nested conditions"
      ]
    },
    {
      "cell_type": "code",
      "metadata": {
        "id": "Y3asADZyQ83i",
        "colab_type": "code",
        "colab": {}
      },
      "source": [
        "a = 10\n",
        "b = ['batman', 'saitama', 'superman', 'spiderman']\n",
        "\n",
        "if 'batman' in b:\n",
        "    \n",
        "    print (\"outer condition is true\")\n",
        "    \n",
        "    if a > 100:\n",
        "        print (\"inner if condition is true\")\n",
        "        \n",
        "    print (\"between two if conditions\")\n",
        "    \n",
        "    if a > 50:\n",
        "        print (\"second inner if condition is true\")\n",
        "        \n",
        "    elif a >= 10:\n",
        "        print (\"inner elif condition if true\")\n",
        "        \n",
        "    else:\n",
        "        print (\"inner else condition\")\n",
        "        \n",
        "    print (\"end of outer condition\")\n",
        "    \n",
        "print (\"exit from outer condition\")"
      ],
      "execution_count": 0,
      "outputs": []
    },
    {
      "cell_type": "markdown",
      "metadata": {
        "id": "4zli-UCkQ83k",
        "colab_type": "text"
      },
      "source": [
        "### Loops"
      ]
    },
    {
      "cell_type": "markdown",
      "metadata": {
        "id": "ODIRQ2pUQ83l",
        "colab_type": "text"
      },
      "source": [
        "#### While loop"
      ]
    },
    {
      "cell_type": "markdown",
      "metadata": {
        "id": "kVqaG1VCQ83l",
        "colab_type": "text"
      },
      "source": [
        "![image.png](attachment:image.png)"
      ]
    },
    {
      "cell_type": "code",
      "metadata": {
        "id": "zVxvjAmqQ83m",
        "colab_type": "code",
        "colab": {}
      },
      "source": [
        "count = 0\n",
        "while (count < 10):\n",
        "    print (\"loop : {}\".format(count))\n",
        "    count += 1\n",
        "print (\"completed\")"
      ],
      "execution_count": 0,
      "outputs": []
    },
    {
      "cell_type": "code",
      "metadata": {
        "id": "G9106-f3Q83n",
        "colab_type": "code",
        "colab": {}
      },
      "source": [
        "count = 0\n",
        "while True:\n",
        "    print (\"loop: {}\".format(count))\n",
        "    count += 1\n",
        "    if count == 10:\n",
        "        break"
      ],
      "execution_count": 0,
      "outputs": []
    },
    {
      "cell_type": "markdown",
      "metadata": {
        "id": "edontn4WQ83o",
        "colab_type": "text"
      },
      "source": [
        "**For loops**"
      ]
    },
    {
      "cell_type": "markdown",
      "metadata": {
        "id": "3-9BZS-SQ83o",
        "colab_type": "text"
      },
      "source": [
        "![for_loop.png](attachment:for_loop.png)"
      ]
    },
    {
      "cell_type": "code",
      "metadata": {
        "id": "7mvaV9OYQ83o",
        "colab_type": "code",
        "colab": {}
      },
      "source": [
        "for i in range(10):\n",
        "    print (i)"
      ],
      "execution_count": 0,
      "outputs": []
    },
    {
      "cell_type": "code",
      "metadata": {
        "id": "9SGtcBinQ83q",
        "colab_type": "code",
        "colab": {}
      },
      "source": [
        "superheroes = ['batman', 'saitama', 'superman', 'spiderman']\n",
        "\n",
        "for hero in superheroes:\n",
        "    if hero.startswith('s'):\n",
        "        print (hero)"
      ],
      "execution_count": 0,
      "outputs": []
    },
    {
      "cell_type": "code",
      "metadata": {
        "id": "uIdlZGgqQ83q",
        "colab_type": "code",
        "colab": {}
      },
      "source": [
        "for num, hero in enumerate(superheroes):\n",
        "    print (\"Hero number {}: {}\".format(num, hero))"
      ],
      "execution_count": 0,
      "outputs": []
    },
    {
      "cell_type": "markdown",
      "metadata": {
        "id": "xM7i9FzTQ83s",
        "colab_type": "text"
      },
      "source": [
        "<span style=\"color:red\">###################################A###############################################################################</span><br>\n",
        "<span style=\"color:red\">##################################################################################################################</span><br>"
      ]
    },
    {
      "cell_type": "markdown",
      "metadata": {
        "id": "cZLwf0GFQ83s",
        "colab_type": "text"
      },
      "source": [
        "## Comprehensions"
      ]
    },
    {
      "cell_type": "markdown",
      "metadata": {
        "id": "iEBW-VTIQ83t",
        "colab_type": "text"
      },
      "source": [
        "- List Comprehensions\n",
        "- Dictionary Comprehensions\n",
        "- Set Comprehensions\n",
        "- Generator Comprehensions"
      ]
    },
    {
      "cell_type": "markdown",
      "metadata": {
        "id": "kJTHwzv9Q83t",
        "colab_type": "text"
      },
      "source": [
        "### List Comprehension"
      ]
    },
    {
      "cell_type": "markdown",
      "metadata": {
        "id": "BDPY5ysGQ83t",
        "colab_type": "text"
      },
      "source": [
        "### Q. Given a list of superheroes, create another list named 'new_list' containing the names that starts with 's'.\n",
        "#### &emsp; concepts to consider: startswith method of string, list, append, if condition, for loop\n",
        "&emsp; superheroes = ['batman', 'saitama', 'superman', 'spiderman']"
      ]
    },
    {
      "cell_type": "code",
      "metadata": {
        "id": "wRg2RM84Q83u",
        "colab_type": "code",
        "colab": {}
      },
      "source": [
        "new_list = []\n",
        "for hero in superheroes:\n",
        "    if hero.startswith('s'):\n",
        "        new_list.append(hero)\n",
        "print (new_list)"
      ],
      "execution_count": 0,
      "outputs": []
    },
    {
      "cell_type": "markdown",
      "metadata": {
        "id": "z1qYHAVzQ83v",
        "colab_type": "text"
      },
      "source": [
        "#### Do the same task in single line of code"
      ]
    },
    {
      "cell_type": "code",
      "metadata": {
        "id": "QnHwExg4Q83v",
        "colab_type": "code",
        "colab": {}
      },
      "source": [
        "new_list = [hero for hero in superheroes if hero.startswith('s')]\n",
        "print (new_list)"
      ],
      "execution_count": 0,
      "outputs": []
    },
    {
      "cell_type": "markdown",
      "metadata": {
        "id": "VHW3O_BsQ83w",
        "colab_type": "text"
      },
      "source": [
        "### How did this work?\n",
        "#### The answer is list comprehension\n",
        "<br>\n",
        "Basic syntax <br>\n",
        "&emsp; [ expression for item in list if conditional ]"
      ]
    },
    {
      "cell_type": "markdown",
      "metadata": {
        "id": "SbG2IR8dQ83x",
        "colab_type": "text"
      },
      "source": [
        "### Q. Change the below list of strings in lowercase characters to uppercase if the element of list endswith 'man'.\n",
        "&emsp; superheroes = ['batman', 'saitama', 'superman', 'spiderman']"
      ]
    },
    {
      "cell_type": "code",
      "metadata": {
        "id": "Zge_Uf7rQ83x",
        "colab_type": "code",
        "colab": {}
      },
      "source": [
        "superheroes = ['batman', 'saitama', 'superman', 'spiderman']\n",
        "superheroes = [hero.upper() for hero in superheroes if hero.endswith('man')]\n",
        "print (superheroes)"
      ],
      "execution_count": 0,
      "outputs": []
    },
    {
      "cell_type": "markdown",
      "metadata": {
        "id": "KIYpVt0aQ83y",
        "colab_type": "text"
      },
      "source": [
        "### Set Comprehension"
      ]
    },
    {
      "cell_type": "code",
      "metadata": {
        "id": "cGydV28cQ83y",
        "colab_type": "code",
        "colab": {}
      },
      "source": [
        "superheroes = set(('batman', 'batman', 'saitama', 'superman', 'spiderman'))\n",
        "superheroes = { hero.upper() for hero in superheroes if hero.endswith('man') }\n",
        "print (superheroes)"
      ],
      "execution_count": 0,
      "outputs": []
    },
    {
      "cell_type": "markdown",
      "metadata": {
        "id": "rNQYcLW9Q83z",
        "colab_type": "text"
      },
      "source": [
        "### Dictionary comprehension"
      ]
    },
    {
      "cell_type": "code",
      "metadata": {
        "id": "TpVy3OF8Q83z",
        "colab_type": "code",
        "colab": {}
      },
      "source": [
        "superheroes = ['batman', 'saitama', 'superman', 'spiderman']\n",
        "superheroes_dict = {}\n",
        "for i, hero in enumerate(superheroes):\n",
        "    superheroes_dict[i] = hero\n",
        "print (superheroes_dict)"
      ],
      "execution_count": 0,
      "outputs": []
    },
    {
      "cell_type": "code",
      "metadata": {
        "id": "Wca3xrkNQ831",
        "colab_type": "code",
        "colab": {}
      },
      "source": [
        "superheroes_dict = { i:hero for i,hero in enumerate(superheroes) }\n",
        "print (superheroes_dict)"
      ],
      "execution_count": 0,
      "outputs": []
    },
    {
      "cell_type": "code",
      "metadata": {
        "id": "dOqJWviqQ832",
        "colab_type": "code",
        "colab": {}
      },
      "source": [
        "superheroes_dict = { key:value.upper() for key,value in superheroes_dict.items() }\n",
        "print (superheroes_dict)"
      ],
      "execution_count": 0,
      "outputs": []
    },
    {
      "cell_type": "markdown",
      "metadata": {
        "id": "9Ksadn9LQ833",
        "colab_type": "text"
      },
      "source": [
        "### Generator Comprehension"
      ]
    },
    {
      "cell_type": "code",
      "metadata": {
        "id": "LNH961mpQ833",
        "colab_type": "code",
        "colab": {}
      },
      "source": [
        "numbers = (0,1,2,3,4,5,6,7,8,9)\n",
        "print (numbers)"
      ],
      "execution_count": 0,
      "outputs": []
    },
    {
      "cell_type": "code",
      "metadata": {
        "id": "8-1d_uk1Q834",
        "colab_type": "code",
        "colab": {}
      },
      "source": [
        "numbers = [i for i in range(10)]\n",
        "print (numbers)"
      ],
      "execution_count": 0,
      "outputs": []
    },
    {
      "cell_type": "code",
      "metadata": {
        "id": "4vHzNk2TQ835",
        "colab_type": "code",
        "colab": {}
      },
      "source": [
        "numbers = ( i for i in range(10) )\n",
        "print (numbers)"
      ],
      "execution_count": 0,
      "outputs": []
    },
    {
      "cell_type": "code",
      "metadata": {
        "id": "MdCGDPAEQ835",
        "colab_type": "code",
        "colab": {}
      },
      "source": [
        "print (next(numbers))"
      ],
      "execution_count": 0,
      "outputs": []
    },
    {
      "cell_type": "code",
      "metadata": {
        "id": "RJrsr7PMQ836",
        "colab_type": "code",
        "colab": {}
      },
      "source": [
        "print (next(numbers))"
      ],
      "execution_count": 0,
      "outputs": []
    },
    {
      "cell_type": "code",
      "metadata": {
        "id": "1Z13XoXMQ837",
        "colab_type": "code",
        "colab": {}
      },
      "source": [
        "for i in numbers:\n",
        "    print (i)"
      ],
      "execution_count": 0,
      "outputs": []
    },
    {
      "cell_type": "code",
      "metadata": {
        "id": "mQQ-7RojQ838",
        "colab_type": "code",
        "colab": {}
      },
      "source": [
        "print (next(numbers))"
      ],
      "execution_count": 0,
      "outputs": []
    },
    {
      "cell_type": "markdown",
      "metadata": {
        "id": "Je7oRSMSQ838",
        "colab_type": "text"
      },
      "source": [
        "__! Important: Values in generator cannot be used more than once__"
      ]
    },
    {
      "cell_type": "code",
      "metadata": {
        "id": "bcf2E8ZfQ83-",
        "colab_type": "code",
        "colab": {}
      },
      "source": [
        "numbers = ( i for i in range(10) )\n",
        "print (\"generator: \", numbers)\n",
        "numbers = list(numbers)\n",
        "print (\"list: \", numbers)"
      ],
      "execution_count": 0,
      "outputs": []
    },
    {
      "cell_type": "markdown",
      "metadata": {
        "id": "tNd-aQInQ83-",
        "colab_type": "text"
      },
      "source": [
        "#### We will talk more about generators in later session"
      ]
    },
    {
      "cell_type": "markdown",
      "metadata": {
        "id": "b2mOawwcQ83-",
        "colab_type": "text"
      },
      "source": [
        "<span style=\"color:red\">###################################A###############################################################################</span><br>\n",
        "<span style=\"color:red\">##################################################################################################################</span><br>"
      ]
    },
    {
      "cell_type": "markdown",
      "metadata": {
        "id": "uKzS9mxkQ83_",
        "colab_type": "text"
      },
      "source": [
        "## Function"
      ]
    },
    {
      "cell_type": "code",
      "metadata": {
        "id": "aFDmR_zYQ83_",
        "colab_type": "code",
        "colab": {}
      },
      "source": [
        "def add_numbers(parameter_a, parameter_b):\n",
        "    \"\"\"This function adds two numbers 'parameter_a' and 'parameter_b' and returns the sum\"\"\"\n",
        "    sum = parameter_a + parameter_b\n",
        "    print (\"print statement before return\")\n",
        "    return sum\n",
        "    #other statements after return will not execute\n",
        "    print (\"print statement after return\")"
      ],
      "execution_count": 0,
      "outputs": []
    },
    {
      "cell_type": "code",
      "metadata": {
        "id": "h7ayZEx5Q84A",
        "colab_type": "code",
        "colab": {}
      },
      "source": [
        "print (add_numbers.__doc__)"
      ],
      "execution_count": 0,
      "outputs": []
    },
    {
      "cell_type": "code",
      "metadata": {
        "id": "Mrkx-DAHQ84B",
        "colab_type": "code",
        "colab": {}
      },
      "source": [
        "sum = add_numbers(10,20)\n",
        "print (sum)"
      ],
      "execution_count": 0,
      "outputs": []
    },
    {
      "cell_type": "code",
      "metadata": {
        "id": "7j7IGRYRQ84C",
        "colab_type": "code",
        "colab": {}
      },
      "source": [
        "a = 10\n",
        "b = 20\n",
        "sum = add_numbers(a,b)\n",
        "print (sum)"
      ],
      "execution_count": 0,
      "outputs": []
    },
    {
      "cell_type": "markdown",
      "metadata": {
        "id": "a3N8R-hUQ84D",
        "colab_type": "text"
      },
      "source": [
        "### Write a function that takes person's name as paramter and greets the person. Eg. \"Good morning, _name_\""
      ]
    },
    {
      "cell_type": "code",
      "metadata": {
        "id": "wiaSXcWmQ84D",
        "colab_type": "code",
        "colab": {}
      },
      "source": [
        ""
      ],
      "execution_count": 0,
      "outputs": []
    },
    {
      "cell_type": "code",
      "metadata": {
        "id": "zFRL405XQ84F",
        "colab_type": "code",
        "colab": {}
      },
      "source": [
        ""
      ],
      "execution_count": 0,
      "outputs": []
    },
    {
      "cell_type": "markdown",
      "metadata": {
        "id": "0lFGvszPQ84G",
        "colab_type": "text"
      },
      "source": [
        "### Types of function arguments"
      ]
    },
    {
      "cell_type": "markdown",
      "metadata": {
        "id": "0ahcd5RZQ84G",
        "colab_type": "text"
      },
      "source": [
        "- **Required arguments**\n",
        "- **Keyword arguments**\n",
        "- **Default arguments**\n",
        "- **Variable-length arguments**"
      ]
    },
    {
      "cell_type": "markdown",
      "metadata": {
        "id": "gDF-BOeXQ84H",
        "colab_type": "text"
      },
      "source": [
        "#### Required arguments\n",
        "<br>_Required arguments are the arguments passed to a function in correct positional order._"
      ]
    },
    {
      "cell_type": "code",
      "metadata": {
        "id": "ek-qusIDQ84H",
        "colab_type": "code",
        "colab": {}
      },
      "source": [
        "def person(name, age):\n",
        "    \"\"\"This prints the persons name and age\"\"\"\n",
        "    print (\"{} is {} years old.\".format(name, age))\n",
        "    return;"
      ],
      "execution_count": 0,
      "outputs": []
    },
    {
      "cell_type": "code",
      "metadata": {
        "scrolled": true,
        "id": "YrmNTA3iQ84I",
        "colab_type": "code",
        "colab": {}
      },
      "source": [
        "person()"
      ],
      "execution_count": 0,
      "outputs": []
    },
    {
      "cell_type": "code",
      "metadata": {
        "id": "EmRPhEaEQ84J",
        "colab_type": "code",
        "colab": {}
      },
      "source": [
        "person('Ram', 27)"
      ],
      "execution_count": 0,
      "outputs": []
    },
    {
      "cell_type": "code",
      "metadata": {
        "id": "xgdPtfyMQ84K",
        "colab_type": "code",
        "colab": {}
      },
      "source": [
        "person(27, 'Ram')"
      ],
      "execution_count": 0,
      "outputs": []
    },
    {
      "cell_type": "markdown",
      "metadata": {
        "id": "LT3CCggoQ84L",
        "colab_type": "text"
      },
      "source": [
        "#### Keyword Arguments"
      ]
    },
    {
      "cell_type": "code",
      "metadata": {
        "id": "bpChnE3AQ84L",
        "colab_type": "code",
        "colab": {}
      },
      "source": [
        "person(age=27, name='Ram')"
      ],
      "execution_count": 0,
      "outputs": []
    },
    {
      "cell_type": "markdown",
      "metadata": {
        "id": "5iLnJ9ppQ84M",
        "colab_type": "text"
      },
      "source": [
        "#### Default arguments"
      ]
    },
    {
      "cell_type": "code",
      "metadata": {
        "id": "URsZZgokQ84M",
        "colab_type": "code",
        "colab": {}
      },
      "source": [
        "def person(name, age=25):\n",
        "    \"\"\"This prints the persons name and age\"\"\"\n",
        "    print (\"{} is {} years old.\".format(name, age))\n",
        "    return;"
      ],
      "execution_count": 0,
      "outputs": []
    },
    {
      "cell_type": "code",
      "metadata": {
        "id": "C8CDasa_Q84N",
        "colab_type": "code",
        "colab": {}
      },
      "source": [
        "person('Ram')"
      ],
      "execution_count": 0,
      "outputs": []
    },
    {
      "cell_type": "code",
      "metadata": {
        "id": "hz8ZI3unQ84O",
        "colab_type": "code",
        "colab": {}
      },
      "source": [
        "person(age=27, name='Ram')"
      ],
      "execution_count": 0,
      "outputs": []
    },
    {
      "cell_type": "code",
      "metadata": {
        "id": "PaCCe5WKQ84P",
        "colab_type": "code",
        "colab": {}
      },
      "source": [
        "person(age=27, 'Ram')"
      ],
      "execution_count": 0,
      "outputs": []
    },
    {
      "cell_type": "markdown",
      "metadata": {
        "id": "3MeGYMLkQ84Q",
        "colab_type": "text"
      },
      "source": [
        "#### Variable-length arguments"
      ]
    },
    {
      "cell_type": "code",
      "metadata": {
        "id": "GW3GxDAmQ84R",
        "colab_type": "code",
        "colab": {}
      },
      "source": [
        "def students(*student_names):\n",
        "    \"\"\"This prints out all the names of the students\"\"\"\n",
        "    for student in student_names:\n",
        "        print (student)"
      ],
      "execution_count": 0,
      "outputs": []
    },
    {
      "cell_type": "code",
      "metadata": {
        "id": "04o0pw0NQ84S",
        "colab_type": "code",
        "colab": {}
      },
      "source": [
        "students('ram', 'shyam', 'sita', 'geeta')"
      ],
      "execution_count": 0,
      "outputs": []
    },
    {
      "cell_type": "markdown",
      "metadata": {
        "id": "nhrxWBRyQ84S",
        "colab_type": "text"
      },
      "source": [
        "### Annonymous functions"
      ]
    },
    {
      "cell_type": "markdown",
      "metadata": {
        "id": "LoJUW5JYQ84S",
        "colab_type": "text"
      },
      "source": [
        "**Functions that are not declared in the standard manner by using the def keyword**"
      ]
    },
    {
      "cell_type": "code",
      "metadata": {
        "id": "oexEzvPZQ84S",
        "colab_type": "code",
        "colab": {}
      },
      "source": [
        "sum = lambda x, y: x+y\n",
        "print (sum(5,6))"
      ],
      "execution_count": 0,
      "outputs": []
    },
    {
      "cell_type": "code",
      "metadata": {
        "id": "L9p2MtRxQ84T",
        "colab_type": "code",
        "colab": {}
      },
      "source": [
        "student = lambda name, age : \"{} is {} years old\".format(name, age)\n",
        "print (student('ram', '22'))"
      ],
      "execution_count": 0,
      "outputs": []
    },
    {
      "cell_type": "markdown",
      "metadata": {
        "id": "DbdylHi9Q84V",
        "colab_type": "text"
      },
      "source": [
        "### Global vs Local variables\n",
        "Variables that are defined inside a function body have a local scope, and those defined outside have a global scope."
      ]
    },
    {
      "cell_type": "markdown",
      "metadata": {
        "id": "J_miH_I_Q84V",
        "colab_type": "text"
      },
      "source": [
        "<span style=\"color:red\">###################################################################################################################</span><br>\n",
        "<span style=\"color:red\">##################################################################################################################</span><br>"
      ]
    },
    {
      "cell_type": "markdown",
      "metadata": {
        "id": "WqLUqAH5Q84V",
        "colab_type": "text"
      },
      "source": [
        "## Generators"
      ]
    },
    {
      "cell_type": "markdown",
      "metadata": {
        "id": "zjiV8KcZQ84V",
        "colab_type": "text"
      },
      "source": [
        "#### Simply put, generator generates values.\n",
        "_Just like normal function. But whenever it needs to generate a value, it does so with the 'yield' keyword rather than 'return'_"
      ]
    },
    {
      "cell_type": "code",
      "metadata": {
        "id": "YyZjJMTcQ84W",
        "colab_type": "code",
        "colab": {}
      },
      "source": [
        "def students_name_generator():\n",
        "    yield 'ram'\n",
        "    yield 'shyam'\n",
        "    yield 'hari'"
      ],
      "execution_count": 0,
      "outputs": []
    },
    {
      "cell_type": "code",
      "metadata": {
        "id": "narqo3GGQ84W",
        "colab_type": "code",
        "colab": {}
      },
      "source": [
        "students = students_name_generator()"
      ],
      "execution_count": 0,
      "outputs": []
    },
    {
      "cell_type": "code",
      "metadata": {
        "id": "gR8v0DqeQ84X",
        "colab_type": "code",
        "colab": {}
      },
      "source": [
        "print ( next(students) )"
      ],
      "execution_count": 0,
      "outputs": []
    },
    {
      "cell_type": "code",
      "metadata": {
        "id": "qQn_ypRTQ84X",
        "colab_type": "code",
        "colab": {}
      },
      "source": [
        "print ( next(students) )"
      ],
      "execution_count": 0,
      "outputs": []
    },
    {
      "cell_type": "code",
      "metadata": {
        "id": "3xYoW1g0Q84Z",
        "colab_type": "code",
        "colab": {}
      },
      "source": [
        "print ( next(students) )"
      ],
      "execution_count": 0,
      "outputs": []
    },
    {
      "cell_type": "code",
      "metadata": {
        "id": "avkkB3CAQ84Z",
        "colab_type": "code",
        "colab": {}
      },
      "source": [
        "print ( next(students) )"
      ],
      "execution_count": 0,
      "outputs": []
    },
    {
      "cell_type": "code",
      "metadata": {
        "id": "8H2C6WZ-Q84a",
        "colab_type": "code",
        "colab": {}
      },
      "source": [
        "def numbers_generator(num):\n",
        "    for i in range(num):\n",
        "        yield i*2"
      ],
      "execution_count": 0,
      "outputs": []
    },
    {
      "cell_type": "code",
      "metadata": {
        "id": "dVxFWfquQ84b",
        "colab_type": "code",
        "colab": {}
      },
      "source": [
        "number = numbers_generator(10)"
      ],
      "execution_count": 0,
      "outputs": []
    },
    {
      "cell_type": "code",
      "metadata": {
        "id": "qhOrQyWBQ84d",
        "colab_type": "code",
        "colab": {}
      },
      "source": [
        "for i in number:\n",
        "    print (i)"
      ],
      "execution_count": 0,
      "outputs": []
    },
    {
      "cell_type": "code",
      "metadata": {
        "id": "SlvYLR12Q84e",
        "colab_type": "code",
        "colab": {}
      },
      "source": [
        "number = numbers_generator(10)"
      ],
      "execution_count": 0,
      "outputs": []
    },
    {
      "cell_type": "code",
      "metadata": {
        "id": "0h17nFYYQ84e",
        "colab_type": "code",
        "colab": {}
      },
      "source": [
        "print ( (next(number)) )"
      ],
      "execution_count": 0,
      "outputs": []
    },
    {
      "cell_type": "code",
      "metadata": {
        "id": "fFdN2ka_Q84f",
        "colab_type": "code",
        "colab": {}
      },
      "source": [
        "print ( (next(number)) )"
      ],
      "execution_count": 0,
      "outputs": []
    },
    {
      "cell_type": "code",
      "metadata": {
        "id": "7iqJ7iEfQ84g",
        "colab_type": "code",
        "colab": {}
      },
      "source": [
        "for i in number:\n",
        "    print (i)"
      ],
      "execution_count": 0,
      "outputs": []
    },
    {
      "cell_type": "code",
      "metadata": {
        "id": "KuCszuRKQ84h",
        "colab_type": "code",
        "colab": {}
      },
      "source": [
        ""
      ],
      "execution_count": 0,
      "outputs": []
    },
    {
      "cell_type": "markdown",
      "metadata": {
        "id": "qSgZNa5EQ84i",
        "colab_type": "text"
      },
      "source": [
        "<span style=\"color:red\">###################################################################################################################</span><br>\n",
        "<span style=\"color:red\">##################################################################################################################</span><br>"
      ]
    },
    {
      "cell_type": "markdown",
      "metadata": {
        "id": "hX2NZ8oaQ84i",
        "colab_type": "text"
      },
      "source": [
        "## Class"
      ]
    },
    {
      "cell_type": "markdown",
      "metadata": {
        "id": "Cq-EGfaTQ84i",
        "colab_type": "text"
      },
      "source": [
        "**Lets start with an example**"
      ]
    },
    {
      "cell_type": "code",
      "metadata": {
        "id": "06aivY5OQ84j",
        "colab_type": "code",
        "colab": {}
      },
      "source": [
        "class Student:\n",
        "    \"\"\"Base class for all the students of the class\"\"\"\n",
        "    \n",
        "    total_students = 0\n",
        "    \n",
        "    def __init__(self, name, age, class_, total_marks):\n",
        "        print (\"__init__ method is executed\")\n",
        "        self.name = name\n",
        "        self.age = age\n",
        "        self.class_ = class_\n",
        "        self.total_marks = total_marks\n",
        "        \n",
        "        Student.total_students += 1\n",
        "\n",
        "    def get_total_students_count(baal):\n",
        "        print (\"get_total_students_count is executed\")\n",
        "        return Student.total_students\n",
        "    \n",
        "    def display_total_students_count(self):\n",
        "        print (\"display_total_students_count is executed\")\n",
        "        print (\"Total number of students: {count}\", count=Students.total_students)\n",
        "        \n",
        "    def get_age(self):\n",
        "        print (\"get_age is executed\")\n",
        "        return self.age\n",
        "    \n",
        "    def get_class(self):\n",
        "        print (\"get_class is executed\")\n",
        "        return self.class_\n",
        "    \n",
        "    def get_total_marks(self):\n",
        "        print (\"get_total_marks is executed\")\n",
        "        return self.total_marks\n",
        "    \n",
        "    def set_total_marks(self, new_marks):\n",
        "        print (\"set_total_marks is executed\")\n",
        "        self.total_marks = new_marks\n",
        "    \n",
        "    def get_complete_information(self):\n",
        "        print (\"get_complete_information is executed\")\n",
        "        student = {\n",
        "            \"name\": self.name,\n",
        "            \"class\": self.class_,\n",
        "            \"age\": self.age,\n",
        "            \"total_marks\": self.total_marks\n",
        "        }\n",
        "        return student"
      ],
      "execution_count": 0,
      "outputs": []
    },
    {
      "cell_type": "code",
      "metadata": {
        "id": "plYaaEmlQ84k",
        "colab_type": "code",
        "colab": {}
      },
      "source": [
        "student1 = Student('ram', '20', 'CSIT', '400')\n",
        "print (student1)"
      ],
      "execution_count": 0,
      "outputs": []
    },
    {
      "cell_type": "code",
      "metadata": {
        "id": "ZptaxNkjQ84l",
        "colab_type": "code",
        "colab": {}
      },
      "source": [
        "student2 = Student('shyam', '21', 'CSIT', '420')\n",
        "print (student2)"
      ],
      "execution_count": 0,
      "outputs": []
    },
    {
      "cell_type": "markdown",
      "metadata": {
        "id": "7enadywWQ84m",
        "colab_type": "text"
      },
      "source": [
        "- \\__init\\__ is a constructor that is used to initialize the values in the class object\n",
        "- class attributes\n",
        "- instance attributes"
      ]
    },
    {
      "cell_type": "code",
      "metadata": {
        "id": "rM-3dRJEQ84m",
        "colab_type": "code",
        "colab": {}
      },
      "source": [
        "print ( student1.age )"
      ],
      "execution_count": 0,
      "outputs": []
    },
    {
      "cell_type": "code",
      "metadata": {
        "id": "UR669SIZQ84m",
        "colab_type": "code",
        "colab": {}
      },
      "source": [
        "print ( student1.get_total_students_count() )"
      ],
      "execution_count": 0,
      "outputs": []
    },
    {
      "cell_type": "code",
      "metadata": {
        "id": "pVTKgEOTQ84n",
        "colab_type": "code",
        "colab": {}
      },
      "source": [
        "print ( student2.get_total_students_count() )"
      ],
      "execution_count": 0,
      "outputs": []
    },
    {
      "cell_type": "code",
      "metadata": {
        "id": "GwNbEhkEQ84o",
        "colab_type": "code",
        "colab": {}
      },
      "source": [
        "student2.get_total_marks()"
      ],
      "execution_count": 0,
      "outputs": []
    },
    {
      "cell_type": "code",
      "metadata": {
        "id": "w82vCT5NQ84q",
        "colab_type": "code",
        "colab": {}
      },
      "source": [
        "student2.set_total_marks(380)"
      ],
      "execution_count": 0,
      "outputs": []
    },
    {
      "cell_type": "code",
      "metadata": {
        "id": "rzxvk1NWQ84q",
        "colab_type": "code",
        "colab": {}
      },
      "source": [
        "print (student2.get_total_marks())"
      ],
      "execution_count": 0,
      "outputs": []
    },
    {
      "cell_type": "markdown",
      "metadata": {
        "id": "o_kNBir8Q84s",
        "colab_type": "text"
      },
      "source": [
        "### Built-ins"
      ]
    },
    {
      "cell_type": "code",
      "metadata": {
        "id": "7Kb1IVI1Q84s",
        "colab_type": "code",
        "colab": {}
      },
      "source": [
        "Student.__name__"
      ],
      "execution_count": 0,
      "outputs": []
    },
    {
      "cell_type": "code",
      "metadata": {
        "id": "yJ5eU2qvQ84t",
        "colab_type": "code",
        "colab": {}
      },
      "source": [
        "Student.__doc__"
      ],
      "execution_count": 0,
      "outputs": []
    },
    {
      "cell_type": "code",
      "metadata": {
        "id": "rQvAV_-7Q84u",
        "colab_type": "code",
        "colab": {}
      },
      "source": [
        "Student.__module__"
      ],
      "execution_count": 0,
      "outputs": []
    },
    {
      "cell_type": "code",
      "metadata": {
        "id": "IqdaD6D4Q84u",
        "colab_type": "code",
        "colab": {}
      },
      "source": [
        "Student.__dict__"
      ],
      "execution_count": 0,
      "outputs": []
    },
    {
      "cell_type": "code",
      "metadata": {
        "id": "Jn4SXKg6Q84w",
        "colab_type": "code",
        "colab": {}
      },
      "source": [
        "student1.__dict__"
      ],
      "execution_count": 0,
      "outputs": []
    },
    {
      "cell_type": "markdown",
      "metadata": {
        "id": "mXEarCdWQ84x",
        "colab_type": "text"
      },
      "source": [
        "### Inheritance"
      ]
    },
    {
      "cell_type": "code",
      "metadata": {
        "id": "-Un6UbKQQ84x",
        "colab_type": "code",
        "colab": {}
      },
      "source": [
        "class StudentDetails(Student):\n",
        "    \"\"\"This inherits the Student class and adds additional details\"\"\"\n",
        "    def __init__(self, address, father_name, *args):\n",
        "        self.address = address\n",
        "        self.father_name = father_name\n",
        "        Student.__init__(self, *args)\n",
        "        print (*args)"
      ],
      "execution_count": 0,
      "outputs": []
    },
    {
      "cell_type": "code",
      "metadata": {
        "id": "C8J5fObKQ84y",
        "colab_type": "code",
        "colab": {}
      },
      "source": [
        "student1_detail = StudentDetails(\"Baneshwor\", \"sitaram\", \"ram\", 20, \"CSIT\", 399)"
      ],
      "execution_count": 0,
      "outputs": []
    },
    {
      "cell_type": "code",
      "metadata": {
        "id": "tcsJLJEHQ84z",
        "colab_type": "code",
        "colab": {}
      },
      "source": [
        "class StudentDetails(Student):\n",
        "    \"\"\"This inherits the Student class and adds additional details\"\"\"\n",
        "    def __init__(self, address, father_name, *args):\n",
        "        self.address = address\n",
        "        self.father_name = father_name\n",
        "        Student.__init__(self, *args)\n",
        "        print (*args)\n",
        "        \n",
        "    def set_total_marks(self, marks):\n",
        "        print (\"this is function overriding\")\n",
        "        self.total_marks = marks\n",
        "        \n",
        "    def get_address(self):\n",
        "        print (\"This is a new method in child class\")\n",
        "        return self.address"
      ],
      "execution_count": 0,
      "outputs": []
    },
    {
      "cell_type": "code",
      "metadata": {
        "id": "p0YBZGNsQ84z",
        "colab_type": "code",
        "colab": {}
      },
      "source": [
        "student_details1 = StudentDetails(\"Baneshwor\", \"sitaram\", \"ram\", 20, \"CSIT\", 399)\n",
        "print (dir(student_details1))"
      ],
      "execution_count": 0,
      "outputs": []
    },
    {
      "cell_type": "code",
      "metadata": {
        "id": "Ci7yAoinQ848",
        "colab_type": "code",
        "colab": {}
      },
      "source": [
        "print ( student_details1.age )"
      ],
      "execution_count": 0,
      "outputs": []
    },
    {
      "cell_type": "markdown",
      "metadata": {
        "id": "aQV42W7sQ848",
        "colab_type": "text"
      },
      "source": [
        "####  Try out few other operations on the newly constructed object"
      ]
    },
    {
      "cell_type": "code",
      "metadata": {
        "id": "YbZ576pFQ848",
        "colab_type": "code",
        "colab": {}
      },
      "source": [
        ""
      ],
      "execution_count": 0,
      "outputs": []
    },
    {
      "cell_type": "code",
      "metadata": {
        "id": "qW_i9z-YQ84-",
        "colab_type": "code",
        "colab": {}
      },
      "source": [
        ""
      ],
      "execution_count": 0,
      "outputs": []
    },
    {
      "cell_type": "code",
      "metadata": {
        "id": "O-kjXdO1Q84_",
        "colab_type": "code",
        "colab": {}
      },
      "source": [
        ""
      ],
      "execution_count": 0,
      "outputs": []
    },
    {
      "cell_type": "markdown",
      "metadata": {
        "id": "2fWt4UmlQ85A",
        "colab_type": "text"
      },
      "source": [
        "## I/O"
      ]
    },
    {
      "cell_type": "markdown",
      "metadata": {
        "id": "0mXAWHs1Q85A",
        "colab_type": "text"
      },
      "source": [
        "#### Taking user input"
      ]
    },
    {
      "cell_type": "code",
      "metadata": {
        "id": "_q-hwiHBQ85A",
        "colab_type": "code",
        "colab": {}
      },
      "source": [
        "def count_characters(string):\n",
        "    return len(string)\n",
        "\n",
        "input_string = input(\"Enter any string: \")\n",
        "\n",
        "length = count_characters(input_string)\n",
        "print (\"The length of ''{}'' is {}\".format(input_string, length))"
      ],
      "execution_count": 0,
      "outputs": []
    },
    {
      "cell_type": "markdown",
      "metadata": {
        "id": "Y7L7Ddx8Q85B",
        "colab_type": "text"
      },
      "source": [
        "#### Working with files"
      ]
    },
    {
      "cell_type": "code",
      "metadata": {
        "id": "_tc2uTzwQ85B",
        "colab_type": "code",
        "colab": {}
      },
      "source": [
        "input_file = 'data.csv'\n",
        "\n",
        "data_file = open(input_file)\n",
        "print (data_file)"
      ],
      "execution_count": 0,
      "outputs": []
    },
    {
      "cell_type": "code",
      "metadata": {
        "id": "278cR5mJQ85C",
        "colab_type": "code",
        "colab": {}
      },
      "source": [
        "data = data_file.readlines()\n",
        "print (data)"
      ],
      "execution_count": 0,
      "outputs": []
    },
    {
      "cell_type": "code",
      "metadata": {
        "id": "fH2qYoiJQ85D",
        "colab_type": "code",
        "colab": {}
      },
      "source": [
        "for line in data:\n",
        "    print (line) "
      ],
      "execution_count": 0,
      "outputs": []
    },
    {
      "cell_type": "code",
      "metadata": {
        "id": "oHnLOaOlQ85D",
        "colab_type": "code",
        "colab": {}
      },
      "source": [
        "first_line = data[0]\n",
        "print (first_line)\n",
        "print (len(first_line))"
      ],
      "execution_count": 0,
      "outputs": []
    },
    {
      "cell_type": "code",
      "metadata": {
        "id": "sg6CQybLQ85F",
        "colab_type": "code",
        "colab": {}
      },
      "source": [
        "stripped_first_line = first_line.strip()\n",
        "print (stripped_first_line)\n",
        "print (len(stripped_first_line))"
      ],
      "execution_count": 0,
      "outputs": []
    },
    {
      "cell_type": "markdown",
      "metadata": {
        "id": "VuzcsRgVQ85G",
        "colab_type": "text"
      },
      "source": [
        "#### check and close opened file"
      ]
    },
    {
      "cell_type": "code",
      "metadata": {
        "id": "TDmIZMiSQ85G",
        "colab_type": "code",
        "colab": {}
      },
      "source": [
        "data_file.closed"
      ],
      "execution_count": 0,
      "outputs": []
    },
    {
      "cell_type": "code",
      "metadata": {
        "id": "7UvhV2tgQ85G",
        "colab_type": "code",
        "colab": {}
      },
      "source": [
        "data_file.close()"
      ],
      "execution_count": 0,
      "outputs": []
    },
    {
      "cell_type": "code",
      "metadata": {
        "id": "iIKQxBZAQ85I",
        "colab_type": "code",
        "colab": {}
      },
      "source": [
        "data_file.closed"
      ],
      "execution_count": 0,
      "outputs": []
    },
    {
      "cell_type": "code",
      "metadata": {
        "id": "y4zXLUihQ85I",
        "colab_type": "code",
        "colab": {}
      },
      "source": [
        "data_file.readlines()"
      ],
      "execution_count": 0,
      "outputs": []
    },
    {
      "cell_type": "markdown",
      "metadata": {
        "id": "pTTds8AyQ85J",
        "colab_type": "text"
      },
      "source": [
        "#### using 'with' and 'as' to work with files"
      ]
    },
    {
      "cell_type": "code",
      "metadata": {
        "id": "Vi-aJA0bQ85J",
        "colab_type": "code",
        "colab": {}
      },
      "source": [
        "with open(input_file) as data_file:\n",
        "    data = data_file.readlines()\n",
        "    print (data)"
      ],
      "execution_count": 0,
      "outputs": []
    },
    {
      "cell_type": "code",
      "metadata": {
        "id": "JTN1BazRQ85K",
        "colab_type": "code",
        "colab": {}
      },
      "source": [
        "data_file.closed"
      ],
      "execution_count": 0,
      "outputs": []
    },
    {
      "cell_type": "markdown",
      "metadata": {
        "id": "rIW1Na4bQ85L",
        "colab_type": "text"
      },
      "source": [
        "## Exceptions"
      ]
    },
    {
      "cell_type": "markdown",
      "metadata": {
        "id": "mLB67boNQ85L",
        "colab_type": "text"
      },
      "source": [
        "Python has many built-in exceptions which forces the program to output an error when something in it goes wrong.\n",
        "\n",
        "When these exceptions occur, it causes the current process to stop and passes it to the calling process until it is handled. If not handled, our program will crash.\n",
        "<br>\n",
        "For full details on different built-in exceptions refer to: https://docs.python.org/3/library/exceptions.html"
      ]
    },
    {
      "cell_type": "code",
      "metadata": {
        "id": "5cQg_ajCQ85L",
        "colab_type": "code",
        "colab": {}
      },
      "source": [
        "def compute_square(number):\n",
        "    square = number ** 2\n",
        "    return square\n",
        "\n",
        "print (\"computation started\")\n",
        "print ( compute_square('a') )\n",
        "print (\"program finished successfully\")"
      ],
      "execution_count": 0,
      "outputs": []
    },
    {
      "cell_type": "markdown",
      "metadata": {
        "id": "NPL4K2S9Q85N",
        "colab_type": "text"
      },
      "source": [
        "#### Handling exceptions"
      ]
    },
    {
      "cell_type": "code",
      "metadata": {
        "id": "kzk_u6z4Q85N",
        "colab_type": "code",
        "colab": {}
      },
      "source": [
        "def compute_square(number):\n",
        "    try:\n",
        "        square = number ** 2\n",
        "    except TypeError as e:\n",
        "        return e\n",
        "    return square\n",
        "\n",
        "print (\"computation started\")\n",
        "print ( compute_square('a') )\n",
        "print (\"program finished successfully\")"
      ],
      "execution_count": 0,
      "outputs": []
    },
    {
      "cell_type": "markdown",
      "metadata": {
        "id": "d1c-2gELQ85N",
        "colab_type": "text"
      },
      "source": [
        "#### return custom message from except block"
      ]
    },
    {
      "cell_type": "code",
      "metadata": {
        "id": "cR33cKnPQ85N",
        "colab_type": "code",
        "colab": {}
      },
      "source": [
        "def compute_square(number):\n",
        "    try:\n",
        "        square = number ** 2\n",
        "    except TypeError as e:\n",
        "        return \"Input number must be an integer or a float\"\n",
        "    return square\n",
        "\n",
        "print (\"computation started\")\n",
        "print ( compute_square('a') )\n",
        "print (\"program finished successfully\")"
      ],
      "execution_count": 0,
      "outputs": []
    },
    {
      "cell_type": "markdown",
      "metadata": {
        "id": "BJV-KfAIQ85P",
        "colab_type": "text"
      },
      "source": [
        "#### Multiple except blocks and wildcard exception catcher"
      ]
    },
    {
      "cell_type": "code",
      "metadata": {
        "id": "BAuS4W5PQ85P",
        "colab_type": "code",
        "colab": {}
      },
      "source": [
        "def compute_square(number):\n",
        "    try:\n",
        "        square = number ** 2\n",
        "    except SyntaxError as e:\n",
        "        return \"SyntaxError occured\"\n",
        "    except TypeError as e:\n",
        "        return \"TypeError occured\"\n",
        "    except Exception as e:\n",
        "        return e\n",
        "    return square\n",
        "\n",
        "print (\"computation started\")\n",
        "print ( compute_square('a') )\n",
        "print (\"program finished successfully\")"
      ],
      "execution_count": 0,
      "outputs": []
    },
    {
      "cell_type": "code",
      "metadata": {
        "id": "8TL9aCjVQ85S",
        "colab_type": "code",
        "outputId": "3af40534-c2ad-4100-d6fd-5cf99ef70004",
        "colab": {
          "base_uri": "https://localhost:8080/",
          "height": 156
        }
      },
      "source": [
        "!df -h"
      ],
      "execution_count": 0,
      "outputs": [
        {
          "output_type": "stream",
          "text": [
            "Filesystem      Size  Used Avail Use% Mounted on\n",
            "overlay          49G   24G   24G  50% /\n",
            "tmpfs           6.4G     0  6.4G   0% /dev\n",
            "tmpfs           6.4G     0  6.4G   0% /sys/fs/cgroup\n",
            "tmpfs           6.4G  8.0K  6.4G   1% /var/colab\n",
            "/dev/sda1        55G   25G   31G  45% /etc/hosts\n",
            "shm             6.0G  4.0K  6.0G   1% /dev/shm\n",
            "tmpfs           6.4G     0  6.4G   0% /sys/firmware\n"
          ],
          "name": "stdout"
        }
      ]
    },
    {
      "cell_type": "code",
      "metadata": {
        "id": "-cWFVwB_Q85U",
        "colab_type": "code",
        "outputId": "68ba4191-9cb6-43d0-efb7-b911e535da6b",
        "colab": {
          "base_uri": "https://localhost:8080/",
          "height": 69
        }
      },
      "source": [
        "!free -h"
      ],
      "execution_count": 0,
      "outputs": [
        {
          "output_type": "stream",
          "text": [
            "              total        used        free      shared  buff/cache   available\n",
            "Mem:            12G        369M         10G        868K        1.5G         12G\n",
            "Swap:            0B          0B          0B\n"
          ],
          "name": "stdout"
        }
      ]
    },
    {
      "cell_type": "code",
      "metadata": {
        "id": "r8rlnDDkVM5G",
        "colab_type": "code",
        "outputId": "c912ab5e-2718-412f-f793-76fecd8d4890",
        "colab": {
          "base_uri": "https://localhost:8080/",
          "height": 52
        }
      },
      "source": [
        "!nvidia-smi"
      ],
      "execution_count": 0,
      "outputs": [
        {
          "output_type": "stream",
          "text": [
            "NVIDIA-SMI has failed because it couldn't communicate with the NVIDIA driver. Make sure that the latest NVIDIA driver is installed and running.\n",
            "\n"
          ],
          "name": "stdout"
        }
      ]
    },
    {
      "cell_type": "code",
      "metadata": {
        "id": "SGcAj-SmVStm",
        "colab_type": "code",
        "colab": {}
      },
      "source": [
        ""
      ],
      "execution_count": 0,
      "outputs": []
    }
  ]
}