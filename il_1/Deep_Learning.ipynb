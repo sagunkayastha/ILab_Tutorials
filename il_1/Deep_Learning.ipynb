{
  "nbformat": 4,
  "nbformat_minor": 0,
  "metadata": {
    "colab": {
      "name": "Deep Learning",
      "version": "0.3.2",
      "provenance": [],
      "collapsed_sections": [],
      "include_colab_link": true
    },
    "kernelspec": {
      "name": "python3",
      "display_name": "Python 3"
    }
  },
  "cells": [
    {
      "cell_type": "markdown",
      "metadata": {
        "id": "view-in-github",
        "colab_type": "text"
      },
      "source": [
        "<a href=\"https://colab.research.google.com/github/sagunkayastha/ILab_Tutorials/blob/master/Deep_Learning.ipynb\" target=\"_parent\"><img src=\"https://colab.research.google.com/assets/colab-badge.svg\" alt=\"Open In Colab\"/></a>"
      ]
    },
    {
      "cell_type": "markdown",
      "metadata": {
        "id": "QChSh0t_yxtB",
        "colab_type": "text"
      },
      "source": [
        "# Exercise One"
      ]
    },
    {
      "cell_type": "code",
      "metadata": {
        "id": "9Hnx6LABRY3u",
        "colab_type": "code",
        "colab": {}
      },
      "source": [
        "import numpy as np\n",
        "import matplotlib.pyplot as plt\n",
        "import sklearn\n",
        "import sklearn.linear_model"
      ],
      "execution_count": 0,
      "outputs": []
    },
    {
      "cell_type": "markdown",
      "metadata": {
        "id": "N7xun8sfT0GU",
        "colab_type": "text"
      },
      "source": [
        "**Helper Functions**"
      ]
    },
    {
      "cell_type": "code",
      "metadata": {
        "id": "wH3gkqrXR7pH",
        "colab_type": "code",
        "colab": {}
      },
      "source": [
        "def load_planar_dataset():\n",
        "    np.random.seed(1)\n",
        "    m = 400 # number of examples\n",
        "    N = int(m/2) # number of points per class\n",
        "    D = 2 # dimensionality\n",
        "    X = np.zeros((m,D)) # data matrix where each row is a single example\n",
        "    Y = np.zeros((m,1), dtype='uint8') # labels vector (0 for red, 1 for blue)\n",
        "    a = 4 # maximum ray of the flower\n",
        "\n",
        "    for j in range(2):\n",
        "        ix = range(N*j,N*(j+1))\n",
        "        t = np.linspace(j*3.12,(j+1)*3.12,N) + np.random.randn(N)*0.2 # theta\n",
        "        r = a*np.sin(4*t) + np.random.randn(N)*0.2 # radius\n",
        "        X[ix] = np.c_[r*np.sin(t), r*np.cos(t)]\n",
        "        Y[ix] = j\n",
        "        \n",
        "    X = X.T\n",
        "    Y = Y.T\n",
        "\n",
        "    return X, Y\n",
        "\n",
        "def plot_decision_boundary(model, X, y):\n",
        "  # Set min and max values and give it some padding\n",
        "  x_min, x_max = X[0, :].min() - 1, X[0, :].max() + 1\n",
        "  y_min, y_max = X[1, :].min() - 1, X[1, :].max() + 1\n",
        "  h = 0.01\n",
        "  # Generate a grid of points with distance h between them\n",
        "  xx, yy = np.meshgrid(np.arange(x_min, x_max, h), np.arange(y_min, y_max, h))\n",
        "  # Predict the function value for the whole grid\n",
        "  Z = model(np.c_[xx.ravel(), yy.ravel()])\n",
        "  Z = Z.reshape(xx.shape)\n",
        "  # Plot the contour and training examples\n",
        "  plt.contourf(xx, yy, Z, cmap=plt.cm.Spectral)\n",
        "  plt.ylabel('x2')\n",
        "  plt.xlabel('x1')\n",
        "  plt.scatter(X[0, :], X[1, :], c=y.squeeze(), cmap=plt.cm.Spectral)\n",
        "\n",
        "def sigmoid(x):\n",
        "\n",
        "  s = 1/(1+np.exp(-x))\n",
        "  return s"
      ],
      "execution_count": 0,
      "outputs": []
    },
    {
      "cell_type": "markdown",
      "metadata": {
        "id": "vyJ09H0LizpH",
        "colab_type": "text"
      },
      "source": [
        "**Data Preprocessing and visualization**"
      ]
    },
    {
      "cell_type": "code",
      "metadata": {
        "id": "LKrnwwVIR-ES",
        "colab_type": "code",
        "outputId": "49a4a83d-a049-4e12-9bb2-f42e23605c73",
        "colab": {
          "base_uri": "https://localhost:8080/",
          "height": 269
        }
      },
      "source": [
        "X, Y = load_planar_dataset()\n",
        "plt.scatter(X[0, :], X[1, :], c=Y.squeeze(), s=40, cmap=plt.cm.Spectral);"
      ],
      "execution_count": 0,
      "outputs": [
        {
          "output_type": "display_data",
          "data": {
            "image/png": "[encoded data removed]",
            "text/plain": [
              "<Figure size 432x288 with 1 Axes>"
            ]
          },
          "metadata": {
            "tags": []
          }
        }
      ]
    },
    {
      "cell_type": "markdown",
      "metadata": {
        "id": "1Y3NR2NkSz_l",
        "colab_type": "text"
      },
      "source": [
        "Data"
      ]
    },
    {
      "cell_type": "code",
      "metadata": {
        "id": "SlZfRmTlSzjh",
        "colab_type": "code",
        "colab": {}
      },
      "source": [
        "# Shape of input data\n",
        "shape_X = None\n",
        "shape_Y = None \n",
        "m = None\n",
        "print ('The shape of X is: ' + str(shape_X))\n",
        "print ('The shape of Y is: ' + str(shape_Y))\n",
        "print ('I have m = %d training examples!' % (m))"
      ],
      "execution_count": 0,
      "outputs": []
    },
    {
      "cell_type": "code",
      "metadata": {
        "id": "0akAv_q1SVnm",
        "colab_type": "code",
        "colab": {}
      },
      "source": [
        "\n"
      ],
      "execution_count": 0,
      "outputs": []
    },
    {
      "cell_type": "markdown",
      "metadata": {
        "id": "3YTe9RTejFTF",
        "colab_type": "text"
      },
      "source": [
        "**Solving Problem with Simple logistic regression - scikit learn library**"
      ]
    },
    {
      "cell_type": "code",
      "metadata": {
        "id": "YEoydL_3Twiz",
        "colab_type": "code",
        "colab": {}
      },
      "source": [
        "# Train the logistic regression classifier\n",
        "clf = sklearn.linear_model.LogisticRegressionCV();\n",
        "clf.fit(X.T, Y.T);"
      ],
      "execution_count": 0,
      "outputs": []
    },
    {
      "cell_type": "code",
      "metadata": {
        "id": "001eR9P4aGEW",
        "colab_type": "code",
        "outputId": "95799de3-9692-43b8-e3b6-a35371838b25",
        "colab": {
          "base_uri": "https://localhost:8080/",
          "height": 312
        }
      },
      "source": [
        "# Plot the decision boundary for logistic regression\n",
        "plot_decision_boundary(lambda x: clf.predict(x), X, Y)\n",
        "plt.title(\"Logistic Regression\")\n",
        "\n",
        "# Print accuracy\n",
        "LR_predictions = clf.predict(X.T)\n",
        "print ('Accuracy of logistic regression: %d ' % float((np.dot(Y,LR_predictions) + np.dot(1-Y,1-LR_predictions))/float(Y.size)*100) +\n",
        "       '% ' + \"(percentage of correctly labelled datapoints)\")"
      ],
      "execution_count": 0,
      "outputs": [
        {
          "output_type": "stream",
          "text": [
            "Accuracy of logistic regression: 47 % (percentage of correctly labelled datapoints)\n"
          ],
          "name": "stdout"
        },
        {
          "output_type": "display_data",
          "data": {
            "image/png": "[encoded data removed]",
            "text/plain": [
              "<Figure size 432x288 with 1 Axes>"
            ]
          },
          "metadata": {
            "tags": []
          }
        }
      ]
    },
    {
      "cell_type": "markdown",
      "metadata": {
        "id": "7lj9ja8BazfN",
        "colab_type": "text"
      },
      "source": [
        "# MLP\n"
      ]
    },
    {
      "cell_type": "markdown",
      "metadata": {
        "id": "10z3qFjqjYT8",
        "colab_type": "text"
      },
      "source": [
        "For one example $x^{(i)}$:\n",
        "$$z^{[1] (i)} =  W^{[1]} x^{(i)} + b^{[1] (i)}\\tag{1}$$ \n",
        "$$a^{[1] (i)} = \\tanh(z^{[1] (i)})\\tag{2}$$\n",
        "$$z^{[2] (i)} = W^{[2]} a^{[1] (i)} + b^{[2] (i)}\\tag{3}$$\n",
        "$$\\hat{y}^{(i)} = a^{[2] (i)} = \\sigma(z^{ [2] (i)})\\tag{4}$$\n",
        "$$y^{(i)}_{prediction} = \\begin{cases} 1 & \\mbox{if } a^{[2](i)} > 0.5 \\\\ 0 & \\mbox{otherwise } \\end{cases}\\tag{5}$$\n",
        "\n",
        "Given the predictions on all the examples, you can also compute the cost $J$ as follows: \n",
        "$$J = - \\frac{1}{m} \\sum\\limits_{i = 0}^{m} \\large\\left(\\small y^{(i)}\\log\\left(a^{[2] (i)}\\right) + (1-y^{(i)})\\log\\left(1- a^{[2] (i)}\\right)  \\large  \\right) \\small \\tag{6}$$"
      ]
    },
    {
      "cell_type": "markdown",
      "metadata": {
        "id": "qPK6jlA0atkV",
        "colab_type": "text"
      },
      "source": [
        "\n",
        "\n",
        "\n",
        "![alt text](https://raw.githubusercontent.com/sagunkayastha/ILab_Tutorials/master/mlp.png)"
      ]
    },
    {
      "cell_type": "code",
      "metadata": {
        "id": "C5hqlV7HaTiS",
        "colab_type": "code",
        "colab": {}
      },
      "source": [
        "def layer_sizes(X, Y):\n",
        "    \"\"\"\n",
        "    Arguments:\n",
        "    X -- input dataset of shape (input size, number of examples)\n",
        "    Y -- labels of shape (output size, number of examples)\n",
        "    \n",
        "    Returns:\n",
        "    n_x -- the size of the input layer\n",
        "    n_h -- the size of the hidden layer\n",
        "    n_y -- the size of the output layer\n",
        "    \"\"\"\n",
        "    \n",
        "    n_x = None # size of input layer\n",
        "    n_h = None\n",
        "    n_y = None # size of output layer\n",
        "    \n",
        "    return (n_x, n_h, n_y)"
      ],
      "execution_count": 0,
      "outputs": []
    },
    {
      "cell_type": "markdown",
      "metadata": {
        "id": "ByqP1V4PpBpu",
        "colab_type": "text"
      },
      "source": [
        "**Initialize the weights and biases**\n",
        "\n",
        "hint: Initialize weights and biases\n",
        "\n",
        "      use - np.random.randn(a, b) * 0.01 for weights\n",
        "          - np.zeros(shape=(a, 1)) for biases "
      ]
    },
    {
      "cell_type": "code",
      "metadata": {
        "id": "9EC2tKQCbY8z",
        "colab_type": "code",
        "colab": {}
      },
      "source": [
        "def initialize_parameters(n_x, n_h, n_y):\n",
        "    \n",
        "    \n",
        "    np.random.seed(2) \n",
        "        \n",
        "    W1 = None\n",
        "    b1 = None\n",
        "    W2 = None\n",
        "    b2 = None\n",
        "    \n",
        "    parameters = {\"W1\": W1,\n",
        "                  \"b1\": b1,\n",
        "                  \"W2\": W2,\n",
        "                  \"b2\": b2}\n",
        "    \n",
        "    return parameters"
      ],
      "execution_count": 0,
      "outputs": []
    },
    {
      "cell_type": "markdown",
      "metadata": {
        "id": "omRj8zm7b2nY",
        "colab_type": "text"
      },
      "source": [
        "**Forward Propagation**\n",
        "\n",
        "Steps:\n",
        "1. Get the values of weights and biases for parameter dictionary \n",
        "2. Perform forward propagation for figure above. Use tanh activation function for first hidden layer and sigmoid for output layer\n",
        "3. Return Activation from output layer and a dictionary with all the activations \n"
      ]
    },
    {
      "cell_type": "code",
      "metadata": {
        "id": "OaSFfqiLbffs",
        "colab_type": "code",
        "colab": {}
      },
      "source": [
        "def forward_propagation(X, parameters):\n",
        "    \n",
        "    ### Start ###\n",
        "    W1 = None\n",
        "    b1 = None\n",
        "    W2 = None\n",
        "    b2 = None\n",
        "    ### End 1 ###\n",
        "    \n",
        "    ### Start 2 ###\n",
        "    Z1 = None\n",
        "    A1 = None\n",
        "    Z2 = None\n",
        "    A2 = None\n",
        "    \n",
        "    ### End 2 ###\n",
        "    \n",
        "    cache = {\"Z1\": Z1,\n",
        "             \"A1\": A1,\n",
        "             \"Z2\": Z2,\n",
        "             \"A2\": A2}\n",
        "    \n",
        "    return A2, cache"
      ],
      "execution_count": 0,
      "outputs": []
    },
    {
      "cell_type": "markdown",
      "metadata": {
        "id": "qK29tLgoqlU0",
        "colab_type": "text"
      },
      "source": [
        "**Compute Cost**\n",
        "\n",
        "$$J = - \\frac{1}{m} \\sum\\limits_{i = 1}^{m} \\large{(} \\small y^{(i)}\\log\\left(a^{[2] (i)}\\right) + (1-y^{(i)})\\log\\left(1- a^{[2] (i)}\\right) \\large{)} \\small\\tag{13}$$\n",
        "\n",
        "use following code to calculate cross entropy loss \n",
        "\n",
        "-> logprobs = np.multiply(np.log(A2), Y) + np.multiply((1 - Y), np.log(1 - A2))\n",
        "\n",
        "-> cost = - np.sum(logprobs) / m  \n"
      ]
    },
    {
      "cell_type": "code",
      "metadata": {
        "id": "ku21PRB_rFCo",
        "colab_type": "code",
        "colab": {}
      },
      "source": [
        "\n",
        "def compute_cost(A2, Y, parameters):\n",
        "   \n",
        "    m = None # number of example\n",
        "    \n",
        "    \n",
        "    W1 = None\n",
        "    W2 = None\n",
        "    \n",
        "    \n",
        "    logprobs = None\n",
        "    cost = None\n",
        "    \n",
        "    \n",
        "    cost = np.squeeze(cost)     # turns [[17]] into 17  \n",
        "                          \n",
        "    \n",
        "    \n",
        "    return cost"
      ],
      "execution_count": 0,
      "outputs": []
    },
    {
      "cell_type": "markdown",
      "metadata": {
        "id": "1Ey2eaQArA3e",
        "colab_type": "text"
      },
      "source": [
        "**Back Propagation**"
      ]
    },
    {
      "cell_type": "markdown",
      "metadata": {
        "id": "QzmOnFZ9tKak",
        "colab_type": "text"
      },
      "source": [
        "![alt text](https://raw.githubusercontent.com/sagunkayastha/ILab_Tutorials/master/grad.png)"
      ]
    },
    {
      "cell_type": "markdown",
      "metadata": {
        "id": "SfS3qcQRrQjN",
        "colab_type": "text"
      },
      "source": [
        "Perform Backward Propagation for the network\n",
        "\n",
        "Since we used Tanh function as activation function for first hidden layer, use $g^{[1]'}(z) = 1-a^2$ as derivative of tanh\n",
        "\n",
        "(1 - np.power(A1, 2))."
      ]
    },
    {
      "cell_type": "code",
      "metadata": {
        "id": "Dko4rTCQrcq7",
        "colab_type": "code",
        "colab": {}
      },
      "source": [
        "def backward_propagation(parameters, cache, X, Y):\n",
        "    \n",
        "   \n",
        "    m = X.shape[1]\n",
        "    \n",
        "    ## Retrive W1, W2, A1 and A2 from parameters and cache\n",
        "    ### Start ###\n",
        "    W1 = None\n",
        "    W2 = None\n",
        "        \n",
        "    A1 =  None\n",
        "    A2 =  None\n",
        "    ### End ###\n",
        "   \n",
        "  \n",
        "    ### Start Backpropagation ###\n",
        "    dZ2= None\n",
        "    dW2 = None\n",
        "    db2 = None\n",
        "    \n",
        "    \n",
        "    dZ1 = None\n",
        "    dW1 = None\n",
        "    db1 = None\n",
        "    \n",
        "    grads = {\"dW1\": dW1,\n",
        "             \"db1\": db1,\n",
        "             \"dW2\": dW2,\n",
        "             \"db2\": db2}\n",
        "    \n",
        "    return grads"
      ],
      "execution_count": 0,
      "outputs": []
    },
    {
      "cell_type": "markdown",
      "metadata": {
        "id": "7BVd9x33s2g2",
        "colab_type": "text"
      },
      "source": [
        "**Update the parameters with gradients from backpropagation**\n",
        "- W1 = W1 - learning_rate * dW1"
      ]
    },
    {
      "cell_type": "code",
      "metadata": {
        "id": "WC-_jsxxt4Jj",
        "colab_type": "code",
        "colab": {}
      },
      "source": [
        "def update_parameters(parameters, grads, learning_rate=0.001):\n",
        "   \n",
        "    ## Retrive W1, W2, b1,b2 from parameters \n",
        "    W1 = None\n",
        "    b1 = None\n",
        "    W2 = None\n",
        "    b2 = None\n",
        "    ### End ### \n",
        "  \n",
        "    ## Retrive dW1, dW2, db1,db2 from parameters\n",
        "    dW1 = None\n",
        "    db1 = None\n",
        "    dW2 = None\n",
        "    db2 = None\n",
        "    ### End ###\n",
        "    \n",
        "    ## Update ##\n",
        "    W1 = None\n",
        "    b1 = None\n",
        "    W2 = None\n",
        "    b2 = None\n",
        "   \n",
        "    \n",
        "    parameters = {\"W1\": W1,\n",
        "                  \"b1\": b1,\n",
        "                  \"W2\": W2,\n",
        "                  \"b2\": b2}\n",
        "    \n",
        "    return parameters"
      ],
      "execution_count": 0,
      "outputs": []
    },
    {
      "cell_type": "markdown",
      "metadata": {
        "id": "3bvkFnQ7tUGE",
        "colab_type": "text"
      },
      "source": [
        "**Combine all the functions and build your neural network**"
      ]
    },
    {
      "cell_type": "code",
      "metadata": {
        "id": "ahbo-RsUv35V",
        "colab_type": "code",
        "colab": {}
      },
      "source": [
        "def nn_model(X, Y, n_h, num_iterations=10000, print_cost=False):\n",
        "    \n",
        "    \n",
        "    np.random.seed(3)\n",
        "    n_x = layer_sizes(X, Y)[0]\n",
        "    n_y = layer_sizes(X, Y)[2]\n",
        "    \n",
        "    \n",
        "    # Initialize parameters\n",
        "    parameters = None\n",
        "    ### END CODE HERE ###\n",
        "    \n",
        "    # Loop (gradient descent)\n",
        "\n",
        "    for i in range(0, num_iterations):\n",
        "         \n",
        "        ### START CODE HERE ### (≈ 4 lines of code)\n",
        "        # Forward propagation. Inputs: \"X, parameters\". Outputs: \"A2, cache\".\n",
        "        A2, cache = None\n",
        "        \n",
        "        # Cost function. Inputs: \"A2, Y, parameters\". Outputs: \"cost\".\n",
        "        cost = None\n",
        " \n",
        "        # Backpropagation. Inputs: \"parameters, cache, X, Y\". Outputs: \"grads\".\n",
        "        grads = None\n",
        " \n",
        "        # Gradient descent parameter update. Inputs: \"parameters, grads\". Outputs: \"parameters\".\n",
        "        parameters = None\n",
        "        \n",
        "        ### END CODE HERE ###\n",
        "        \n",
        "        # Print the cost every 1000 iterations\n",
        "        if print_cost and i % 1000 == 0:\n",
        "            print (\"Cost after iteration %i: %f\" %(i, cost))\n"
      ],
      "execution_count": 0,
      "outputs": []
    },
    {
      "cell_type": "code",
      "metadata": {
        "id": "beHZJBcFwBe9",
        "colab_type": "code",
        "colab": {}
      },
      "source": [
        "parameters = nn_model(X, Y, 6, num_iterations=10000, print_cost=True)"
      ],
      "execution_count": 0,
      "outputs": []
    },
    {
      "cell_type": "code",
      "metadata": {
        "id": "kEzxwz7Jy2Wq",
        "colab_type": "code",
        "colab": {}
      },
      "source": [
        "def predict(parameters, X):\n",
        "   \n",
        "    A2, cache = forward_propagation(X, parameters)\n",
        "    predictions = np.round(A2)\n",
        "    \n",
        "    \n",
        "    return predictions"
      ],
      "execution_count": 0,
      "outputs": []
    },
    {
      "cell_type": "markdown",
      "metadata": {
        "id": "VtaBdIW8ttI4",
        "colab_type": "text"
      },
      "source": [
        "**Try making models with different n_h values**"
      ]
    },
    {
      "cell_type": "code",
      "metadata": {
        "id": "yNZXPxYB2-V6",
        "colab_type": "code",
        "outputId": "db873824-650e-4346-e080-008918443909",
        "colab": {
          "base_uri": "https://localhost:8080/",
          "height": 482
        }
      },
      "source": [
        "n_h_t = 5\n",
        "parameters = nn_model(X, Y, n_h  = n_h_t, num_iterations=10000, print_cost=True)\n",
        "\n",
        "# Plot the decision boundary\n",
        "plot_decision_boundary(lambda x: predict(parameters, x.T), X, Y)\n",
        "plt.title(\"Decision Boundary for hidden layer size \" + str(n_h_t))"
      ],
      "execution_count": 0,
      "outputs": [
        {
          "output_type": "stream",
          "text": [
            "Cost after iteration 0: 0.693278\n",
            "Cost after iteration 1000: 0.279603\n",
            "Cost after iteration 2000: 0.207597\n",
            "Cost after iteration 3000: 0.186094\n",
            "Cost after iteration 4000: 0.176801\n",
            "Cost after iteration 5000: 0.176758\n",
            "Cost after iteration 6000: 0.172768\n",
            "Cost after iteration 7000: 0.169508\n",
            "Cost after iteration 8000: 0.166951\n",
            "Cost after iteration 9000: 0.164961\n"
          ],
          "name": "stdout"
        },
        {
          "output_type": "execute_result",
          "data": {
            "text/plain": [
              "Text(0.5, 1.0, 'Decision Boundary for hidden layer size 4')"
            ]
          },
          "metadata": {
            "tags": []
          },
          "execution_count": 94
        },
        {
          "output_type": "display_data",
          "data": {
            "image/png": "[encoded data removed]",
            "text/plain": [
              "<Figure size 432x288 with 1 Axes>"
            ]
          },
          "metadata": {
            "tags": []
          }
        }
      ]
    },
    {
      "cell_type": "code",
      "metadata": {
        "id": "U33eDq6U2_NQ",
        "colab_type": "code",
        "outputId": "2cae8a60-202f-4a03-b224-6a793a681ab9",
        "colab": {
          "base_uri": "https://localhost:8080/",
          "height": 34
        }
      },
      "source": [
        "# Print accuracy\n",
        "predictions = predict(parameters, X)\n",
        "print ('Accuracy: %d' % float((np.dot(Y, predictions.T) + np.dot(1 - Y, 1 - predictions.T)) / float(Y.size) * 100) + '%')"
      ],
      "execution_count": 0,
      "outputs": [
        {
          "output_type": "stream",
          "text": [
            "Accuracy: 90%\n"
          ],
          "name": "stdout"
        }
      ]
    },
    {
      "cell_type": "markdown",
      "metadata": {
        "id": "HtivhF5s3wdc",
        "colab_type": "text"
      },
      "source": [
        "# Exercise Two"
      ]
    },
    {
      "cell_type": "code",
      "metadata": {
        "id": "131ssUcV3Cnx",
        "colab_type": "code",
        "colab": {}
      },
      "source": [
        "import numpy as np\n",
        "import matplotlib.pyplot as plt\n",
        "import h5py\n",
        "import scipy\n",
        "from PIL import Image\n",
        "from scipy import ndimage\n",
        "%matplotlib inline"
      ],
      "execution_count": 0,
      "outputs": []
    },
    {
      "cell_type": "code",
      "metadata": {
        "id": "ChSsw7mv3yVp",
        "colab_type": "code",
        "colab": {}
      },
      "source": [
        "\n",
        "!wget https://github.com/sagunkayastha/ILab_Tutorials/raw/master/test_catvnoncat.h5\n",
        "!wget https://github.com/sagunkayastha/ILab_Tutorials/raw/master/train_catvnoncat.h5\n",
        "  \n",
        "# helper function to import data\n",
        "def load_dataset():\n",
        "    train_dataset = h5py.File('train_catvnoncat.h5', \"r\")\n",
        "    train_set_x_orig = np.array(train_dataset[\"train_set_x\"][:]) # your train set features\n",
        "    train_set_y_orig = np.array(train_dataset[\"train_set_y\"][:]) # your train set labels\n",
        "\n",
        "    test_dataset = h5py.File('test_catvnoncat.h5', \"r\")\n",
        "    test_set_x_orig = np.array(test_dataset[\"test_set_x\"][:]) # your test set features\n",
        "    test_set_y_orig = np.array(test_dataset[\"test_set_y\"][:]) # your test set labels\n",
        "\n",
        "    classes = np.array(test_dataset[\"list_classes\"][:]) # the list of classes\n",
        "    \n",
        "    train_set_y_orig = train_set_y_orig.reshape((1, train_set_y_orig.shape[0]))\n",
        "    test_set_y_orig = test_set_y_orig.reshape((1, test_set_y_orig.shape[0]))\n",
        "    \n",
        "    return train_set_x_orig, train_set_y_orig, test_set_x_orig, test_set_y_orig, classes\n",
        "\n"
      ],
      "execution_count": 0,
      "outputs": []
    },
    {
      "cell_type": "code",
      "metadata": {
        "id": "SIdnRGVn3z1D",
        "colab_type": "code",
        "colab": {}
      },
      "source": [
        "train_set_x_orig, train_set_y, test_set_x_orig, test_set_y, classes = load_dataset()"
      ],
      "execution_count": 0,
      "outputs": []
    },
    {
      "cell_type": "code",
      "metadata": {
        "id": "2TSrGmb1303S",
        "colab_type": "code",
        "outputId": "97d8e484-9e01-4283-e044-ae3a9c4b665c",
        "colab": {
          "base_uri": "https://localhost:8080/",
          "height": 286
        }
      },
      "source": [
        "# Example\n",
        "index = 24\n",
        "plt.imshow(train_set_x_orig[index])\n",
        "print (\"y = \" + str(train_set_y[:,index]) + \", it's a '\" + classes[np.squeeze(train_set_y[:,index])].decode(\"utf-8\") +  \"' picture.\")"
      ],
      "execution_count": 0,
      "outputs": [
        {
          "output_type": "stream",
          "text": [
            "y = [1], it's a 'cat' picture.\n"
          ],
          "name": "stdout"
        },
        {
          "output_type": "display_data",
          "data": {
            "image/png": "[encoded data removed]",
            "text/plain": [
              "<Figure size 432x288 with 1 Axes>"
            ]
          },
          "metadata": {
            "tags": []
          }
        }
      ]
    },
    {
      "cell_type": "code",
      "metadata": {
        "id": "1_i-JhVz36nE",
        "colab_type": "code",
        "outputId": "1b4efc89-08c9-4a9a-f331-5ea1dbb25ce0",
        "colab": {
          "base_uri": "https://localhost:8080/",
          "height": 85
        }
      },
      "source": [
        "m_train = train_set_y.shape[1]\n",
        "m_test = test_set_y.shape[1]\n",
        "num_px = train_set_x_orig.shape[1]\n",
        "train_set_x_flatten = train_set_x_orig.reshape(train_set_x_orig.shape[0], -1).T\n",
        "test_set_x_flatten = test_set_x_orig.reshape(test_set_x_orig.shape[0], -1).T\n",
        "\n",
        "print (\"train_set_x_flatten shape: \" + str(train_set_x_flatten.shape))\n",
        "print (\"train_set_y shape: \" + str(train_set_y.shape))\n",
        "print (\"test_set_x_flatten shape: \" + str(test_set_x_flatten.shape))\n",
        "print (\"test_set_y shape: \" + str(test_set_y.shape))\n",
        "\n",
        "train_set_x = train_set_x_flatten / 255.\n",
        "test_set_x = test_set_x_flatten / 255."
      ],
      "execution_count": 0,
      "outputs": [
        {
          "output_type": "stream",
          "text": [
            "train_set_x_flatten shape: (12288, 209)\n",
            "train_set_y shape: (1, 209)\n",
            "test_set_x_flatten shape: (12288, 50)\n",
            "test_set_y shape: (1, 50)\n"
          ],
          "name": "stdout"
        }
      ]
    },
    {
      "cell_type": "code",
      "metadata": {
        "id": "-orCUXd8394P",
        "colab_type": "code",
        "colab": {}
      },
      "source": [
        "parameters = nn_model(train_set_x, train_set_y, n_h = 60, num_iterations=5000, print_cost=True)"
      ],
      "execution_count": 0,
      "outputs": []
    },
    {
      "cell_type": "code",
      "metadata": {
        "id": "WbbaoshB4GGX",
        "colab_type": "code",
        "colab": {}
      },
      "source": [
        ""
      ],
      "execution_count": 0,
      "outputs": []
    },
    {
      "cell_type": "markdown",
      "metadata": {
        "id": "xSZsgg-r6bGv",
        "colab_type": "text"
      },
      "source": [
        "# Using Keras Deep Learning Framework "
      ]
    },
    {
      "cell_type": "code",
      "metadata": {
        "id": "BFUSZwRr6nwi",
        "colab_type": "code",
        "outputId": "ce2762de-a150-494c-fb11-571b903c37b3",
        "colab": {
          "base_uri": "https://localhost:8080/",
          "height": 34
        }
      },
      "source": [
        "import keras\n",
        "from keras.models import Sequential\n",
        "from keras.layers import Dense"
      ],
      "execution_count": 0,
      "outputs": [
        {
          "output_type": "stream",
          "text": [
            "Using TensorFlow backend.\n"
          ],
          "name": "stderr"
        }
      ]
    },
    {
      "cell_type": "code",
      "metadata": {
        "id": "EQktWbt76pPY",
        "colab_type": "code",
        "colab": {}
      },
      "source": [
        "model = Sequential()\n",
        "model.add(Dense(60, input_dim=train_set_x_flatten.shape[0], activation='sigmoid'))\n",
        "\n",
        "model.add(Dense(1, activation='sigmoid'))\n",
        "\n",
        "adam = keras.optimizers.Adam(lr=0.0001, beta_1=0.9, beta_2=0.999, epsilon=None, decay=0.0, amsgrad=False)\n",
        "model.compile(loss='binary_crossentropy', optimizer= adam, metrics=['accuracy'])\n",
        "model.fit(train_set_x.T, train_set_y.T, epochs=150, batch_size=8)"
      ],
      "execution_count": 0,
      "outputs": []
    },
    {
      "cell_type": "code",
      "metadata": {
        "id": "Ew3KuNhB7Dt5",
        "colab_type": "code",
        "colab": {}
      },
      "source": [
        ""
      ],
      "execution_count": 0,
      "outputs": []
    },
    {
      "cell_type": "code",
      "metadata": {
        "id": "Bbb1GjkX7I5R",
        "colab_type": "code",
        "colab": {}
      },
      "source": [
        ""
      ],
      "execution_count": 0,
      "outputs": []
    }
  ]
}