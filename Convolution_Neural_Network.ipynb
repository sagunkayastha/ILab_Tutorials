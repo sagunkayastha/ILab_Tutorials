{
  "nbformat": 4,
  "nbformat_minor": 0,
  "metadata": {
    "colab": {
      "name": "Convolution Neural Network",
      "provenance": [],
      "include_colab_link": true
    },
    "kernelspec": {
      "name": "python3",
      "display_name": "Python 3"
    },
    "accelerator": "GPU"
  },
  "cells": [
    {
      "cell_type": "markdown",
      "metadata": {
        "id": "view-in-github",
        "colab_type": "text"
      },
      "source": [
        "<a href=\"https://colab.research.google.com/github/sagunkayastha/ILab_Tutorials/blob/master/Convolution_Neural_Network.ipynb\" target=\"_parent\"><img src=\"https://colab.research.google.com/assets/colab-badge.svg\" alt=\"Open In Colab\"/></a>"
      ]
    },
    {
      "cell_type": "code",
      "metadata": {
        "id": "2_qOyGiP8Ek4",
        "colab_type": "code",
        "colab": {}
      },
      "source": [
        "import numpy as np\n",
        "import matplotlib.pyplot as plt\n",
        "import h5py\n",
        "import scipy\n",
        "from PIL import Image\n",
        "from scipy import ndimage\n",
        "%matplotlib inline"
      ],
      "execution_count": 0,
      "outputs": []
    },
    {
      "cell_type": "code",
      "metadata": {
        "id": "P81ak4Sb9wd6",
        "colab_type": "code",
        "outputId": "b54d0452-c7b8-4a83-f462-d310ffcaa345",
        "colab": {
          "base_uri": "https://localhost:8080/",
          "height": 561
        }
      },
      "source": [
        "\n",
        "!wget https://github.com/sagunkayastha/ILab_Tutorials/raw/master/test_catvnoncat.h5\n",
        "!wget https://github.com/sagunkayastha/ILab_Tutorials/raw/master/train_catvnoncat.h5\n",
        "  \n",
        "# helper function to import data\n",
        "def load_dataset():\n",
        "    train_dataset = h5py.File('train_catvnoncat.h5', \"r\")\n",
        "    train_set_x_orig = np.array(train_dataset[\"train_set_x\"][:]) # your train set features\n",
        "    train_set_y_orig = np.array(train_dataset[\"train_set_y\"][:]) # your train set labels\n",
        "\n",
        "    test_dataset = h5py.File('test_catvnoncat.h5', \"r\")\n",
        "    test_set_x_orig = np.array(test_dataset[\"test_set_x\"][:]) # your test set features\n",
        "    test_set_y_orig = np.array(test_dataset[\"test_set_y\"][:]) # your test set labels\n",
        "\n",
        "    classes = np.array(test_dataset[\"list_classes\"][:]) # the list of classes\n",
        "    \n",
        "    train_set_y_orig = train_set_y_orig.reshape((1, train_set_y_orig.shape[0]))\n",
        "    test_set_y_orig = test_set_y_orig.reshape((1, test_set_y_orig.shape[0]))\n",
        "    \n",
        "    return train_set_x_orig, train_set_y_orig, test_set_x_orig, test_set_y_orig, classes\n",
        "\n"
      ],
      "execution_count": 0,
      "outputs": [
        {
          "output_type": "stream",
          "text": [
            "--2019-09-22 07:55:25--  https://github.com/sagunkayastha/ILab_Tutorials/raw/master/test_catvnoncat.h5\n",
            "Resolving github.com (github.com)... 140.82.114.4\n",
            "Connecting to github.com (github.com)|140.82.114.4|:443... connected.\n",
            "HTTP request sent, awaiting response... 302 Found\n",
            "Location: https://raw.githubusercontent.com/sagunkayastha/ILab_Tutorials/master/test_catvnoncat.h5 [following]\n",
            "--2019-09-22 07:55:26--  https://raw.githubusercontent.com/sagunkayastha/ILab_Tutorials/master/test_catvnoncat.h5\n",
            "Resolving raw.githubusercontent.com (raw.githubusercontent.com)... 151.101.0.133, 151.101.64.133, 151.101.128.133, ...\n",
            "Connecting to raw.githubusercontent.com (raw.githubusercontent.com)|151.101.0.133|:443... connected.\n",
            "HTTP request sent, awaiting response... 200 OK\n",
            "Length: 616958 (602K) [application/octet-stream]\n",
            "Saving to: ‘test_catvnoncat.h5’\n",
            "\n",
            "\rtest_catvnoncat.h5    0%[                    ]       0  --.-KB/s               \rtest_catvnoncat.h5  100%[===================>] 602.50K  --.-KB/s    in 0.06s   \n",
            "\n",
            "2019-09-22 07:55:27 (9.58 MB/s) - ‘test_catvnoncat.h5’ saved [616958/616958]\n",
            "\n",
            "--2019-09-22 07:55:32--  https://github.com/sagunkayastha/ILab_Tutorials/raw/master/train_catvnoncat.h5\n",
            "Resolving github.com (github.com)... 140.82.114.4\n",
            "Connecting to github.com (github.com)|140.82.114.4|:443... connected.\n",
            "HTTP request sent, awaiting response... 302 Found\n",
            "Location: https://raw.githubusercontent.com/sagunkayastha/ILab_Tutorials/master/train_catvnoncat.h5 [following]\n",
            "--2019-09-22 07:55:33--  https://raw.githubusercontent.com/sagunkayastha/ILab_Tutorials/master/train_catvnoncat.h5\n",
            "Resolving raw.githubusercontent.com (raw.githubusercontent.com)... 151.101.0.133, 151.101.64.133, 151.101.128.133, ...\n",
            "Connecting to raw.githubusercontent.com (raw.githubusercontent.com)|151.101.0.133|:443... connected.\n",
            "HTTP request sent, awaiting response... 200 OK\n",
            "Length: 2572022 (2.5M) [application/octet-stream]\n",
            "Saving to: ‘train_catvnoncat.h5’\n",
            "\n",
            "train_catvnoncat.h5 100%[===================>]   2.45M  --.-KB/s    in 0.1s    \n",
            "\n",
            "2019-09-22 07:55:33 (24.6 MB/s) - ‘train_catvnoncat.h5’ saved [2572022/2572022]\n",
            "\n"
          ],
          "name": "stdout"
        }
      ]
    }
  ]
}