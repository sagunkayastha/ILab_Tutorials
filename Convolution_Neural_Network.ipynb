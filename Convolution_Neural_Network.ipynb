{
  "nbformat": 4,
  "nbformat_minor": 0,
  "metadata": {
    "colab": {
      "name": "Convolution Neural Network",
      "provenance": [],
      "collapsed_sections": [],
      "include_colab_link": true
    },
    "kernelspec": {
      "name": "python3",
      "display_name": "Python 3"
    },
    "accelerator": "GPU"
  },
  "cells": [
    {
      "cell_type": "markdown",
      "metadata": {
        "id": "view-in-github",
        "colab_type": "text"
      },
      "source": [
        "<a href=\"https://colab.research.google.com/github/sagunkayastha/ILab_Tutorials/blob/master/Convolution_Neural_Network.ipynb\" target=\"_parent\"><img src=\"https://colab.research.google.com/assets/colab-badge.svg\" alt=\"Open In Colab\"/></a>"
      ]
    },
    {
      "cell_type": "markdown",
      "metadata": {
        "id": "0PzBqv2x9EPR",
        "colab_type": "text"
      },
      "source": [
        "# Convolution Exercise 1"
      ]
    },
    {
      "cell_type": "code",
      "metadata": {
        "id": "7RwFIUGa9D16",
        "colab_type": "code",
        "colab": {}
      },
      "source": [
        ""
      ],
      "execution_count": 0,
      "outputs": []
    },
    {
      "cell_type": "markdown",
      "metadata": {
        "id": "Q9z5yXtC9JeO",
        "colab_type": "text"
      },
      "source": [
        "**Importing Libraries and data preperation**"
      ]
    },
    {
      "cell_type": "code",
      "metadata": {
        "id": "2_qOyGiP8Ek4",
        "colab_type": "code",
        "colab": {}
      },
      "source": [
        "import numpy as np\n",
        "import matplotlib.pyplot as plt\n",
        "import h5py\n",
        "import scipy\n",
        "from PIL import Image\n",
        "from scipy import ndimage\n",
        "%matplotlib inline"
      ],
      "execution_count": 0,
      "outputs": []
    },
    {
      "cell_type": "code",
      "metadata": {
        "id": "P81ak4Sb9wd6",
        "colab_type": "code",
        "outputId": "4fde9c03-30bd-4d90-d460-c6f3c7a59340",
        "colab": {
          "base_uri": "https://localhost:8080/",
          "height": 561
        }
      },
      "source": [
        "!wget https://github.com/sagunkayastha/ILab_Tutorials/raw/master/test_catvnoncat.h5\n",
        "!wget https://github.com/sagunkayastha/ILab_Tutorials/raw/master/train_catvnoncat.h5\n",
        "  \n",
        "# helper function to import data\n",
        "def load_dataset():\n",
        "    train_dataset = h5py.File('train_catvnoncat.h5', \"r\")\n",
        "    train_set_x_orig = np.array(train_dataset[\"train_set_x\"][:]) # your train set features\n",
        "    train_set_y_orig = np.array(train_dataset[\"train_set_y\"][:]) # your train set labels\n",
        "\n",
        "    test_dataset = h5py.File('test_catvnoncat.h5', \"r\")\n",
        "    test_set_x_orig = np.array(test_dataset[\"test_set_x\"][:]) # your test set features\n",
        "    test_set_y_orig = np.array(test_dataset[\"test_set_y\"][:]) # your test set labels\n",
        "\n",
        "    classes = np.array(test_dataset[\"list_classes\"][:]) # the list of classes\n",
        "    \n",
        "    train_set_y_orig = train_set_y_orig.reshape((1, train_set_y_orig.shape[0]))\n",
        "    test_set_y_orig = test_set_y_orig.reshape((1, test_set_y_orig.shape[0]))\n",
        "    \n",
        "    return train_set_x_orig, train_set_y_orig, test_set_x_orig, test_set_y_orig, classes\n",
        "\n"
      ],
      "execution_count": 0,
      "outputs": [
        {
          "output_type": "stream",
          "text": [
            "--2019-09-22 17:11:29--  https://github.com/sagunkayastha/ILab_Tutorials/raw/master/test_catvnoncat.h5\n",
            "Resolving github.com (github.com)... 52.69.186.44\n",
            "Connecting to github.com (github.com)|52.69.186.44|:443... connected.\n",
            "HTTP request sent, awaiting response... 302 Found\n",
            "Location: https://raw.githubusercontent.com/sagunkayastha/ILab_Tutorials/master/test_catvnoncat.h5 [following]\n",
            "--2019-09-22 17:11:29--  https://raw.githubusercontent.com/sagunkayastha/ILab_Tutorials/master/test_catvnoncat.h5\n",
            "Resolving raw.githubusercontent.com (raw.githubusercontent.com)... 151.101.0.133, 151.101.64.133, 151.101.128.133, ...\n",
            "Connecting to raw.githubusercontent.com (raw.githubusercontent.com)|151.101.0.133|:443... connected.\n",
            "HTTP request sent, awaiting response... 200 OK\n",
            "Length: 616958 (602K) [application/octet-stream]\n",
            "Saving to: ‘test_catvnoncat.h5’\n",
            "\n",
            "test_catvnoncat.h5  100%[===================>] 602.50K  --.-KB/s    in 0.006s  \n",
            "\n",
            "2019-09-22 17:11:29 (94.3 MB/s) - ‘test_catvnoncat.h5’ saved [616958/616958]\n",
            "\n",
            "--2019-09-22 17:11:31--  https://github.com/sagunkayastha/ILab_Tutorials/raw/master/train_catvnoncat.h5\n",
            "Resolving github.com (github.com)... 52.69.186.44\n",
            "Connecting to github.com (github.com)|52.69.186.44|:443... connected.\n",
            "HTTP request sent, awaiting response... 302 Found\n",
            "Location: https://raw.githubusercontent.com/sagunkayastha/ILab_Tutorials/master/train_catvnoncat.h5 [following]\n",
            "--2019-09-22 17:11:32--  https://raw.githubusercontent.com/sagunkayastha/ILab_Tutorials/master/train_catvnoncat.h5\n",
            "Resolving raw.githubusercontent.com (raw.githubusercontent.com)... 151.101.0.133, 151.101.64.133, 151.101.128.133, ...\n",
            "Connecting to raw.githubusercontent.com (raw.githubusercontent.com)|151.101.0.133|:443... connected.\n",
            "HTTP request sent, awaiting response... 200 OK\n",
            "Length: 2572022 (2.5M) [application/octet-stream]\n",
            "Saving to: ‘train_catvnoncat.h5’\n",
            "\n",
            "train_catvnoncat.h5 100%[===================>]   2.45M  --.-KB/s    in 0.03s   \n",
            "\n",
            "2019-09-22 17:11:32 (74.8 MB/s) - ‘train_catvnoncat.h5’ saved [2572022/2572022]\n",
            "\n"
          ],
          "name": "stdout"
        }
      ]
    },
    {
      "cell_type": "code",
      "metadata": {
        "id": "GLfYX9qPiFPF",
        "colab_type": "code",
        "outputId": "eaf68cbf-6dcb-44fe-bc12-df265daeda3a",
        "colab": {
          "base_uri": "https://localhost:8080/",
          "height": 286
        }
      },
      "source": [
        "train_set_x_orig, train_set_y, test_set_x_orig, test_set_y, classes = load_dataset()\n",
        "\n",
        "\n",
        "# Example\n",
        "index = 19\n",
        "plt.imshow(train_set_x_orig[index])\n",
        "print (\"y = \" + str(train_set_y[:,index]) + \", it's a '\" + classes[np.squeeze(train_set_y[:,index])].decode(\"utf-8\") +  \"' picture.\")"
      ],
      "execution_count": 0,
      "outputs": [
        {
          "output_type": "stream",
          "text": [
            "y = [1], it's a 'cat' picture.\n"
          ],
          "name": "stdout"
        },
        {
          "output_type": "display_data",
          "data": {
            "image/png": "[encoded data removed]",
            "text/plain": [
              "<Figure size 432x288 with 1 Axes>"
            ]
          },
          "metadata": {
            "tags": []
          }
        }
      ]
    },
    {
      "cell_type": "code",
      "metadata": {
        "id": "SspNG0-SiLbV",
        "colab_type": "code",
        "outputId": "656aed6d-78e2-4475-c714-756b1de06138",
        "colab": {
          "base_uri": "https://localhost:8080/",
          "height": 34
        }
      },
      "source": [
        "train_set_x =train_set_x_orig / 255.\n",
        "test_set_x = test_set_x_orig / 255.\n",
        "train_set_x.shape"
      ],
      "execution_count": 0,
      "outputs": [
        {
          "output_type": "execute_result",
          "data": {
            "text/plain": [
              "(209, 64, 64, 3)"
            ]
          },
          "metadata": {
            "tags": []
          },
          "execution_count": 5
        }
      ]
    },
    {
      "cell_type": "markdown",
      "metadata": {
        "id": "-o_EIf7T9RVK",
        "colab_type": "text"
      },
      "source": [
        "**Importing Keras libraries**"
      ]
    },
    {
      "cell_type": "code",
      "metadata": {
        "id": "tMltBS9biddV",
        "colab_type": "code",
        "colab": {}
      },
      "source": [
        "import keras\n",
        "from keras.models import Sequential\n",
        "from keras.layers import Dense, Activation, Dropout, Flatten,\\\n",
        " Conv2D, MaxPooling2D\n",
        "import numpy as np\n",
        "np.random.seed(1000)\n"
      ],
      "execution_count": 0,
      "outputs": []
    },
    {
      "cell_type": "markdown",
      "metadata": {
        "id": "ltZtdIqW9UNt",
        "colab_type": "text"
      },
      "source": [
        "**Model building**"
      ]
    },
    {
      "cell_type": "code",
      "metadata": {
        "id": "MbWUS8Mzi_sl",
        "colab_type": "code",
        "colab": {}
      },
      "source": [
        "model = Sequential()\n",
        "model.add(Conv2D(filters=96, input_shape=(64,64,3), kernel_size=(11,11),\\\n",
        " strides=(4,4), padding='valid'))\n",
        "model.add(Activation('relu'))\n",
        "# Pooling \n",
        "model.add(MaxPooling2D(pool_size=(2,2), strides=(2,2), padding='valid'))\n",
        "\n",
        "#Conv 2\n",
        "model.add(Conv2D(filters=256, kernel_size=(11,11), strides=(1,1), padding='same'))\n",
        "model.add(Activation('relu'))\n",
        "# Pooling\n",
        "model.add(MaxPooling2D(pool_size=(2,2), strides=(2,2), padding='same'))\n",
        "\n",
        "model.add(Flatten())\n",
        "\n",
        "model.add(Dense(1024))\n",
        "model.add(Activation('relu'))\n",
        "model.add(Dropout(0.5))\n",
        "#model.add(BatchNormalization(axis=-1))\n",
        "\n",
        "model.add(Dense(1,activation='sigmoid'))"
      ],
      "execution_count": 0,
      "outputs": []
    },
    {
      "cell_type": "code",
      "metadata": {
        "id": "PeNRnUBKjIzF",
        "colab_type": "code",
        "outputId": "ca1f4f31-19e0-41bd-ab77-5da7ee2f3b98",
        "colab": {
          "base_uri": "https://localhost:8080/",
          "height": 527
        }
      },
      "source": [
        "model.summary()"
      ],
      "execution_count": 0,
      "outputs": [
        {
          "output_type": "stream",
          "text": [
            "Model: \"sequential_7\"\n",
            "_________________________________________________________________\n",
            "Layer (type)                 Output Shape              Param #   \n",
            "=================================================================\n",
            "conv2d_12 (Conv2D)           (None, 14, 14, 96)        34944     \n",
            "_________________________________________________________________\n",
            "activation_14 (Activation)   (None, 14, 14, 96)        0         \n",
            "_________________________________________________________________\n",
            "max_pooling2d_12 (MaxPooling (None, 7, 7, 96)          0         \n",
            "_________________________________________________________________\n",
            "conv2d_13 (Conv2D)           (None, 7, 7, 256)         2973952   \n",
            "_________________________________________________________________\n",
            "activation_15 (Activation)   (None, 7, 7, 256)         0         \n",
            "_________________________________________________________________\n",
            "max_pooling2d_13 (MaxPooling (None, 4, 4, 256)         0         \n",
            "_________________________________________________________________\n",
            "flatten_2 (Flatten)          (None, 4096)              0         \n",
            "_________________________________________________________________\n",
            "dense_5 (Dense)              (None, 1024)              4195328   \n",
            "_________________________________________________________________\n",
            "activation_16 (Activation)   (None, 1024)              0         \n",
            "_________________________________________________________________\n",
            "dropout_3 (Dropout)          (None, 1024)              0         \n",
            "_________________________________________________________________\n",
            "dense_6 (Dense)              (None, 1)                 1025      \n",
            "=================================================================\n",
            "Total params: 7,205,249\n",
            "Trainable params: 7,205,249\n",
            "Non-trainable params: 0\n",
            "_________________________________________________________________\n"
          ],
          "name": "stdout"
        }
      ]
    },
    {
      "cell_type": "markdown",
      "metadata": {
        "id": "ZjKuYGvL9Y2p",
        "colab_type": "text"
      },
      "source": [
        "**Compile and run**"
      ]
    },
    {
      "cell_type": "code",
      "metadata": {
        "id": "4pjlyejwjOfr",
        "colab_type": "code",
        "outputId": "44a55070-84ca-4542-8969-bd981fc7b80f",
        "colab": {
          "base_uri": "https://localhost:8080/",
          "height": 445
        }
      },
      "source": [
        "model.compile(optimizer='adam',loss='binary_crossentropy',metrics=['accuracy'])\n",
        "model.fit(train_set_x, train_set_y.T, epochs=10,batch_size=8)"
      ],
      "execution_count": 0,
      "outputs": [
        {
          "output_type": "stream",
          "text": [
            "WARNING:tensorflow:From /usr/local/lib/python3.6/dist-packages/tensorflow/python/ops/nn_impl.py:180: add_dispatch_support.<locals>.wrapper (from tensorflow.python.ops.array_ops) is deprecated and will be removed in a future version.\n",
            "Instructions for updating:\n",
            "Use tf.where in 2.0, which has the same broadcast rule as np.where\n",
            "Epoch 1/10\n",
            "209/209 [==============================] - 9s 41ms/step - loss: 5.2203 - acc: 0.6459\n",
            "Epoch 2/10\n",
            "209/209 [==============================] - 1s 3ms/step - loss: 5.5526 - acc: 0.6555\n",
            "Epoch 3/10\n",
            "209/209 [==============================] - 1s 3ms/step - loss: 5.5526 - acc: 0.6555\n",
            "Epoch 4/10\n",
            "209/209 [==============================] - 1s 3ms/step - loss: 5.5526 - acc: 0.6555\n",
            "Epoch 5/10\n",
            "209/209 [==============================] - 1s 3ms/step - loss: 5.5526 - acc: 0.6555\n",
            "Epoch 6/10\n",
            "209/209 [==============================] - 1s 3ms/step - loss: 5.5526 - acc: 0.6555\n",
            "Epoch 7/10\n",
            "209/209 [==============================] - 1s 3ms/step - loss: 5.5526 - acc: 0.6555\n",
            "Epoch 8/10\n",
            "209/209 [==============================] - 1s 3ms/step - loss: 5.5526 - acc: 0.6555\n",
            "Epoch 9/10\n",
            "209/209 [==============================] - 1s 3ms/step - loss: 5.5526 - acc: 0.6555\n",
            "Epoch 10/10\n",
            "209/209 [==============================] - 1s 3ms/step - loss: 5.5526 - acc: 0.6555\n"
          ],
          "name": "stdout"
        },
        {
          "output_type": "execute_result",
          "data": {
            "text/plain": [
              "<keras.callbacks.History at 0x7fc8b729f4e0>"
            ]
          },
          "metadata": {
            "tags": []
          },
          "execution_count": 26
        }
      ]
    },
    {
      "cell_type": "code",
      "metadata": {
        "id": "J9oXoQV6j8rk",
        "colab_type": "code",
        "outputId": "20568d98-356a-42bb-c9b1-7a00e4847c4c",
        "colab": {
          "base_uri": "https://localhost:8080/",
          "height": 374
        }
      },
      "source": [
        "model = Sequential()\n",
        "model.add(Conv2D(filters=96, input_shape=(64,64,3), kernel_size=(3,3),\\\n",
        " strides=(1,1), padding='valid'))\n",
        "model.add(Activation('relu'))\n",
        "# Pooling \n",
        "model.add(MaxPooling2D(pool_size=(2,2), strides=(2,2), padding='valid'))\n",
        "\n",
        "#Conv 2\n",
        "model.add(Conv2D(filters=256, kernel_size=(3,3), strides=(1,1), padding='same'))\n",
        "model.add(Activation('relu'))\n",
        "# Pooling\n",
        "model.add(MaxPooling2D(pool_size=(2,2), strides=(2,2), padding='same'))\n",
        "\n",
        "model.add(Flatten())\n",
        "\n",
        "model.add(Dense(1024))\n",
        "model.add(Activation('relu'))\n",
        "model.add(Dropout(0.5))\n",
        "#model.add(BatchNormalization(axis=-1))\n",
        "\n",
        "model.add(Dense(1,activation='sigmoid'))\n",
        "model.compile(optimizer='adam',loss='binary_crossentropy',metrics=['accuracy'])\n",
        "model.fit(train_set_x, train_set_y.T, epochs=10,batch_size=8)"
      ],
      "execution_count": 0,
      "outputs": [
        {
          "output_type": "stream",
          "text": [
            "Epoch 1/10\n",
            "209/209 [==============================] - 4s 21ms/step - loss: 0.6365 - acc: 0.6459\n",
            "Epoch 2/10\n",
            "209/209 [==============================] - 3s 13ms/step - loss: 0.4219 - acc: 0.7895\n",
            "Epoch 3/10\n",
            "209/209 [==============================] - 3s 12ms/step - loss: 0.4427 - acc: 0.7895\n",
            "Epoch 4/10\n",
            "209/209 [==============================] - 3s 12ms/step - loss: 0.3878 - acc: 0.7799\n",
            "Epoch 5/10\n",
            "209/209 [==============================] - 3s 13ms/step - loss: 0.3794 - acc: 0.8278\n",
            "Epoch 6/10\n",
            "209/209 [==============================] - 3s 13ms/step - loss: 0.2526 - acc: 0.9139\n",
            "Epoch 7/10\n",
            "209/209 [==============================] - 3s 12ms/step - loss: 0.2921 - acc: 0.8804\n",
            "Epoch 8/10\n",
            "209/209 [==============================] - 3s 12ms/step - loss: 0.1708 - acc: 0.9378\n",
            "Epoch 9/10\n",
            "209/209 [==============================] - 3s 13ms/step - loss: 0.1222 - acc: 0.9569\n",
            "Epoch 10/10\n",
            "209/209 [==============================] - 3s 13ms/step - loss: 0.0795 - acc: 0.9665\n"
          ],
          "name": "stdout"
        },
        {
          "output_type": "execute_result",
          "data": {
            "text/plain": [
              "<keras.callbacks.History at 0x7f75b05f1e48>"
            ]
          },
          "metadata": {
            "tags": []
          },
          "execution_count": 8
        }
      ]
    },
    {
      "cell_type": "code",
      "metadata": {
        "id": "K41tUZJPu_KH",
        "colab_type": "code",
        "colab": {}
      },
      "source": [
        ""
      ],
      "execution_count": 0,
      "outputs": []
    },
    {
      "cell_type": "markdown",
      "metadata": {
        "id": "yyxKr5Fev5rm",
        "colab_type": "text"
      },
      "source": [
        "# Convolution Exercise 1"
      ]
    },
    {
      "cell_type": "code",
      "metadata": {
        "id": "yX5_wUwHv6wE",
        "colab_type": "code",
        "outputId": "f54f7b9c-4c75-4368-8312-bc1d17d698c8",
        "colab": {
          "base_uri": "https://localhost:8080/",
          "height": 68
        }
      },
      "source": [
        "from keras.datasets import mnist\n",
        "from keras.utils import np_utils\n",
        "#fashion_mnist = keras.datasets.fashion_mnist\n",
        "\n",
        "#(train_images, train_labels), (test_images, test_labels) = fashion_mnist.load_data()\n",
        "(X_train, y_train), (X_test, y_test) = mnist.load_data()\n",
        "X_train = X_train.reshape(X_train.shape[0], 28, 28, 1)\n",
        "X_test = X_test.reshape(X_test.shape[0], 28, 28, 1)\n",
        "\n",
        "X_train = X_train.astype('float32')\n",
        "X_test = X_test.astype('float32')\n",
        "\n",
        "X_train/=255\n",
        "X_test/=255\n",
        "\n",
        "\n",
        "number_of_classes = 10\n",
        "\n",
        "Y_train = np_utils.to_categorical(y_train, number_of_classes)\n",
        "Y_test = np_utils.to_categorical(y_test, number_of_classes)"
      ],
      "execution_count": 0,
      "outputs": [
        {
          "output_type": "stream",
          "text": [
            "Using TensorFlow backend.\n"
          ],
          "name": "stderr"
        },
        {
          "output_type": "stream",
          "text": [
            "Downloading data from https://s3.amazonaws.com/img-datasets/mnist.npz\n",
            "11493376/11490434 [==============================] - 2s 0us/step\n"
          ],
          "name": "stdout"
        }
      ]
    },
    {
      "cell_type": "code",
      "metadata": {
        "id": "eFBlgwul9giq",
        "colab_type": "code",
        "outputId": "977df341-e90a-4d23-84d9-069f91489954",
        "colab": {
          "base_uri": "https://localhost:8080/",
          "height": 534
        }
      },
      "source": [
        "%matplotlib inline\n",
        "# preview the images first\n",
        "plt.figure(figsize=(12,10))\n",
        "x, y = 10, 4\n",
        "for i in range(40):  \n",
        "    plt.subplot(y, x, i+1)\n",
        "    plt.imshow(X_train[i].reshape((28,28)),interpolation='nearest',cmap='gray')\n",
        "plt.show()"
      ],
      "execution_count": 0,
      "outputs": [
        {
          "output_type": "display_data",
          "data": {
            "image/png": "[encoded data removed]",
            "text/plain": [
              "<Figure size 864x720 with 40 Axes>"
            ]
          },
          "metadata": {
            "tags": []
          }
        }
      ]
    },
    {
      "cell_type": "code",
      "metadata": {
        "id": "rxWUSWfBv7WD",
        "colab_type": "code",
        "outputId": "0833fbf1-7c22-4f5d-d1ce-397c94dbcd5d",
        "colab": {
          "base_uri": "https://localhost:8080/",
          "height": 85
        }
      },
      "source": [
        "model = Sequential()\n",
        "model.add(Conv2D(filters=96, input_shape=(28,28,1), kernel_size=(3,3),\\\n",
        " strides=(1,1), padding='valid'))\n",
        "model.add(Activation('relu'))\n",
        "# Pooling \n",
        "model.add(MaxPooling2D(pool_size=(2,2), strides=(2,2), padding='valid'))\n",
        "\n",
        "#Conv 2\n",
        "model.add(Conv2D(filters=128, kernel_size=(3,3), strides=(1,1), padding='same'))\n",
        "model.add(Activation('relu'))\n",
        "# Pooling\n",
        "model.add(MaxPooling2D(pool_size=(2,2), strides=(2,2), padding='same'))\n",
        "\n",
        "#Conv 3\n",
        "model.add(Conv2D(filters=256, kernel_size=(3,3), strides=(1,1), padding='same'))\n",
        "model.add(Activation('relu'))\n",
        "# Pooling\n",
        "model.add(MaxPooling2D(pool_size=(2,2), strides=(2,2), padding='same'))\n",
        "\n",
        "model.add(Flatten())\n",
        "\n",
        "model.add(Dense(1024))\n",
        "model.add(Activation('relu'))\n",
        "model.add(Dropout(0.5))\n",
        "#model.add(BatchNormalization(axis=-1))\n",
        "\n",
        "model.add(Dense(10,activation='softmax'))\n",
        "model.compile(optimizer='adam',loss='categorical_crossentropy',metrics=['accuracy'])\n",
        "model.fit(X_train, Y_train,validation_data=(X_test,Y_test),epochs=1,batch_size=64)"
      ],
      "execution_count": 0,
      "outputs": [
        {
          "output_type": "stream",
          "text": [
            "Train on 60000 samples, validate on 10000 samples\n",
            "Epoch 1/1\n",
            "60000/60000 [==============================] - 11s 184us/step - loss: 0.1327 - acc: 0.9586 - val_loss: 0.0467 - val_acc: 0.9843\n"
          ],
          "name": "stdout"
        },
        {
          "output_type": "execute_result",
          "data": {
            "text/plain": [
              "<keras.callbacks.History at 0x7fd83a6aee10>"
            ]
          },
          "metadata": {
            "tags": []
          },
          "execution_count": 15
        }
      ]
    },
    {
      "cell_type": "code",
      "metadata": {
        "id": "CKNbEu9985_z",
        "colab_type": "code",
        "colab": {}
      },
      "source": [
        ""
      ],
      "execution_count": 0,
      "outputs": []
    }
  ]
}