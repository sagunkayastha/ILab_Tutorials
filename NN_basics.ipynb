{
  "nbformat": 4,
  "nbformat_minor": 0,
  "metadata": {
    "colab": {
      "name": "NN basics",
      "version": "0.3.2",
      "provenance": [],
      "collapsed_sections": [],
      "include_colab_link": true
    },
    "kernelspec": {
      "name": "python3",
      "display_name": "Python 3"
    }
  },
  "cells": [
    {
      "cell_type": "markdown",
      "metadata": {
        "id": "view-in-github",
        "colab_type": "text"
      },
      "source": [
        "<a href=\"https://colab.research.google.com/github/sagunkayastha/ILab_Tutorials/blob/master/NN_basics.ipynb\" target=\"_parent\"><img src=\"https://colab.research.google.com/assets/colab-badge.svg\" alt=\"Open In Colab\"/></a>"
      ]
    },
    {
      "cell_type": "code",
      "metadata": {
        "id": "8pV8_NMa7rms",
        "colab_type": "code",
        "colab": {}
      },
      "source": [
        "import numpy as np\n",
        "import matplotlib.pyplot as plt\n",
        "import h5py\n",
        "import scipy\n",
        "import os"
      ],
      "execution_count": 0,
      "outputs": []
    },
    {
      "cell_type": "code",
      "metadata": {
        "id": "9ejZgE2k7W6l",
        "colab_type": "code",
        "colab": {}
      },
      "source": [
        "!wget https://raw.githubusercontent.com/sagunkayastha/ILab_Tutorials/master/ex2data1.txt\n",
        "data = np.loadtxt(os.path.join('ex2data1.txt'), delimiter=',')\n",
        "X, y = data[:, 0:2], data[:, 2]\n"
      ],
      "execution_count": 0,
      "outputs": []
    },
    {
      "cell_type": "code",
      "metadata": {
        "id": "8hWYr_A57b6e",
        "colab_type": "code",
        "colab": {}
      },
      "source": [
        "def plotData(X, y):\n",
        "    \n",
        "    pos = y == 1\n",
        "    neg = y == 0\n",
        "\n",
        "    plt.plot(X[pos, 0], X[pos, 1], 'kx', lw= 2, ms=8)\n",
        "    plt.plot(X[neg,0], X[neg,1], 'ko',mfc='y', ms=8, mec='k', mew=1)\n",
        "    plt.xlabel('Exam 1 score')\n",
        "    plt.ylabel('Exam 2 score')\n",
        "    plt.legend(['Admitted', 'Not admitted'])\n",
        "plotData(X,y)    "
      ],
      "execution_count": 0,
      "outputs": []
    },
    {
      "cell_type": "markdown",
      "metadata": {
        "id": "4c_yuxw1LAdY",
        "colab_type": "text"
      },
      "source": [
        "**Normalize**"
      ]
    },
    {
      "cell_type": "code",
      "metadata": {
        "id": "xwxxdnApKklI",
        "colab_type": "code",
        "colab": {}
      },
      "source": [
        "X = X - X.mean()\n",
        "X = X / X.max()\n",
        "plotData(X,y)    "
      ],
      "execution_count": 0,
      "outputs": []
    },
    {
      "cell_type": "markdown",
      "metadata": {
        "id": "UpBKKG3s_ol1",
        "colab_type": "text"
      },
      "source": [
        "**Checking shapes**"
      ]
    },
    {
      "cell_type": "code",
      "metadata": {
        "id": "EDaqHk4B7fuv",
        "colab_type": "code",
        "colab": {}
      },
      "source": [
        "\n",
        "y=y.reshape(-1,1)\n",
        "\n",
        "X,y= X.T,y.T\n",
        "print('Shape X',X.shape)\n",
        "\n",
        "print('Shape y',y.shape)"
      ],
      "execution_count": 0,
      "outputs": []
    },
    {
      "cell_type": "code",
      "metadata": {
        "id": "YFXIqJw3p-cU",
        "colab_type": "code",
        "colab": {}
      },
      "source": [
        ""
      ],
      "execution_count": 0,
      "outputs": []
    },
    {
      "cell_type": "markdown",
      "metadata": {
        "id": "snjjyvamAueg",
        "colab_type": "text"
      },
      "source": [
        "**Algorithm**\n",
        "\n",
        "\n",
        "![alt text](https://render.githubusercontent.com/render/math?math=z%5E%7B%28i%29%7D%20%3D%20w%5ET%20x%5E%7B%28i%29%7D%20%2B%20b%20%5Ctag%7B1%7D&mode=display)\n",
        "\n",
        "![alt text](https://render.githubusercontent.com/render/math?math=%5Chat%7By%7D%5E%7B%28i%29%7D%20%3D%20a%5E%7B%28i%29%7D%20%3D%20sigmoid%28z%5E%7B%28i%29%7D%29%5Ctag%7B2%7D&mode=display)\n",
        "\n",
        "![alt text](https://render.githubusercontent.com/render/math?math=%5Cmathcal%7BL%7D%28a%5E%7B%28i%29%7D%2C%20y%5E%7B%28i%29%7D%29%20%3D%20%20-%20y%5E%7B%28i%29%7D%20%20%5Clog%28a%5E%7B%28i%29%7D%29%20-%20%281-y%5E%7B%28i%29%7D%20%29%20%20%5Clog%281-a%5E%7B%28i%29%7D%29%5Ctag%7B3%7D&mode=display)\n",
        "\n",
        "**Calculate Loss**\n",
        "\n",
        "![alt text](https://render.githubusercontent.com/render/math?math=J%20%3D%20%5Cfrac%7B1%7D%7Bm%7D%20%5Csum_%7Bi%3D1%7D%5Em%20%5Cmathcal%7BL%7D%28a%5E%7B%28i%29%7D%2C%20y%5E%7B%28i%29%7D%29%5Ctag%7B6%7D&mode=display)\n",
        "\n",
        "**Gradient**\n",
        "\n",
        "![alt text](https://render.githubusercontent.com/render/math?math=%5Cfrac%7B%5Cpartial%20J%7D%7B%5Cpartial%20w%7D%20%3D%20%5Cfrac%7B1%7D%7Bm%7DX%28A-Y%29%5ET%5Ctag%7B7%7D%24%24%24%24%20%5Cfrac%7B%5Cpartial%20J%7D%7B%5Cpartial%20b%7D%20%3D%20%5Cfrac%7B1%7D%7Bm%7D%20%5Csum_%7Bi%3D1%7D%5Em%20%28a%5E%7B%28i%29%7D-y%5E%7B%28i%29%7D%29%5Ctag%7B8%7D&mode=display)"
      ]
    },
    {
      "cell_type": "code",
      "metadata": {
        "id": "agvPJUfoHka5",
        "colab_type": "code",
        "colab": {}
      },
      "source": [
        "def sigmoid(z):\n",
        "    \n",
        "    s = 1 / (1 + np.exp(-z))\n",
        "    \n",
        "    return s"
      ],
      "execution_count": 0,
      "outputs": []
    },
    {
      "cell_type": "markdown",
      "metadata": {
        "id": "I1mukZs2BaVS",
        "colab_type": "text"
      },
      "source": [
        "## Initialization"
      ]
    },
    {
      "cell_type": "code",
      "metadata": {
        "id": "qKUvR4Yr_Z94",
        "colab_type": "code",
        "colab": {}
      },
      "source": [
        "def initialize_with_zeros(dim):\n",
        "    \n",
        "    w = np.zeros(shape=(dim,1))\n",
        "    b = 0\n",
        "    \n",
        "    return w, b"
      ],
      "execution_count": 0,
      "outputs": []
    },
    {
      "cell_type": "markdown",
      "metadata": {
        "id": "o9pxzDkXB1zG",
        "colab_type": "text"
      },
      "source": [
        "## Forward Propagation"
      ]
    },
    {
      "cell_type": "code",
      "metadata": {
        "id": "ehQJAI_zSMPX",
        "colab_type": "code",
        "colab": {}
      },
      "source": [
        "w,b = initialize_with_zeros(X.shape[0])\n",
        "m=100\n",
        "learning_rate=0.001"
      ],
      "execution_count": 0,
      "outputs": []
    },
    {
      "cell_type": "code",
      "metadata": {
        "id": "OHDYANUXboAm",
        "colab_type": "code",
        "colab": {}
      },
      "source": [
        "w.shape"
      ],
      "execution_count": 0,
      "outputs": []
    },
    {
      "cell_type": "code",
      "metadata": {
        "id": "ouxcmNYdBowo",
        "colab_type": "code",
        "colab": {}
      },
      "source": [
        "def propagate(w,b):\n",
        "  z = np.dot(w.T,X)+b\n",
        "  A = sigmoid(z)\n",
        "  \n",
        "  cost = (- 1 / m) * np.sum(y * np.log(A) + (1 - y) * (np.log(1 - A)))\n",
        "  \n",
        "  dw = (1 / m) * np.dot(X, (A - y).T)\n",
        "  db = (1 / m) * np.sum(A - y)\n",
        "  cost = np.squeeze(cost)\n",
        "  \n",
        "  grads ={'dw':dw,'db':db}\n",
        "  return grads,cost\n",
        "\n"
      ],
      "execution_count": 0,
      "outputs": []
    },
    {
      "cell_type": "code",
      "metadata": {
        "id": "m9rS45sZCgLS",
        "colab_type": "code",
        "colab": {}
      },
      "source": [
        "def optimize(w,b,learning_rate,num_of_iterations):\n",
        "  \n",
        "  for i in range(num_of_iterations):\n",
        "    grads,cost = propagate(w,b)\n",
        "    dw= grads['dw']\n",
        "    db = grads['db']\n",
        "    w = w - learning_rate * dw  \n",
        "    b = b - learning_rate * db\n",
        "    if i % 500 == 0:\n",
        "      print(cost)\n",
        "      \n",
        "  return w,b\n",
        "\n",
        "learning_rate=0.01\n",
        "w,b=optimize(w,b,learning_rate,50000)\n"
      ],
      "execution_count": 0,
      "outputs": []
    },
    {
      "cell_type": "code",
      "metadata": {
        "id": "BAcTVU9kdJ9S",
        "colab_type": "code",
        "colab": {}
      },
      "source": [
        ""
      ],
      "execution_count": 0,
      "outputs": []
    },
    {
      "cell_type": "code",
      "metadata": {
        "id": "BBtpPHPiCt1V",
        "colab_type": "code",
        "colab": {}
      },
      "source": [
        "m = X.shape[1]\n",
        "Y_prediction = np.zeros((1, m))\n",
        "w = w.reshape(X.shape[0], 1)\n",
        "z = np.dot(w.T,X)+b\n",
        "A = sigmoid(np.dot(w.T, X) + b)\n",
        "\n",
        "for i in range(A.shape[1]):\n",
        "      # Convert probabilities a[0,i] to actual predictions p[0,i]\n",
        "      ### START CODE HERE ### (≈ 4 lines of code)\n",
        "      Y_prediction[0,i] = 1 if A[0,i] > 0.5 else 0\n",
        "      ### END CODE HERE ###\n",
        "print(Y_prediction.shape)\n",
        "print(y.shape)"
      ],
      "execution_count": 0,
      "outputs": []
    },
    {
      "cell_type": "code",
      "metadata": {
        "id": "N0C0uJmpRWSH",
        "colab_type": "code",
        "outputId": "5492bc0b-ce86-469c-83e9-d546cd7cc22d",
        "colab": {
          "base_uri": "https://localhost:8080/",
          "height": 34
        }
      },
      "source": [
        "from sklearn.metrics import accuracy_score\n",
        "score =accuracy_score(y.T,Y_prediction.T)\n",
        "score"
      ],
      "execution_count": 556,
      "outputs": [
        {
          "output_type": "execute_result",
          "data": {
            "text/plain": [
              "0.89"
            ]
          },
          "metadata": {
            "tags": []
          },
          "execution_count": 556
        }
      ]
    },
    {
      "cell_type": "markdown",
      "metadata": {
        "id": "tcpIay_XMFd6",
        "colab_type": "text"
      },
      "source": [
        ""
      ]
    },
    {
      "cell_type": "code",
      "metadata": {
        "id": "SRh9Sla7JYg2",
        "colab_type": "code",
        "colab": {}
      },
      "source": [
        ""
      ],
      "execution_count": 0,
      "outputs": []
    },
    {
      "cell_type": "code",
      "metadata": {
        "id": "2-oJJgsMJIiK",
        "colab_type": "code",
        "colab": {}
      },
      "source": [
        ""
      ],
      "execution_count": 0,
      "outputs": []
    },
    {
      "cell_type": "code",
      "metadata": {
        "id": "_23_iKNrLPwn",
        "colab_type": "code",
        "colab": {}
      },
      "source": [
        ""
      ],
      "execution_count": 0,
      "outputs": []
    }
  ]
}