{
  "nbformat": 4,
  "nbformat_minor": 0,
  "metadata": {
    "colab": {
      "name": "NN basics",
      "version": "0.3.2",
      "provenance": [],
      "collapsed_sections": [],
      "include_colab_link": true
    },
    "kernelspec": {
      "name": "python3",
      "display_name": "Python 3"
    }
  },
  "cells": [
    {
      "cell_type": "markdown",
      "metadata": {
        "id": "view-in-github",
        "colab_type": "text"
      },
      "source": [
        "<a href=\"https://colab.research.google.com/github/sagunkayastha/ILab_Tutorials/blob/master/NN_basics.ipynb\" target=\"_parent\"><img src=\"https://colab.research.google.com/assets/colab-badge.svg\" alt=\"Open In Colab\"/></a>"
      ]
    },
    {
      "cell_type": "code",
      "metadata": {
        "id": "8pV8_NMa7rms",
        "colab_type": "code",
        "colab": {}
      },
      "source": [
        "import numpy as np\n",
        "import matplotlib.pyplot as plt\n",
        "import h5py\n",
        "import scipy\n",
        "import os"
      ],
      "execution_count": 0,
      "outputs": []
    },
    {
      "cell_type": "code",
      "metadata": {
        "id": "9ejZgE2k7W6l",
        "colab_type": "code",
        "colab": {
          "base_uri": "https://localhost:8080/",
          "height": 204
        },
        "outputId": "f2f5ec40-f4d8-49aa-e0d0-e8af2eecbcd3"
      },
      "source": [
        "!wget https://raw.githubusercontent.com/sagunkayastha/ILab_Tutorials/master/ex2data1.txt\n",
        "data = np.loadtxt(os.path.join('ex2data1.txt'), delimiter=',')\n",
        "X, y = data[:, 0:2], data[:, 2]\n"
      ],
      "execution_count": 557,
      "outputs": [
        {
          "output_type": "stream",
          "text": [
            "--2019-08-29 09:36:41--  https://raw.githubusercontent.com/sagunkayastha/ILab_Tutorials/master/ex2data1.txt\n",
            "Resolving raw.githubusercontent.com (raw.githubusercontent.com)... 151.101.0.133, 151.101.64.133, 151.101.128.133, ...\n",
            "Connecting to raw.githubusercontent.com (raw.githubusercontent.com)|151.101.0.133|:443... connected.\n",
            "HTTP request sent, awaiting response... 200 OK\n",
            "Length: 3775 (3.7K) [text/plain]\n",
            "Saving to: ‘ex2data1.txt.1’\n",
            "\n",
            "\rex2data1.txt.1        0%[                    ]       0  --.-KB/s               \rex2data1.txt.1      100%[===================>]   3.69K  --.-KB/s    in 0s      \n",
            "\n",
            "2019-08-29 09:36:41 (55.2 MB/s) - ‘ex2data1.txt.1’ saved [3775/3775]\n",
            "\n"
          ],
          "name": "stdout"
        }
      ]
    },
    {
      "cell_type": "code",
      "metadata": {
        "id": "8hWYr_A57b6e",
        "colab_type": "code",
        "outputId": "63af95db-9386-4f57-83ea-bcc58ca98222",
        "colab": {
          "base_uri": "https://localhost:8080/",
          "height": 283
        }
      },
      "source": [
        "def plotData(X, y):\n",
        "    \n",
        "    pos = y == 1\n",
        "    neg = y == 0\n",
        "\n",
        "    plt.plot(X[pos, 0], X[pos, 1], 'kx', lw= 2, ms=8)\n",
        "    plt.plot(X[neg,0], X[neg,1], 'ko',mfc='y', ms=8, mec='k', mew=1)\n",
        "    plt.xlabel('Exam 1 score')\n",
        "    plt.ylabel('Exam 2 score')\n",
        "    plt.legend(['Admitted', 'Not admitted'])\n",
        "plotData(X,y)    "
      ],
      "execution_count": 506,
      "outputs": [
        {
          "output_type": "display_data",
          "data": {
            "image/png": "[encoded data removed]",
            "text/plain": [
              "<Figure size 432x288 with 1 Axes>"
            ]
          },
          "metadata": {
            "tags": []
          }
        }
      ]
    },
    {
      "cell_type": "markdown",
      "metadata": {
        "id": "4c_yuxw1LAdY",
        "colab_type": "text"
      },
      "source": [
        "**Normalize**"
      ]
    },
    {
      "cell_type": "code",
      "metadata": {
        "id": "xwxxdnApKklI",
        "colab_type": "code",
        "outputId": "288a393f-b79e-410f-f7ca-d77097984a08",
        "colab": {
          "base_uri": "https://localhost:8080/",
          "height": 283
        }
      },
      "source": [
        "X = X - X.mean()\n",
        "X = X / X.max()\n",
        "plotData(X,y)    "
      ],
      "execution_count": 507,
      "outputs": [
        {
          "output_type": "display_data",
          "data": {
            "image/png": "[encoded data removed]",
            "text/plain": [
              "<Figure size 432x288 with 1 Axes>"
            ]
          },
          "metadata": {
            "tags": []
          }
        }
      ]
    },
    {
      "cell_type": "markdown",
      "metadata": {
        "id": "UpBKKG3s_ol1",
        "colab_type": "text"
      },
      "source": [
        "**Checking shapes**"
      ]
    },
    {
      "cell_type": "code",
      "metadata": {
        "id": "EDaqHk4B7fuv",
        "colab_type": "code",
        "outputId": "ff6b2811-3e8a-43ed-f7c1-d0f5ff7e8ad2",
        "colab": {
          "base_uri": "https://localhost:8080/",
          "height": 51
        }
      },
      "source": [
        "\n",
        "y=y.reshape(-1,1)\n",
        "\n",
        "X,y= X.T,y.T\n",
        "print('Shape X',X.shape)\n",
        "\n",
        "print('Shape y',y.shape)"
      ],
      "execution_count": 508,
      "outputs": [
        {
          "output_type": "stream",
          "text": [
            "Shape X (2, 100)\n",
            "Shape y (1, 100)\n"
          ],
          "name": "stdout"
        }
      ]
    },
    {
      "cell_type": "code",
      "metadata": {
        "id": "YFXIqJw3p-cU",
        "colab_type": "code",
        "colab": {}
      },
      "source": [
        ""
      ],
      "execution_count": 0,
      "outputs": []
    },
    {
      "cell_type": "markdown",
      "metadata": {
        "id": "snjjyvamAueg",
        "colab_type": "text"
      },
      "source": [
        "**Algorithm**\n",
        "\n",
        "\n",
        "![alt text](https://render.githubusercontent.com/render/math?math=z%5E%7B%28i%29%7D%20%3D%20w%5ET%20x%5E%7B%28i%29%7D%20%2B%20b%20%5Ctag%7B1%7D&mode=display)\n",
        "\n",
        "![alt text](https://render.githubusercontent.com/render/math?math=%5Chat%7By%7D%5E%7B%28i%29%7D%20%3D%20a%5E%7B%28i%29%7D%20%3D%20sigmoid%28z%5E%7B%28i%29%7D%29%5Ctag%7B2%7D&mode=display)\n",
        "\n",
        "![alt text](https://render.githubusercontent.com/render/math?math=%5Cmathcal%7BL%7D%28a%5E%7B%28i%29%7D%2C%20y%5E%7B%28i%29%7D%29%20%3D%20%20-%20y%5E%7B%28i%29%7D%20%20%5Clog%28a%5E%7B%28i%29%7D%29%20-%20%281-y%5E%7B%28i%29%7D%20%29%20%20%5Clog%281-a%5E%7B%28i%29%7D%29%5Ctag%7B3%7D&mode=display)\n",
        "\n",
        "**Calculate Loss**\n",
        "\n",
        "![alt text](https://render.githubusercontent.com/render/math?math=J%20%3D%20%5Cfrac%7B1%7D%7Bm%7D%20%5Csum_%7Bi%3D1%7D%5Em%20%5Cmathcal%7BL%7D%28a%5E%7B%28i%29%7D%2C%20y%5E%7B%28i%29%7D%29%5Ctag%7B6%7D&mode=display)\n",
        "\n",
        "**Gradient**\n",
        "\n",
        "![alt text](https://render.githubusercontent.com/render/math?math=%5Cfrac%7B%5Cpartial%20J%7D%7B%5Cpartial%20w%7D%20%3D%20%5Cfrac%7B1%7D%7Bm%7DX%28A-Y%29%5ET%5Ctag%7B7%7D%24%24%24%24%20%5Cfrac%7B%5Cpartial%20J%7D%7B%5Cpartial%20b%7D%20%3D%20%5Cfrac%7B1%7D%7Bm%7D%20%5Csum_%7Bi%3D1%7D%5Em%20%28a%5E%7B%28i%29%7D-y%5E%7B%28i%29%7D%29%5Ctag%7B8%7D&mode=display)"
      ]
    },
    {
      "cell_type": "code",
      "metadata": {
        "id": "agvPJUfoHka5",
        "colab_type": "code",
        "colab": {}
      },
      "source": [
        "def sigmoid(z):\n",
        "    \n",
        "    s = 1 / (1 + np.exp(-z))\n",
        "    \n",
        "    return s"
      ],
      "execution_count": 0,
      "outputs": []
    },
    {
      "cell_type": "markdown",
      "metadata": {
        "id": "I1mukZs2BaVS",
        "colab_type": "text"
      },
      "source": [
        "## Initialization"
      ]
    },
    {
      "cell_type": "code",
      "metadata": {
        "id": "qKUvR4Yr_Z94",
        "colab_type": "code",
        "colab": {}
      },
      "source": [
        "def initialize_with_zeros(dim):\n",
        "    \n",
        "    w = np.zeros(shape=(dim,1))\n",
        "    b = 0\n",
        "    \n",
        "    return w, b"
      ],
      "execution_count": 0,
      "outputs": []
    },
    {
      "cell_type": "markdown",
      "metadata": {
        "id": "o9pxzDkXB1zG",
        "colab_type": "text"
      },
      "source": [
        "## Forward Propagation"
      ]
    },
    {
      "cell_type": "code",
      "metadata": {
        "id": "ehQJAI_zSMPX",
        "colab_type": "code",
        "colab": {}
      },
      "source": [
        "w,b = initialize_with_zeros(X.shape[0])\n",
        "m=100\n",
        "learning_rate=0.001"
      ],
      "execution_count": 0,
      "outputs": []
    },
    {
      "cell_type": "code",
      "metadata": {
        "id": "OHDYANUXboAm",
        "colab_type": "code",
        "colab": {
          "base_uri": "https://localhost:8080/",
          "height": 34
        },
        "outputId": "f6c1f87d-ed7a-4271-aa13-35e921a0b02c"
      },
      "source": [
        "w.shape"
      ],
      "execution_count": 546,
      "outputs": [
        {
          "output_type": "execute_result",
          "data": {
            "text/plain": [
              "(2, 1)"
            ]
          },
          "metadata": {
            "tags": []
          },
          "execution_count": 546
        }
      ]
    },
    {
      "cell_type": "code",
      "metadata": {
        "id": "ouxcmNYdBowo",
        "colab_type": "code",
        "colab": {}
      },
      "source": [
        "def propagate(w,b):\n",
        "  z = np.dot(w.T,X)+b\n",
        "  A = sigmoid(z)\n",
        "  \n",
        "  cost = (- 1 / m) * np.sum(y * np.log(A) + (1 - y) * (np.log(1 - A)))\n",
        "  \n",
        "  dw = (1 / m) * np.dot(X, (A - y).T)\n",
        "  db = (1 / m) * np.sum(A - y)\n",
        "  cost = np.squeeze(cost)\n",
        "  \n",
        "  grads ={'dw':dw,'db':db}\n",
        "  return grads,cost\n",
        "\n"
      ],
      "execution_count": 0,
      "outputs": []
    },
    {
      "cell_type": "code",
      "metadata": {
        "id": "m9rS45sZCgLS",
        "colab_type": "code",
        "outputId": "c8cd1d96-0eb2-49fd-ef92-bb04c40284a6",
        "colab": {
          "base_uri": "https://localhost:8080/",
          "height": 1000
        }
      },
      "source": [
        "def optimize(w,b,learning_rate,num_of_iterations):\n",
        "  \n",
        "  for i in range(num_of_iterations):\n",
        "    grads,cost = propagate(w,b)\n",
        "    dw= grads['dw']\n",
        "    db = grads['db']\n",
        "    w = w - learning_rate * dw  \n",
        "    b = b - learning_rate * db\n",
        "    if i % 100 == 0:\n",
        "      print(cost)\n",
        "      \n",
        "  return w,b\n",
        "\n",
        "learning_rate=0.01\n",
        "w,b=optimize(w,b,learning_rate,50000)\n"
      ],
      "execution_count": 554,
      "outputs": [
        {
          "output_type": "stream",
          "text": [
            "0.2043424627049964\n",
            "0.20433862725252552\n",
            "0.20433481063796563\n",
            "0.2043310127585453\n",
            "0.2043272335121308\n",
            "0.2043234727972216\n",
            "0.20431973051294577\n",
            "0.20431600655905555\n",
            "0.20431230083592283\n",
            "0.20430861324453492\n",
            "0.20430494368648977\n",
            "0.2043012920639921\n",
            "0.2042976582798488\n",
            "0.20429404223746467\n",
            "0.2042904438408383\n",
            "0.20428686299455795\n",
            "0.20428329960379685\n",
            "0.20427975357430986\n",
            "0.2042762248124286\n",
            "0.20427271322505822\n",
            "0.20426921871967235\n",
            "0.20426574120430988\n",
            "0.20426228058757093\n",
            "0.20425883677861237\n",
            "0.20425540968714445\n",
            "0.20425199922342693\n",
            "0.20424860529826458\n",
            "0.20424522782300425\n",
            "0.20424186670953068\n",
            "0.20423852187026242\n",
            "0.20423519321814887\n",
            "0.20423188066666573\n",
            "0.20422858412981196\n",
            "0.2042253035221063\n",
            "0.20422203875858264\n",
            "0.20421878975478752\n",
            "0.20421555642677647\n",
            "0.2042123386911096\n",
            "0.2042091364648492\n",
            "0.20420594966555566\n",
            "0.20420277821128416\n",
            "0.20419962202058117\n",
            "0.20419648101248158\n",
            "0.20419335510650452\n",
            "0.20419024422265072\n",
            "0.20418714828139886\n",
            "0.20418406720370252\n",
            "0.2041810009109866\n",
            "0.20417794932514455\n",
            "0.20417491236853472\n",
            "0.20417188996397745\n",
            "0.20416888203475206\n",
            "0.20416588850459336\n",
            "0.20416290929768852\n",
            "0.20415994433867468\n",
            "0.20415699355263514\n",
            "0.20415405686509666\n",
            "0.2041511342020264\n",
            "0.20414822548982894\n",
            "0.20414533065534343\n",
            "0.20414244962584055\n",
            "0.20413958232901966\n",
            "0.2041367286930057\n",
            "0.2041338886463466\n",
            "0.2041310621180104\n",
            "0.2041282490373823\n",
            "0.20412544933426194\n",
            "0.20412266293886056\n",
            "0.2041198897817984\n",
            "0.20411712979410168\n",
            "0.2041143829072002\n",
            "0.20411164905292442\n",
            "0.20410892816350307\n",
            "0.20410622017156002\n",
            "0.20410352501011209\n",
            "0.20410084261256628\n",
            "0.20409817291271715\n",
            "0.20409551584474422\n",
            "0.20409287134320955\n",
            "0.20409023934305517\n",
            "0.2040876197796003\n",
            "0.20408501258853945\n",
            "0.20408241770593918\n",
            "0.20407983506823626\n",
            "0.20407726461223502\n",
            "0.20407470627510474\n",
            "0.20407215999437756\n",
            "0.20406962570794612\n",
            "0.20406710335406064\n",
            "0.2040645928713273\n",
            "0.20406209419870538\n",
            "0.20405960727550532\n",
            "0.20405713204138617\n",
            "0.20405466843635328\n",
            "0.20405221640075624\n",
            "0.20404977587528667\n",
            "0.20404734680097558\n",
            "0.20404492911919161\n",
            "0.2040425227716388\n",
            "0.20404012770035407\n",
            "0.20403774384770537\n",
            "0.2040353711563894\n",
            "0.2040330095694295\n",
            "0.20403065903017353\n",
            "0.20402831948229191\n",
            "0.20402599086977533\n",
            "0.2040236731369327\n",
            "0.20402136622838934\n",
            "0.20401907008908463\n",
            "0.20401678466427015\n",
            "0.20401450989950767\n",
            "0.20401224574066731\n",
            "0.20400999213392493\n",
            "0.20400774902576102\n",
            "0.2040055163629583\n",
            "0.20400329409259976\n",
            "0.2040010821620668\n",
            "0.20399888051903736\n",
            "0.20399668911148422\n",
            "0.20399450788767254\n",
            "0.20399233679615855\n",
            "0.20399017578578765\n",
            "0.20398802480569217\n",
            "0.20398588380528998\n",
            "0.20398375273428254\n",
            "0.20398163154265286\n",
            "0.20397952018066423\n",
            "0.20397741859885787\n",
            "0.20397532674805155\n",
            "0.20397324457933766\n",
            "0.20397117204408177\n",
            "0.20396910909392044\n",
            "0.20396705568075987\n",
            "0.203965011756774\n",
            "0.20396297727440316\n",
            "0.20396095218635174\n",
            "0.2039589364455874\n",
            "0.2039569300053386\n",
            "0.2039549328190935\n",
            "0.20395294484059812\n",
            "0.20395096602385462\n",
            "0.2039489963231203\n",
            "0.2039470356929049\n",
            "0.20394508408797013\n",
            "0.2039431414633275\n",
            "0.2039412077742369\n",
            "0.20393928297620506\n",
            "0.20393736702498402\n",
            "0.20393545987656964\n",
            "0.20393356148719988\n",
            "0.20393167181335364\n",
            "0.20392979081174895\n",
            "0.2039279184393417\n",
            "0.20392605465332406\n",
            "0.20392419941112327\n",
            "0.20392235267039943\n",
            "0.20392051438904513\n",
            "0.20391868452518325\n",
            "0.20391686303716575\n",
            "0.20391504988357248\n",
            "0.20391324502320934\n",
            "0.20391144841510733\n",
            "0.20390966001852082\n",
            "0.20390787979292646\n",
            "0.20390610769802145\n",
            "0.20390434369372293\n",
            "0.2039025877401655\n",
            "0.20390083979770093\n",
            "0.20389909982689639\n",
            "0.20389736778853298\n",
            "0.2038956436436048\n",
            "0.20389392735331735\n",
            "0.20389221887908648\n",
            "0.20389051818253667\n",
            "0.2038888252255006\n",
            "0.20388713997001692\n",
            "0.20388546237832952\n",
            "0.20388379241288637\n",
            "0.203882130036338\n",
            "0.2038804752115365\n",
            "0.203878827901534\n",
            "0.20387718806958177\n",
            "0.20387555567912896\n",
            "0.2038739306938213\n",
            "0.2038723130774998\n",
            "0.20387070279419994\n",
            "0.20386909980815035\n",
            "0.20386750408377133\n",
            "0.203865915585674\n",
            "0.20386433427865944\n",
            "0.2038627601277168\n",
            "0.2038611930980229\n",
            "0.20385963315494052\n",
            "0.20385808026401794\n",
            "0.20385653439098697\n",
            "0.20385499550176278\n",
            "0.20385346356244213\n",
            "0.20385193853930253\n",
            "0.20385042039880122\n",
            "0.20384890910757403\n",
            "0.20384740463243417\n",
            "0.20384590694037166\n",
            "0.20384441599855133\n",
            "0.20384293177431312\n",
            "0.20384145423516972\n",
            "0.20383998334880654\n",
            "0.20383851908308004\n",
            "0.20383706140601698\n",
            "0.2038356102858135\n",
            "0.20383416569083387\n",
            "0.20383272758960985\n",
            "0.20383129595083926\n",
            "0.2038298707433853\n",
            "0.2038284519362755\n",
            "0.20382703949870087\n",
            "0.20382563340001458\n",
            "0.2038242336097315\n",
            "0.20382284009752683\n",
            "0.20382145283323533\n",
            "0.20382007178685055\n",
            "0.20381869692852353\n",
            "0.20381732822856208\n",
            "0.20381596565743007\n",
            "0.203814609185746\n",
            "0.2038132587842827\n",
            "0.20381191442396582\n",
            "0.20381057607587358\n",
            "0.20380924371123524\n",
            "0.20380791730143075\n",
            "0.20380659681798957\n",
            "0.20380528223258976\n",
            "0.20380397351705745\n",
            "0.20380267064336557\n",
            "0.20380137358363332\n",
            "0.2038000823101251\n",
            "0.2037987967952499\n",
            "0.20379751701156004\n",
            "0.203796242931751\n",
            "0.20379497452865988\n",
            "0.20379371177526512\n",
            "0.20379245464468543\n",
            "0.20379120311017893\n",
            "0.2037899571451427\n",
            "0.20378871672311122\n",
            "0.20378748181775672\n",
            "0.2037862524028872\n",
            "0.2037850284524467\n",
            "0.20378380994051337\n",
            "0.20378259684130007\n",
            "0.20378138912915242\n",
            "0.2037801867785485\n",
            "0.20377898976409836\n",
            "0.20377779806054258\n",
            "0.2037766116427523\n",
            "0.20377543048572785\n",
            "0.20377425456459844\n",
            "0.20377308385462115\n",
            "0.20377191833118027\n",
            "0.20377075796978678\n",
            "0.2037696027460771\n",
            "0.20376845263581317\n",
            "0.20376730761488093\n",
            "0.20376616765929026\n",
            "0.20376503274517352\n",
            "0.203763902848786\n",
            "0.20376277794650402\n",
            "0.2037616580148249\n",
            "0.20376054303036628\n",
            "0.2037594329698653\n",
            "0.20375832781017772\n",
            "0.2037572275282776\n",
            "0.20375613210125643\n",
            "0.20375504150632265\n",
            "0.20375395572080074\n",
            "0.20375287472213086\n",
            "0.20375179848786784\n",
            "0.20375072699568061\n",
            "0.20374966022335206\n",
            "0.20374859814877774\n",
            "0.20374754074996548\n",
            "0.203746488005035\n",
            "0.20374543989221688\n",
            "0.20374439638985206\n",
            "0.2037433574763914\n",
            "0.203742323130395\n",
            "0.20374129333053126\n",
            "0.2037402680555769\n",
            "0.2037392472844157\n",
            "0.2037382309960385\n",
            "0.203737219169542\n",
            "0.2037362117841286\n",
            "0.20373520881910565\n",
            "0.20373421025388502\n",
            "0.2037332160679824\n",
            "0.20373222624101645\n",
            "0.2037312407527088\n",
            "0.203730259582883\n",
            "0.20372928271146426\n",
            "0.2037283101184785\n",
            "0.20372734178405258\n",
            "0.2037263776884125\n",
            "0.203725417811884\n",
            "0.2037244621348916\n",
            "0.20372351063795782\n",
            "0.2037225633017029\n",
            "0.2037216201068443\n",
            "0.2037206810341959\n",
            "0.20371974606466772\n",
            "0.2037188151792652\n",
            "0.203717888359089\n",
            "0.203716965585334\n",
            "0.20371604683928926\n",
            "0.20371513210233702\n",
            "0.20371422135595263\n",
            "0.20371331458170383\n",
            "0.20371241176125016\n",
            "0.20371151287634268\n",
            "0.2037106179088231\n",
            "0.20370972684062408\n",
            "0.20370883965376763\n",
            "0.2037079563303652\n",
            "0.20370707685261763\n",
            "0.20370620120281369\n",
            "0.2037053293633304\n",
            "0.20370446131663225\n",
            "0.20370359704527052\n",
            "0.20370273653188314\n",
            "0.2037018797591943\n",
            "0.20370102671001328\n",
            "0.203700177367235\n",
            "0.20369933171383864\n",
            "0.20369848973288787\n",
            "0.20369765140752993\n",
            "0.20369681672099543\n",
            "0.20369598565659763\n",
            "0.20369515819773248\n",
            "0.20369433432787762\n",
            "0.20369351403059227\n",
            "0.20369269728951672\n",
            "0.2036918840883718\n",
            "0.20369107441095874\n",
            "0.20369026824115807\n",
            "0.2036894655629302\n",
            "0.2036886663603139\n",
            "0.20368787061742682\n",
            "0.20368707831846455\n",
            "0.20368628944769995\n",
            "0.2036855039894836\n",
            "0.20368472192824258\n",
            "0.2036839432484803\n",
            "0.20368316793477634\n",
            "0.2036823959717857\n",
            "0.20368162734423853\n",
            "0.20368086203693989\n",
            "0.20368010003476877\n",
            "0.2036793413226787\n",
            "0.2036785858856963\n",
            "0.2036778337089216\n",
            "0.20367708477752722\n",
            "0.20367633907675828\n",
            "0.203675596591932\n",
            "0.20367485730843699\n",
            "0.2036741212117331\n",
            "0.20367338828735132\n",
            "0.2036726585208927\n",
            "0.20367193189802862\n",
            "0.2036712084045003\n",
            "0.20367048802611806\n",
            "0.2036697707487613\n",
            "0.20366905655837808\n",
            "0.20366834544098478\n",
            "0.20366763738266547\n",
            "0.20366693236957187\n",
            "0.20366623038792292\n",
            "0.20366553142400434\n",
            "0.2036648354641682\n",
            "0.20366414249483292\n",
            "0.20366345250248244\n",
            "0.20366276547366624\n",
            "0.203662081394999\n",
            "0.2036614002531599\n",
            "0.20366072203489258\n",
            "0.2036600467270047\n",
            "0.20365937431636777\n",
            "0.2036587047899166\n",
            "0.20365803813464886\n",
            "0.20365737433762526\n",
            "0.2036567133859686\n",
            "0.20365605526686387\n",
            "0.20365539996755788\n",
            "0.20365474747535867\n",
            "0.20365409777763543\n",
            "0.20365345086181805\n",
            "0.20365280671539698\n",
            "0.2036521653259227\n",
            "0.20365152668100564\n",
            "0.20365089076831536\n",
            "0.20365025757558117\n",
            "0.20364962709059076\n",
            "0.2036489993011907\n",
            "0.20364837419528564\n",
            "0.2036477517608383\n",
            "0.20364713198586903\n",
            "0.20364651485845553\n",
            "0.2036459003667326\n",
            "0.20364528849889174\n",
            "0.20364467924318091\n",
            "0.20364407258790432\n",
            "0.20364346852142207\n",
            "0.2036428670321497\n",
            "0.20364226810855826\n",
            "0.20364167173917364\n",
            "0.2036410779125766\n",
            "0.20364048661740228\n",
            "0.2036398978423399\n",
            "0.20363931157613288\n",
            "0.20363872780757775\n",
            "0.20363814652552492\n",
            "0.2036375677188774\n",
            "0.2036369913765912\n",
            "0.20363641748767491\n",
            "0.20363584604118917\n",
            "0.2036352770262465\n",
            "0.20363471043201162\n",
            "0.20363414624770013\n",
            "0.2036335844625791\n",
            "0.2036330250659664\n",
            "0.20363246804723056\n",
            "0.2036319133957905\n",
            "0.20363136110111527\n",
            "0.20363081115272383\n",
            "0.20363026354018476\n",
            "0.20362971825311577\n",
            "0.20362917528118396\n",
            "0.2036286346141052\n",
            "0.20362809624164388\n",
            "0.20362756015361286\n",
            "0.2036270263398729\n",
            "0.2036264947903329\n",
            "0.20362596549494918\n",
            "0.2036254384437255\n",
            "0.2036249136267128\n",
            "0.20362439103400876\n",
            "0.2036238706557578\n",
            "0.2036233524821508\n",
            "0.20362283650342478\n",
            "0.20362232270986266\n",
            "0.2036218110917931\n",
            "0.20362130163959027\n",
            "0.20362079434367342\n",
            "0.2036202891945071\n",
            "0.20361978618260043\n",
            "0.203619285298507\n",
            "0.20361878653282525\n",
            "0.20361828987619693\n",
            "0.20361779531930832\n",
            "0.20361730285288906\n",
            "0.20361681246771235\n",
            "0.20361632415459452\n",
            "0.20361583790439486\n",
            "0.20361535370801576\n",
            "0.20361487155640176\n",
            "0.20361439144053997\n",
            "0.20361391335145962\n",
            "0.20361343728023193\n",
            "0.20361296321796954\n",
            "0.203612491155827\n",
            "0.20361202108499987\n",
            "0.20361155299672498\n",
            "0.2036110868822798\n",
            "0.2036106227329827\n",
            "0.20361016054019246\n",
            "0.2036097002953082\n",
            "0.20360924198976882\n",
            "0.2036087856150533\n",
            "0.20360833116268048\n",
            "0.20360787862420807\n",
            "0.2036074279912337\n",
            "0.20360697925539373\n",
            "0.20360653240836338\n",
            "0.20360608744185668\n",
            "0.20360564434762599\n",
            "0.20360520311746214\n",
            "0.20360476374319392\n",
            "0.20360432621668811\n",
            "0.20360389052984912\n",
            "0.203603456674619\n",
            "0.20360302464297708\n",
            "0.20360259442693984\n",
            "0.20360216601856088\n",
            "0.2036017394099303\n",
            "0.20360131459317515\n",
            "0.20360089156045857\n",
            "0.20360047030398015\n",
            "0.20360005081597543\n",
            "0.2035996330887161\n",
            "0.20359921711450912\n",
            "0.20359880288569734\n",
            "0.20359839039465868\n",
            "0.20359797963380655\n"
          ],
          "name": "stdout"
        }
      ]
    },
    {
      "cell_type": "code",
      "metadata": {
        "id": "BAcTVU9kdJ9S",
        "colab_type": "code",
        "colab": {}
      },
      "source": [
        ""
      ],
      "execution_count": 0,
      "outputs": []
    },
    {
      "cell_type": "code",
      "metadata": {
        "id": "BBtpPHPiCt1V",
        "colab_type": "code",
        "outputId": "bfebaa0b-8378-4221-f058-26c006170386",
        "colab": {
          "base_uri": "https://localhost:8080/",
          "height": 51
        }
      },
      "source": [
        "m = X.shape[1]\n",
        "Y_prediction = np.zeros((1, m))\n",
        "w = w.reshape(X.shape[0], 1)\n",
        "z = np.dot(w.T,X)+b\n",
        "A = sigmoid(np.dot(w.T, X) + b)\n",
        "\n",
        "for i in range(A.shape[1]):\n",
        "      # Convert probabilities a[0,i] to actual predictions p[0,i]\n",
        "      ### START CODE HERE ### (≈ 4 lines of code)\n",
        "      Y_prediction[0,i] = 1 if A[0,i] > 0.5 else 0\n",
        "      ### END CODE HERE ###\n",
        "print(Y_prediction.shape)\n",
        "print(y.shape)"
      ],
      "execution_count": 555,
      "outputs": [
        {
          "output_type": "stream",
          "text": [
            "(1, 100)\n",
            "(1, 100)\n"
          ],
          "name": "stdout"
        }
      ]
    },
    {
      "cell_type": "code",
      "metadata": {
        "id": "N0C0uJmpRWSH",
        "colab_type": "code",
        "outputId": "5492bc0b-ce86-469c-83e9-d546cd7cc22d",
        "colab": {
          "base_uri": "https://localhost:8080/",
          "height": 34
        }
      },
      "source": [
        "from sklearn.metrics import accuracy_score\n",
        "score =accuracy_score(y.T,Y_prediction.T)\n",
        "score"
      ],
      "execution_count": 556,
      "outputs": [
        {
          "output_type": "execute_result",
          "data": {
            "text/plain": [
              "0.89"
            ]
          },
          "metadata": {
            "tags": []
          },
          "execution_count": 556
        }
      ]
    },
    {
      "cell_type": "markdown",
      "metadata": {
        "id": "tcpIay_XMFd6",
        "colab_type": "text"
      },
      "source": [
        ""
      ]
    },
    {
      "cell_type": "markdown",
      "metadata": {
        "id": "Vrh_0IeYLw_M",
        "colab_type": "text"
      },
      "source": [
        "# Final Model"
      ]
    },
    {
      "cell_type": "code",
      "metadata": {
        "id": "SRh9Sla7JYg2",
        "colab_type": "code",
        "colab": {}
      },
      "source": [
        ""
      ],
      "execution_count": 0,
      "outputs": []
    },
    {
      "cell_type": "code",
      "metadata": {
        "id": "2-oJJgsMJIiK",
        "colab_type": "code",
        "colab": {}
      },
      "source": [
        ""
      ],
      "execution_count": 0,
      "outputs": []
    },
    {
      "cell_type": "code",
      "metadata": {
        "id": "_23_iKNrLPwn",
        "colab_type": "code",
        "colab": {}
      },
      "source": [
        ""
      ],
      "execution_count": 0,
      "outputs": []
    }
  ]
}