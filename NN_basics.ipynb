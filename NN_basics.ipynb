{
  "nbformat": 4,
  "nbformat_minor": 0,
  "metadata": {
    "colab": {
      "name": "NN basics",
      "version": "0.3.2",
      "provenance": [],
      "collapsed_sections": [
        "aXnZqaJD8JTN",
        "I1mukZs2BaVS",
        "o9pxzDkXB1zG"
      ],
      "include_colab_link": true
    },
    "kernelspec": {
      "name": "python3",
      "display_name": "Python 3"
    }
  },
  "cells": [
    {
      "cell_type": "markdown",
      "metadata": {
        "id": "view-in-github",
        "colab_type": "text"
      },
      "source": [
        "<a href=\"https://colab.research.google.com/github/sagunkayastha/ILab_Tutorials/blob/master/NN_basics.ipynb\" target=\"_parent\"><img src=\"https://colab.research.google.com/assets/colab-badge.svg\" alt=\"Open In Colab\"/></a>"
      ]
    },
    {
      "cell_type": "markdown",
      "metadata": {
        "id": "aXnZqaJD8JTN",
        "colab_type": "text"
      },
      "source": [
        "# Exercise 1"
      ]
    },
    {
      "cell_type": "markdown",
      "metadata": {
        "id": "9kS115gbJJ56",
        "colab_type": "text"
      },
      "source": [
        "**Use Perceptron Model to classify given data**"
      ]
    },
    {
      "cell_type": "code",
      "metadata": {
        "id": "8pV8_NMa7rms",
        "colab_type": "code",
        "colab": {}
      },
      "source": [
        "import numpy as np\n",
        "import matplotlib.pyplot as plt\n",
        "import h5py\n",
        "import scipy\n",
        "import os"
      ],
      "execution_count": 0,
      "outputs": []
    },
    {
      "cell_type": "markdown",
      "metadata": {
        "id": "DimJF4JlJRXJ",
        "colab_type": "text"
      },
      "source": [
        "**Data download and import**"
      ]
    },
    {
      "cell_type": "code",
      "metadata": {
        "id": "9ejZgE2k7W6l",
        "colab_type": "code",
        "colab": {}
      },
      "source": [
        "!wget https://raw.githubusercontent.com/sagunkayastha/ILab_Tutorials/master/ex2data1.txt\n",
        "data = np.loadtxt(os.path.join('ex2data1.txt'), delimiter=',')\n",
        "X, y = data[:, 0:2], data[:, 2]\n"
      ],
      "execution_count": 0,
      "outputs": []
    },
    {
      "cell_type": "code",
      "metadata": {
        "id": "8hWYr_A57b6e",
        "colab_type": "code",
        "colab": {}
      },
      "source": [
        "def plotData(X, y):\n",
        "    \n",
        "    pos = y == 1\n",
        "    neg = y == 0\n",
        "\n",
        "    plt.plot(X[pos, 0], X[pos, 1], 'kx', lw= 2, ms=8)\n",
        "    plt.plot(X[neg,0], X[neg,1], 'ko',mfc='y', ms=8, mec='k', mew=1)\n",
        "    plt.xlabel('Exam 1 score')\n",
        "    plt.ylabel('Exam 2 score')\n",
        "    plt.legend(['Admitted', 'Not admitted'])\n",
        "plotData(X,y)    "
      ],
      "execution_count": 0,
      "outputs": []
    },
    {
      "cell_type": "markdown",
      "metadata": {
        "id": "4c_yuxw1LAdY",
        "colab_type": "text"
      },
      "source": [
        "**Normalize**"
      ]
    },
    {
      "cell_type": "code",
      "metadata": {
        "id": "xwxxdnApKklI",
        "colab_type": "code",
        "colab": {}
      },
      "source": [
        "X = X - X.mean()\n",
        "X = X / X.max()\n",
        "plotData(X,y)    "
      ],
      "execution_count": 0,
      "outputs": []
    },
    {
      "cell_type": "markdown",
      "metadata": {
        "id": "UpBKKG3s_ol1",
        "colab_type": "text"
      },
      "source": [
        "**Checking shapes**"
      ]
    },
    {
      "cell_type": "code",
      "metadata": {
        "id": "EDaqHk4B7fuv",
        "colab_type": "code",
        "colab": {}
      },
      "source": [
        "\n",
        "y=y.reshape(-1,1)\n",
        "\n",
        "X,y= X.T,y.T\n",
        "print('Shape X',X.shape)\n",
        "\n",
        "print('Shape y',y.shape)"
      ],
      "execution_count": 0,
      "outputs": []
    },
    {
      "cell_type": "markdown",
      "metadata": {
        "id": "snjjyvamAueg",
        "colab_type": "text"
      },
      "source": [
        "**Algorithm**\n",
        "\n",
        "\n",
        "![alt text](https://render.githubusercontent.com/render/math?math=z%5E%7B%28i%29%7D%20%3D%20w%5ET%20x%5E%7B%28i%29%7D%20%2B%20b%20%5Ctag%7B1%7D&mode=display)\n",
        "\n",
        "![alt text](https://render.githubusercontent.com/render/math?math=%5Chat%7By%7D%5E%7B%28i%29%7D%20%3D%20a%5E%7B%28i%29%7D%20%3D%20sigmoid%28z%5E%7B%28i%29%7D%29%5Ctag%7B2%7D&mode=display)\n",
        "\n",
        "![alt text](https://render.githubusercontent.com/render/math?math=%5Cmathcal%7BL%7D%28a%5E%7B%28i%29%7D%2C%20y%5E%7B%28i%29%7D%29%20%3D%20%20-%20y%5E%7B%28i%29%7D%20%20%5Clog%28a%5E%7B%28i%29%7D%29%20-%20%281-y%5E%7B%28i%29%7D%20%29%20%20%5Clog%281-a%5E%7B%28i%29%7D%29%5Ctag%7B3%7D&mode=display)\n",
        "\n",
        "**Calculate Loss**\n",
        "\n",
        "![alt text](https://render.githubusercontent.com/render/math?math=J%20%3D%20%5Cfrac%7B1%7D%7Bm%7D%20%5Csum_%7Bi%3D1%7D%5Em%20%5Cmathcal%7BL%7D%28a%5E%7B%28i%29%7D%2C%20y%5E%7B%28i%29%7D%29%5Ctag%7B6%7D&mode=display)\n",
        "\n",
        "**Gradient**\n",
        "\n",
        "![alt text](https://render.githubusercontent.com/render/math?math=%5Cfrac%7B%5Cpartial%20J%7D%7B%5Cpartial%20w%7D%20%3D%20%5Cfrac%7B1%7D%7Bm%7DX%28A-Y%29%5ET%5Ctag%7B7%7D%24%24%24%24%20%5Cfrac%7B%5Cpartial%20J%7D%7B%5Cpartial%20b%7D%20%3D%20%5Cfrac%7B1%7D%7Bm%7D%20%5Csum_%7Bi%3D1%7D%5Em%20%28a%5E%7B%28i%29%7D-y%5E%7B%28i%29%7D%29%5Ctag%7B8%7D&mode=display)"
      ]
    },
    {
      "cell_type": "code",
      "metadata": {
        "id": "agvPJUfoHka5",
        "colab_type": "code",
        "colab": {}
      },
      "source": [
        "def sigmoid(z):\n",
        "    \n",
        "    s = 1 / (1 + np.exp(-z))\n",
        "    \n",
        "    return s"
      ],
      "execution_count": 0,
      "outputs": []
    },
    {
      "cell_type": "markdown",
      "metadata": {
        "id": "I1mukZs2BaVS",
        "colab_type": "text"
      },
      "source": [
        "## Initialization"
      ]
    },
    {
      "cell_type": "code",
      "metadata": {
        "id": "qKUvR4Yr_Z94",
        "colab_type": "code",
        "colab": {}
      },
      "source": [
        "def initialize_with_zeros(dim):\n",
        "    \n",
        "    w = np.zeros(shape=(dim,1))\n",
        "    b = 0\n",
        "    \n",
        "    return w, b"
      ],
      "execution_count": 0,
      "outputs": []
    },
    {
      "cell_type": "markdown",
      "metadata": {
        "id": "o9pxzDkXB1zG",
        "colab_type": "text"
      },
      "source": [
        "## Forward Propagation"
      ]
    },
    {
      "cell_type": "code",
      "metadata": {
        "id": "ouxcmNYdBowo",
        "colab_type": "code",
        "colab": {}
      },
      "source": [
        "def propagate(w,b):\n",
        "  z = np.dot(w.T,X)+b\n",
        "  A = sigmoid(z)\n",
        "  \n",
        "  cost = (- 1 / m) * np.sum(y * np.log(A) + (1 - y) * (np.log(1 - A)))\n",
        "  \n",
        "  dw = (1 / m) * np.dot(X, (A - y).T)\n",
        "  db = (1 / m) * np.sum(A - y)\n",
        "  cost = np.squeeze(cost)\n",
        "  \n",
        "  grads ={'dw':dw,'db':db}\n",
        "  return grads,cost\n",
        "\n"
      ],
      "execution_count": 0,
      "outputs": []
    },
    {
      "cell_type": "code",
      "metadata": {
        "id": "m9rS45sZCgLS",
        "colab_type": "code",
        "colab": {}
      },
      "source": [
        "def optimize(w,b,learning_rate,num_of_iterations):\n",
        "  \n",
        "  for i in range(num_of_iterations):\n",
        "    grads,cost = propagate(w,b)\n",
        "    dw= grads['dw']\n",
        "    db = grads['db']\n",
        "    w = w - learning_rate * dw  \n",
        "    b = b - learning_rate * db\n",
        "    if i % 500 == 0:\n",
        "      print(f'cost after {i} epochs is {cost}')\n",
        "      \n",
        "    params ={'w':w,'b':b}\n",
        "  return params\n",
        "\n",
        "learning_rate=0.01\n",
        "\n",
        "w,b=initialize_with_zeros(2)\n",
        "m= X.shape[1] #100, number of training examples\n",
        "params=optimize(w,b,learning_rate,50000)\n"
      ],
      "execution_count": 0,
      "outputs": []
    },
    {
      "cell_type": "code",
      "metadata": {
        "id": "BAcTVU9kdJ9S",
        "colab_type": "code",
        "colab": {}
      },
      "source": [
        "def predict(params, X):\n",
        "    \n",
        "    w=params['w']\n",
        "    b=params['b']\n",
        "    \n",
        "    m = X.shape[1]\n",
        "    Y_prediction = np.zeros((1, m))\n",
        "    w = w.reshape(X.shape[0], 1)\n",
        "    \n",
        "    \n",
        "    A = sigmoid(np.dot(w.T, X) + b)\n",
        "    \n",
        "    for i in range(A.shape[1]):\n",
        "        # Convert probabilities a[0,i] to actual predictions p[0,i]\n",
        "        \n",
        "        Y_prediction[0, i] = 1 if A[0, i] > 0.5 else 0\n",
        "        \n",
        "    \n",
        "    return Y_prediction\n",
        "predictions = predict(params,X)\n",
        "print('y = ',y)\n",
        "print('predictions = ',predictions)"
      ],
      "execution_count": 0,
      "outputs": []
    },
    {
      "cell_type": "markdown",
      "metadata": {
        "id": "1aBxYihTI8g8",
        "colab_type": "text"
      },
      "source": [
        "## Final Model"
      ]
    },
    {
      "cell_type": "code",
      "metadata": {
        "id": "JdN0yrc1FcGL",
        "colab_type": "code",
        "colab": {}
      },
      "source": [
        "def model(X,y,learning_rate,num_of_iterations):\n",
        "  #initialization\n",
        "  w,b = initialize_with_zeros(X.shape[0])\n",
        "  \n",
        "  # Forward pass and Gradient descent\n",
        "  params= optimize(w,b,learning_rate,num_of_iterations)\n",
        "  \n",
        "  w = params['w']\n",
        "  b = params['b']\n",
        "  \n",
        "  # Predictions\n",
        "  predictions =predict(params,X)\n",
        "  print(\"accuracy: {} %\".format(100 - np.mean(np.abs(predictions - y)) * 100))\n",
        "  \n",
        "  \n",
        "model(X,y,0.01,25000)"
      ],
      "execution_count": 0,
      "outputs": []
    },
    {
      "cell_type": "markdown",
      "metadata": {
        "id": "C3PIjUgt8NTv",
        "colab_type": "text"
      },
      "source": [
        "# Exercise 2"
      ]
    },
    {
      "cell_type": "code",
      "metadata": {
        "id": "qt6axtfcCUW0",
        "colab_type": "code",
        "colab": {}
      },
      "source": [
        "import numpy as np\n",
        "import matplotlib.pyplot as plt\n",
        "import h5py\n",
        "import scipy\n",
        "from PIL import Image\n",
        "from scipy import ndimage\n",
        "\n",
        "%matplotlib inline"
      ],
      "execution_count": 0,
      "outputs": []
    },
    {
      "cell_type": "markdown",
      "metadata": {
        "id": "nlovfrulDZYS",
        "colab_type": "text"
      },
      "source": [
        "## Data Prep"
      ]
    },
    {
      "cell_type": "code",
      "metadata": {
        "id": "2wEBs3iL8QdI",
        "colab_type": "code",
        "colab": {}
      },
      "source": [
        "!wget https://github.com/sagunkayastha/ILab_Tutorials/raw/master/test_catvnoncat.h5\n",
        "!wget https://github.com/sagunkayastha/ILab_Tutorials/raw/master/train_catvnoncat.h5"
      ],
      "execution_count": 0,
      "outputs": []
    },
    {
      "cell_type": "code",
      "metadata": {
        "id": "yAlVBx_UAvgG",
        "colab_type": "code",
        "colab": {}
      },
      "source": [
        "# helper function to import data\n",
        "def load_dataset():\n",
        "    train_dataset = h5py.File('train_catvnoncat.h5', \"r\")\n",
        "    train_set_x_orig = np.array(train_dataset[\"train_set_x\"][:]) # your train set features\n",
        "    train_set_y_orig = np.array(train_dataset[\"train_set_y\"][:]) # your train set labels\n",
        "\n",
        "    test_dataset = h5py.File('test_catvnoncat.h5', \"r\")\n",
        "    test_set_x_orig = np.array(test_dataset[\"test_set_x\"][:]) # your test set features\n",
        "    test_set_y_orig = np.array(test_dataset[\"test_set_y\"][:]) # your test set labels\n",
        "\n",
        "    classes = np.array(test_dataset[\"list_classes\"][:]) # the list of classes\n",
        "    \n",
        "    train_set_y_orig = train_set_y_orig.reshape((1, train_set_y_orig.shape[0]))\n",
        "    test_set_y_orig = test_set_y_orig.reshape((1, test_set_y_orig.shape[0]))\n",
        "    \n",
        "    return train_set_x_orig, train_set_y_orig, test_set_x_orig, test_set_y_orig, classes\n",
        "\n"
      ],
      "execution_count": 0,
      "outputs": []
    },
    {
      "cell_type": "markdown",
      "metadata": {
        "id": "5V9fvvseCXkq",
        "colab_type": "text"
      },
      "source": [
        "**Loading the data (cat/non-cat)**"
      ]
    },
    {
      "cell_type": "code",
      "metadata": {
        "id": "Be3ecxO1BlfR",
        "colab_type": "code",
        "colab": {}
      },
      "source": [
        "train_set_x_orig, train_set_y, test_set_x_orig, test_set_y, classes = load_dataset()"
      ],
      "execution_count": 0,
      "outputs": []
    },
    {
      "cell_type": "code",
      "metadata": {
        "id": "EJCe4sLnCee7",
        "colab_type": "code",
        "colab": {}
      },
      "source": [
        "# Example\n",
        "index = 24\n",
        "plt.imshow(train_set_x_orig[index])\n",
        "print (\"y = \" + str(train_set_y[:,index]) + \", it's a '\" + classes[np.squeeze(train_set_y[:,index])].decode(\"utf-8\") +  \"' picture.\")"
      ],
      "execution_count": 0,
      "outputs": []
    },
    {
      "cell_type": "markdown",
      "metadata": {
        "id": "-uKpW4_wDJD_",
        "colab_type": "text"
      },
      "source": [
        "**Checking Shape**"
      ]
    },
    {
      "cell_type": "code",
      "metadata": {
        "id": "MU8VS_ovCkb-",
        "colab_type": "code",
        "colab": {}
      },
      "source": [
        "m_train = train_set_y.shape[1]\n",
        "m_test = test_set_y.shape[1]\n",
        "num_px = train_set_x_orig.shape[1]\n",
        "\n",
        "print (\"Number of training examples: m_train = \" )\n",
        "print (\"Number of testing examples: m_test = \" )\n",
        "print (\"Height/Width of each image: num_px = \" )\n",
        "\n",
        "print (\"train_set_x shape: \" + str(train_set_x_orig.shape))\n",
        "print (\"train_set_y shape: \" + str(train_set_y.shape))\n",
        "print (\"test_set_x shape: \" + str(test_set_x_orig.shape))\n",
        "print (\"test_set_y shape: \" + str(test_set_y.shape))"
      ],
      "execution_count": 0,
      "outputs": []
    },
    {
      "cell_type": "markdown",
      "metadata": {
        "id": "0Jr5oiWBDLzt",
        "colab_type": "text"
      },
      "source": [
        "**Flatten and standardize** "
      ]
    },
    {
      "cell_type": "code",
      "metadata": {
        "id": "--2Mm4hdC3dw",
        "colab_type": "code",
        "colab": {}
      },
      "source": [
        "train_set_x_flatten = train_set_x_orig.reshape(train_set_x_orig.shape[0], -1).T\n",
        "test_set_x_flatten = test_set_x_orig.reshape(test_set_x_orig.shape[0], -1).T\n",
        "\n",
        "print (\"train_set_x_flatten shape: \" + str(train_set_x_flatten.shape))\n",
        "print (\"train_set_y shape: \" + str(train_set_y.shape))\n",
        "print (\"test_set_x_flatten shape: \" + str(test_set_x_flatten.shape))\n",
        "print (\"test_set_y shape: \" + str(test_set_y.shape))\n",
        "\n",
        "train_set_x = train_set_x_flatten / 255.\n",
        "test_set_x = test_set_x_flatten / 255."
      ],
      "execution_count": 0,
      "outputs": []
    },
    {
      "cell_type": "markdown",
      "metadata": {
        "id": "qBxJfCceDm7Q",
        "colab_type": "text"
      },
      "source": [
        "![Algorithm](https://github.com/Kulbear/deep-learning-coursera/raw/997fdb2e2db67acd45d29ae418212463a54be06d/Neural%20Networks%20and%20Deep%20Learning/images/LogReg_kiank.png)"
      ]
    },
    {
      "cell_type": "markdown",
      "metadata": {
        "id": "IhaJhldSFKdI",
        "colab_type": "text"
      },
      "source": [
        "## Model"
      ]
    },
    {
      "cell_type": "code",
      "metadata": {
        "id": "b0LMsrFhDmev",
        "colab_type": "code",
        "colab": {}
      },
      "source": [
        "def sigmoid(z):\n",
        "  pass"
      ],
      "execution_count": 0,
      "outputs": []
    },
    {
      "cell_type": "code",
      "metadata": {
        "id": "1oC5rbNoDPn7",
        "colab_type": "code",
        "colab": {}
      },
      "source": [
        "def initialize_with_zeros(dim):\n",
        "  pass"
      ],
      "execution_count": 0,
      "outputs": []
    },
    {
      "cell_type": "code",
      "metadata": {
        "id": "VgHilyEpDx7y",
        "colab_type": "code",
        "colab": {}
      },
      "source": [
        "def propagate(w, b, X, Y):\n",
        "  \n",
        "  ##Forward pass\n",
        "  \n",
        "  ##Backward (Find Gradients) dw, db\n",
        "  \n",
        "  ##\n",
        "  \n",
        "  \n",
        "  pass"
      ],
      "execution_count": 0,
      "outputs": []
    },
    {
      "cell_type": "code",
      "metadata": {
        "id": "WKdHm0N8D0t4",
        "colab_type": "code",
        "colab": {}
      },
      "source": [
        "def optimize(w, b, X, Y, num_iterations, learning_rate):\n",
        "  pass"
      ],
      "execution_count": 0,
      "outputs": []
    },
    {
      "cell_type": "markdown",
      "metadata": {
        "id": "_7SX_kOeEadr",
        "colab_type": "text"
      },
      "source": [
        "**Final Model**"
      ]
    },
    {
      "cell_type": "code",
      "metadata": {
        "id": "lDy6eSBoEBN0",
        "colab_type": "code",
        "colab": {}
      },
      "source": [
        "def model(X_train, Y_train, X_test, Y_test, num_iterations, learning_rate=0.5):\n",
        "  \n",
        "  pass"
      ],
      "execution_count": 0,
      "outputs": []
    },
    {
      "cell_type": "code",
      "metadata": {
        "id": "OV3nGMGqEhST",
        "colab_type": "code",
        "colab": {}
      },
      "source": [
        ""
      ],
      "execution_count": 0,
      "outputs": []
    }
  ]
}